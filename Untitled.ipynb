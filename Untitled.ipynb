{
 "cells": [
  {
   "cell_type": "markdown",
   "id": "95d958fe-914f-4670-abfb-b63c00ff79b7",
   "metadata": {},
   "source": [
    "# Linealidad\n",
    "\n",
    "Sea $L\\left\\{ \\cdot\\right\\}$  un operador, $f(x)$, $f_{1}\\left(x\\right)$ y $f_{2}\\left(x\\right)$ funciones de una variable $x\\in\\mathbb{R}$ (que en señales unidimensionales corresponde usualmente al tiempo), con los escalares $\\alpha\\in\\mathbb{R}$ y $\\beta\\in\\mathbb{R}$.\n",
    "\n",
    "Se dice que el operador $L$ es lineal si cumple con las propiedades de homogeneidad (también conocida como escalamiento) y superposición\n",
    "\n",
    "Homogeneidad (escalamiento)\n",
    "$$\n",
    " L\\{\\alpha f(x)\\}= \\alpha L\\{f(x)\\}\n",
    "$$\n",
    "Superposición\n",
    "$$\n",
    " L\\{f_1(x)+f_2(x)\\}= L\\{f_1(x)\\}+L\\{f_2(x)\\}\n",
    "$$\n",
    "\n",
    "Lo cual se puede resumir en una sola ecuación como:\n",
    "\n",
    "$$L\\left\\{ \\alpha f_{1}\\left(x\\right)+\\beta f_{2}\\left(x\\right)\\right\\} =\\alpha L\\left\\{ f_{1}(x)\\right\\} +\\beta L\\left\\{ f_{2}(x)\\right\\}$$"
   ]
  },
  {
   "cell_type": "markdown",
   "id": "3b4f7b85-1980-4df6-9e64-41916d4fe8b5",
   "metadata": {},
   "source": [
    "## Ejercicio\n",
    "\n",
    "  $$g(t)=u(t)^3$$"
   ]
  },
  {
   "cell_type": "markdown",
   "id": "17c9525d-b554-4c2c-bfe8-3213c10b8c15",
   "metadata": {},
   "source": [
    "$\n",
    "u( \\alpha f_{1}\\left(x\\right)+\\beta f_{2}\\left(x\\right))^3 \n",
    "$ $=?$  $L\\left\\{ \\alpha f_{1}(x)\\right\\} + L\\left\\{\\beta f_{2}(x)\\right\\}$\n",
    "\n",
    "$u( \\alpha f_{1}\\left(x\\right)+\\beta f_{2}\\left(x\\right))^3$ $=?$ $\\alpha L\\left\\{  f_{1}(x)\\right\\} + \\beta L\\left\\{ f_{2}(x)\\right\\}$\n"
   ]
  },
  {
   "cell_type": "markdown",
   "id": "9a90d06b-a917-4ebb-902f-1be26ffaffa4",
   "metadata": {},
   "source": [
    "$u\\left( \\alpha f_{1}\\left(x\\right)+\\beta f_{2}\\left(x\\right)\\right)^3$ \n",
    "$=?$\n",
    "$\\left( \\alpha f_{1}\\left(x\\right)\\right)^3$\n",
    "$ + 3 \\left(\\alpha f_{1}(x)\\right)^2  \\beta f_{2}(x)$\n",
    "$ + 3 \\alpha f_{1}(x)  \\left(\\beta f_{2}(x) \\right)^2 $\n",
    "$ + \\left(\\beta f_{2}(x)\\right)^3$"
   ]
  },
  {
   "cell_type": "code",
   "execution_count": 3,
   "id": "1843bf9c-4cdd-465b-9ecf-964f59aeaa55",
   "metadata": {},
   "outputs": [],
   "source": [
    "import numpy as np"
   ]
  },
  {
   "cell_type": "code",
   "execution_count": 5,
   "id": "90ed19e8",
   "metadata": {},
   "outputs": [
    {
     "name": "stdout",
     "output_type": "stream",
     "text": [
      "[1. 4. 5. 6.]\n",
      "4\n"
     ]
    }
   ],
   "source": [
    "x = np.array( [1 ,4,5.,6.], dtype=np.float64 )\n",
    "print(x)\n",
    "print( len( x )  )"
   ]
  }
 ],
 "metadata": {
  "kernelspec": {
   "display_name": "venv",
   "language": "python",
   "name": "python3"
  },
  "language_info": {
   "codemirror_mode": {
    "name": "ipython",
    "version": 3
   },
   "file_extension": ".py",
   "mimetype": "text/x-python",
   "name": "python",
   "nbconvert_exporter": "python",
   "pygments_lexer": "ipython3",
   "version": "3.12.3"
  }
 },
 "nbformat": 4,
 "nbformat_minor": 5
}
