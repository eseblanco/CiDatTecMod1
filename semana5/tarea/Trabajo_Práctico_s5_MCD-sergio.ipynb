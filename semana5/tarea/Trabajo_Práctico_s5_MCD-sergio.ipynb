{
 "cells": [
  {
   "cell_type": "markdown",
   "metadata": {
    "id": "GItxU96mTk16"
   },
   "source": [
    "# Matemática para Ciencia de los Datos\n",
    "# Trabajo Práctico 4\n",
    "\n",
    "Profesor: Juan Luis Crespo Mariño (basado en trabajo previo del Prof. Dr. Luis Alexánder Calvo Valverde)\n",
    "\n",
    "Instituto Tecnológico de Costa Rica,\n",
    "\n",
    "Programa Ciencia de Datos\n",
    "\n",
    "---\n",
    "\n",
    "Fecha de entrega: 19 de agosto del 2025, hora límite las 6:00 pm.\n",
    "\n",
    "Medio de entrega: Por medio del TEC-Digital.\n",
    "\n",
    "Entregables: Un archivo jupyter ( .IPYNB ).\n",
    "\n",
    "Estudiante(s):\n",
    "1. **Nombre_Estudiante_1**\n",
    "1. **Nombre_Estudiante_2**\n"
   ]
  },
  {
   "cell_type": "markdown",
   "metadata": {},
   "source": [
    "# Matemática para Ciencia de los Datos\n",
    "# Trabajo Práctico 4\n",
    "\n",
    "Profesor: Juan Luis Crespo Mariño (basado en trabajo previo del Prof. Dr. Luis Alexánder Calvo Valverde)\n",
    "\n",
    "Instituto Tecnológico de Costa Rica,\n",
    "\n",
    "Programa Ciencia de Datos\n",
    "\n",
    "---\n",
    "\n",
    "Fecha de entrega: 19 de agosto del 2025, hora límite las 6:00 pm.\n",
    "\n",
    "Medio de entrega: Por medio del TEC-Digital.\n",
    "\n",
    "Entregables: Un archivo jupyter ( .IPYNB ).\n",
    "\n",
    "Estudiante(s):\n",
    "1. **Nombre_Estudiante_1**\n",
    "1. **Nombre_Estudiante_2**\n"
   ]
  },
  {
   "cell_type": "markdown",
   "metadata": {
    "id": "tgcoZAm82q8Y"
   },
   "source": [
    "\n",
    "---\n",
    "\n",
    "## Parte 1\n",
    "\n",
    "Dada la siguiente matriz:\n",
    "\n",
    "\\begin{equation}\n",
    "A= \\begin{bmatrix}\n",
    "   1.,2. \\\\\n",
    "   3.,4.\n",
    "\\end{bmatrix}\n",
    "\\end{equation}\n",
    "\n",
    "\n"
   ]
  },
  {
   "cell_type": "markdown",
   "metadata": {
    "id": "lFwss7hSAJT3"
   },
   "source": [
    "**Ejercicio 1.1 (25 puntos)**\n",
    "\n",
    "En una celda de texto, calcule los auto-valores y deje planteada la ecuación para el cálculo de los los auto-vectores como los ejemplos vistos en clase. Debe mostrar todo el procedimiento."
   ]
  },
  {
   "cell_type": "markdown",
   "metadata": {
    "id": "tCGUhHInAJT4"
   },
   "source": [
    "\\begin{equation}\n",
    "A= \\begin{bmatrix}\n",
    "   1. & 2. \\\\\n",
    "   3. & 4.\n",
    "\\end{bmatrix}\n",
    "\n",
    "\\end{equation}\n",
    "\n",
    "\\begin{equation}\n",
    "  \\begin{bmatrix}\n",
    "   1. & 2. \\\\\n",
    "   3. & 4.\n",
    "  \\end{bmatrix}\n",
    "* \\vec{x} = 0  \\Rightarrow\n",
    "\n",
    "\\left(\n",
    "  \\begin{bmatrix}\n",
    "   1. & 2. \\\\\n",
    "   3. & 4.\n",
    "  \\end{bmatrix}\n",
    "  - \\lambda * \\large{I}\n",
    "\\right)\n",
    "* \\vec{x} = 0  \\Rightarrow\n",
    "\\end{equation}\n",
    "\n",
    "\n",
    "\\begin{equation}\n",
    "\\left(\n",
    "  \\begin{bmatrix}\n",
    "   1. & 2. \\\\\n",
    "   3. & 4.\n",
    "  \\end{bmatrix}\n",
    "  - \\lambda * \n",
    "  \\begin{bmatrix}\n",
    "   1. & 0. \\\\\n",
    "   0. & 1.\n",
    "  \\end{bmatrix}\n",
    "\\right)\n",
    "* \\vec{x} = 0  \\Rightarrow\n",
    "\n",
    "\\left(\n",
    "  \\begin{bmatrix}\n",
    "   1. & 2. \\\\\n",
    "   3. & 4.\n",
    "  \\end{bmatrix}\n",
    "  -   \n",
    "  \\begin{bmatrix}\n",
    "   \\lambda & 0. \\\\\n",
    "   0. &  \\lambda\n",
    "  \\end{bmatrix}\n",
    "\\right)\n",
    "* \\vec{x} = 0  \\Rightarrow\n",
    "\\end{equation}\n",
    "\n",
    "\n",
    "\n",
    "\\begin{equation}\n",
    "  \n",
    "  \\begin{bmatrix}\n",
    "   1-\\lambda & 2. \\\\\n",
    "   3. & 4-\\lambda\n",
    "  \\end{bmatrix}\n",
    "\n",
    "* \\vec{x} = 0    \\mid \\vec{x} \\neq 0  \\Rightarrow\n",
    "\\end{equation}\n",
    "\n",
    "\n",
    "\\begin{equation}\n",
    "  \n",
    "  \\begin{bmatrix}\n",
    "   1-\\lambda & 2. \\\\\n",
    "   3. & 4-\\lambda\n",
    "  \\end{bmatrix} = 0  \\Rightarrow  \n",
    "\n",
    "  \\begin{vmatrix}\n",
    "     1-\\lambda & 2. \\\\\n",
    "     3. & 4-\\lambda\n",
    "   \\end{vmatrix} = 0  \\Rightarrow  \n",
    "\\end{equation}\n",
    "\n",
    "\\begin{equation}\n",
    "  (1-\\lambda)(4-\\lambda) - (3 * 2)  = 0 \\Rightarrow\n",
    "   \\lambda² - 5\\lambda -2 = 0  \\Rightarrow\n",
    "\\end{equation}\n",
    "\n",
    "\\begin{equation}\n",
    "  \\lambda_1 = 5.372 \\ \\  \\& \\ \\ \\lambda_2 = −0.372\n",
    "\\end{equation}\n",
    "\n",
    "\\begin{equation}\n",
    "\n",
    "\\left(\n",
    "  \\begin{bmatrix}\n",
    "   1. & 2. \\\\\n",
    "   3. & 4.\n",
    "  \\end{bmatrix}\n",
    "  - \\lambda * \\large{I}\n",
    "\\right)\n",
    "* \\vec{x} = 0  \\Rightarrow\n",
    "\n",
    "\n",
    "  \\begin{bmatrix}\n",
    "   1. & 2. \\\\\n",
    "   3. & 4.\n",
    "  \\end{bmatrix}\n",
    "\n",
    "  \\begin{bmatrix}\n",
    "   x_1 \\\\\n",
    "   x_2 \n",
    "  \\end{bmatrix}\n",
    "\n",
    "  - \n",
    "\n",
    "  \\begin{bmatrix}\n",
    "   \\lambda & 0. \\\\\n",
    "   0. &  \\lambda\n",
    "  \\end{bmatrix}\n",
    "\n",
    "  \\begin{bmatrix}\n",
    "   x_1 \\\\\n",
    "   x_2 \n",
    "  \\end{bmatrix}\n",
    "\n",
    " = 0  \\Rightarrow\n",
    "\\end{equation}\n",
    "\n",
    "\n",
    "\n",
    "\n",
    "\\begin{equation}\n",
    "\n",
    "  \\begin{bmatrix}\n",
    "   1x_1 + 2x_2 \\\\\n",
    "   3x_1 + 4x_2.\n",
    "  \\end{bmatrix}\n",
    "  =\n",
    "\n",
    "  \\begin{bmatrix}\n",
    "   \\lambda x_1  \\\\\n",
    "   \\lambda x_2\n",
    "  \\end{bmatrix}\n",
    "\n",
    "\\end{equation}"
   ]
  },
  {
   "cell_type": "markdown",
   "metadata": {},
   "source": [
    "# Matemática para Ciencia de los Datos\n",
    "# Trabajo Práctico 4\n",
    "\n",
    "Profesor: Juan Luis Crespo Mariño (basado en trabajo previo del Prof. Dr. Luis Alexánder Calvo Valverde)\n",
    "\n",
    "Instituto Tecnológico de Costa Rica,\n",
    "\n",
    "Programa Ciencia de Datos\n",
    "\n",
    "---\n",
    "\n",
    "Fecha de entrega: 19 de agosto del 2025, hora límite las 6:00 pm.\n",
    "\n",
    "Medio de entrega: Por medio del TEC-Digital.\n",
    "\n",
    "Entregables: Un archivo jupyter ( .IPYNB ).\n",
    "\n",
    "Estudiante(s):\n",
    "1. **Nombre_Estudiante_1**\n",
    "1. **Nombre_Estudiante_2**\n"
   ]
  },
  {
   "cell_type": "markdown",
   "metadata": {
    "id": "xhrJq1ZxAJT4"
   },
   "source": [
    "**Ejercicio 1.2 (25 puntos)**\n",
    "\n",
    "En una celda de código y utilizando la función eig de numpy, calcule los auto-valores y auto-vectores y haga las operaciones en el código para mostrar que se cumple: $A\\,\\vec{x} = \\lambda\\vec{x}$ (No olvide las pequeñas posibles diferencias por precisión de la representación numérica).\n"
   ]
  },
  {
   "cell_type": "code",
   "execution_count": null,
   "metadata": {
    "id": "u4_hMBHolFBm"
   },
   "outputs": [],
   "source": []
  },
  {
   "cell_type": "markdown",
   "metadata": {
    "id": "GxgMhL8hAJT7"
   },
   "source": [
    "\n",
    "---\n",
    "\n",
    "## Parte 2\n",
    "\n",
    "\n",
    "Realice lo siguiente: **(40 puntos)**\n",
    "1. Similar a los ejemplos vistos, aplíquele la estrategia PCA a los datos en el archivo adjunto \"data_banknote_authentication.csv\" (el $Y$ corresponde a la columna llamada clase).\n",
    "1. En este caso use los tres primeros componentes principales (no dos como en el ejemplo).\n",
    "1. El ejercicio termina graficando la varianza acumulada versus los componentes principales.\n",
    "\n",
    "---\n",
    "\n"
   ]
  },
  {
   "cell_type": "code",
   "execution_count": null,
   "metadata": {
    "id": "fUSgfON2lFBm"
   },
   "outputs": [],
   "source": []
  },
  {
   "cell_type": "markdown",
   "metadata": {
    "id": "jQpXD1eLlFBm"
   },
   "source": [
    "___\n",
    "\n",
    "## Parte 3\n",
    "\n",
    "Como en el segundo gráfico del cuaderno visto en clase sobre PCA, grafique los tres mayores componentes principales utilizando la bibioteca **plotly** https://plotly.com/python/3d-scatter-plots/  **(10 puntos)**\n",
    "\n",
    "\n",
    "___"
   ]
  },
  {
   "cell_type": "code",
   "execution_count": null,
   "metadata": {
    "id": "jpgbyaWflFBm"
   },
   "outputs": [],
   "source": []
  }
 ],
 "metadata": {
  "colab": {
   "provenance": []
  },
  "kernelspec": {
   "display_name": "Python 3 (ipykernel)",
   "language": "python",
   "name": "python3"
  },
  "language_info": {
   "codemirror_mode": {
    "name": "ipython",
    "version": 3
   },
   "file_extension": ".py",
   "mimetype": "text/x-python",
   "name": "python",
   "nbconvert_exporter": "python",
   "pygments_lexer": "ipython3",
   "version": "3.12.4"
  }
 },
 "nbformat": 4,
 "nbformat_minor": 0
}
