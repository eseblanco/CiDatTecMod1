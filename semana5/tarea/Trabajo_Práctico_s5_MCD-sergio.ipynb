{
 "cells": [
  {
   "cell_type": "markdown",
   "metadata": {
    "id": "GItxU96mTk16"
   },
   "source": [
    "# Matemática para Ciencia de los Datos\n",
    "# Trabajo Práctico 4\n",
    "\n",
    "Profesor: Juan Luis Crespo Mariño (basado en trabajo previo del Prof. Dr. Luis Alexánder Calvo Valverde)\n",
    "\n",
    "Instituto Tecnológico de Costa Rica,\n",
    "\n",
    "Programa Ciencia de Datos\n",
    "\n",
    "---\n",
    "\n",
    "Fecha de entrega: 19 de agosto del 2025, hora límite las 6:00 pm.\n",
    "\n",
    "Medio de entrega: Por medio del TEC-Digital.\n",
    "\n",
    "Entregables: Un archivo jupyter ( .IPYNB ).\n",
    "\n",
    "Estudiante(s):\n",
    "1. **Nombre_Estudiante_1**\n",
    "1. **Nombre_Estudiante_2**\n"
   ]
  },
  {
   "cell_type": "markdown",
   "metadata": {},
   "source": [
    "# Matemática para Ciencia de los Datos\n",
    "# Trabajo Práctico 4\n",
    "\n",
    "Profesor: Juan Luis Crespo Mariño (basado en trabajo previo del Prof. Dr. Luis Alexánder Calvo Valverde)\n",
    "\n",
    "Instituto Tecnológico de Costa Rica,\n",
    "\n",
    "Programa Ciencia de Datos\n",
    "\n",
    "---\n",
    "\n",
    "Fecha de entrega: 19 de agosto del 2025, hora límite las 6:00 pm.\n",
    "\n",
    "Medio de entrega: Por medio del TEC-Digital.\n",
    "\n",
    "Entregables: Un archivo jupyter ( .IPYNB ).\n",
    "\n",
    "Estudiante(s):\n",
    "1. **Nombre_Estudiante_1**\n",
    "1. **Nombre_Estudiante_2**\n"
   ]
  },
  {
   "cell_type": "markdown",
   "metadata": {
    "id": "tgcoZAm82q8Y"
   },
   "source": [
    "\n",
    "---\n",
    "\n",
    "## Parte 1\n",
    "\n",
    "Dada la siguiente matriz:\n",
    "\n",
    "\\begin{equation}\n",
    "A= \\begin{bmatrix}\n",
    "   1.,2. \\\\\n",
    "   3.,4.\n",
    "\\end{bmatrix}\n",
    "\\end{equation}\n",
    "\n",
    "\n"
   ]
  },
  {
   "cell_type": "markdown",
   "metadata": {
    "id": "lFwss7hSAJT3"
   },
   "source": [
    "**Ejercicio 1.1 (25 puntos)**\n",
    "\n",
    "En una celda de texto, calcule los auto-valores y deje planteada la ecuación para el cálculo de los los auto-vectores como los ejemplos vistos en clase. Debe mostrar todo el procedimiento."
   ]
  },
  {
   "cell_type": "markdown",
   "metadata": {
    "id": "tCGUhHInAJT4"
   },
   "source": [
    "\\begin{equation}\n",
    "A= \\begin{bmatrix}\n",
    "   1. & 2. \\\\\n",
    "   3. & 4.\n",
    "\\end{bmatrix}\n",
    "\n",
    "\\end{equation}\n",
    "\n",
    "\\begin{equation}\n",
    "  \\begin{bmatrix}\n",
    "   1. & 2. \\\\\n",
    "   3. & 4.\n",
    "  \\end{bmatrix}\n",
    "* \\vec{x} = 0  \\Rightarrow\n",
    "\n",
    "\\left(\n",
    "  \\begin{bmatrix}\n",
    "   1. & 2. \\\\\n",
    "   3. & 4.\n",
    "  \\end{bmatrix}\n",
    "  - \\lambda * \\large{I}\n",
    "\\right)\n",
    "* \\vec{x} = 0  \\Rightarrow\n",
    "\\end{equation}\n",
    "\n",
    "\n",
    "\\begin{equation}\n",
    "\\left(\n",
    "  \\begin{bmatrix}\n",
    "   1. & 2. \\\\\n",
    "   3. & 4.\n",
    "  \\end{bmatrix}\n",
    "  - \\lambda * \n",
    "  \\begin{bmatrix}\n",
    "   1. & 0. \\\\\n",
    "   0. & 1.\n",
    "  \\end{bmatrix}\n",
    "\\right)\n",
    "* \\vec{x} = 0  \\Rightarrow\n",
    "\n",
    "\\left(\n",
    "  \\begin{bmatrix}\n",
    "   1. & 2. \\\\\n",
    "   3. & 4.\n",
    "  \\end{bmatrix}\n",
    "  -   \n",
    "  \\begin{bmatrix}\n",
    "   \\lambda & 0. \\\\\n",
    "   0. &  \\lambda\n",
    "  \\end{bmatrix}\n",
    "\\right)\n",
    "* \\vec{x} = 0  \\Rightarrow\n",
    "\\end{equation}\n",
    "\n",
    "\n",
    "\n",
    "\\begin{equation}\n",
    "  \n",
    "  \\begin{bmatrix}\n",
    "   1-\\lambda & 2. \\\\\n",
    "   3. & 4-\\lambda\n",
    "  \\end{bmatrix}\n",
    "\n",
    "* \\vec{x} = 0    \\mid \\vec{x} \\neq 0  \\Rightarrow\n",
    "\\end{equation}\n",
    "\n",
    "\n",
    "\\begin{equation}\n",
    "  \n",
    "  \\begin{bmatrix}\n",
    "   1-\\lambda & 2. \\\\\n",
    "   3. & 4-\\lambda\n",
    "  \\end{bmatrix} = 0  \\Rightarrow  \n",
    "\n",
    "  \\begin{vmatrix}\n",
    "     1-\\lambda & 2. \\\\\n",
    "     3. & 4-\\lambda\n",
    "   \\end{vmatrix} = 0  \\Rightarrow  \n",
    "\\end{equation}\n",
    "\n",
    "\\begin{equation}\n",
    "  (1-\\lambda)(4-\\lambda) - (3 * 2)  = 0 \\Rightarrow\n",
    "   \\lambda² - 5\\lambda -2 = 0  \\Rightarrow\n",
    "\\end{equation}\n",
    "\n",
    "\\begin{equation}\n",
    "  \\lambda_1 = 5.372 \\ \\  \\& \\ \\ \\lambda_2 = −0.372\n",
    "\\end{equation}\n",
    "\n",
    "\\begin{equation}\n",
    "\n",
    "\\left(\n",
    "  \\begin{bmatrix}\n",
    "   1. & 2. \\\\\n",
    "   3. & 4.\n",
    "  \\end{bmatrix}\n",
    "  - \\lambda * \\large{I}\n",
    "\\right)\n",
    "* \\vec{x} = 0  \\Rightarrow\n",
    "\n",
    "\n",
    "  \\begin{bmatrix}\n",
    "   1. & 2. \\\\\n",
    "   3. & 4.\n",
    "  \\end{bmatrix}\n",
    "\n",
    "  \\begin{bmatrix}\n",
    "   x_1 \\\\\n",
    "   x_2 \n",
    "  \\end{bmatrix}\n",
    "\n",
    "  - \n",
    "\n",
    "  \\begin{bmatrix}\n",
    "   \\lambda & 0. \\\\\n",
    "   0. &  \\lambda\n",
    "  \\end{bmatrix}\n",
    "\n",
    "  \\begin{bmatrix}\n",
    "   x_1 \\\\\n",
    "   x_2 \n",
    "  \\end{bmatrix}\n",
    "\n",
    " = 0  \\Rightarrow\n",
    "\\end{equation}\n",
    "\n",
    "\n",
    "\n",
    "\n",
    "\\begin{equation}\n",
    "\n",
    "  \\begin{bmatrix}\n",
    "   1x_1 + 2x_2 \\\\\n",
    "   3x_1 + 4x_2.\n",
    "  \\end{bmatrix}\n",
    "  =\n",
    "\n",
    "  \\begin{bmatrix}\n",
    "   \\lambda x_1  \\\\\n",
    "   \\lambda x_2\n",
    "  \\end{bmatrix}\n",
    "\n",
    "\\end{equation}"
   ]
  },
  {
   "cell_type": "markdown",
   "metadata": {},
   "source": [
    "# Matemática para Ciencia de los Datos\n",
    "# Trabajo Práctico 4\n",
    "\n",
    "Profesor: Juan Luis Crespo Mariño (basado en trabajo previo del Prof. Dr. Luis Alexánder Calvo Valverde)\n",
    "\n",
    "Instituto Tecnológico de Costa Rica,\n",
    "\n",
    "Programa Ciencia de Datos\n",
    "\n",
    "---\n",
    "\n",
    "Fecha de entrega: 19 de agosto del 2025, hora límite las 6:00 pm.\n",
    "\n",
    "Medio de entrega: Por medio del TEC-Digital.\n",
    "\n",
    "Entregables: Un archivo jupyter ( .IPYNB ).\n",
    "\n",
    "Estudiante(s):\n",
    "1. **Nombre_Estudiante_1**\n",
    "1. **Nombre_Estudiante_2**\n"
   ]
  },
  {
   "cell_type": "markdown",
   "metadata": {
    "id": "xhrJq1ZxAJT4"
   },
   "source": [
    "**Ejercicio 1.2 (25 puntos)**\n",
    "\n",
    "En una celda de código y utilizando la función eig de numpy, calcule los auto-valores y auto-vectores y haga las operaciones en el código para mostrar que se cumple: $A\\,\\vec{x} = \\lambda\\vec{x}$ (No olvide las pequeñas posibles diferencias por precisión de la representación numérica).\n"
   ]
  },
  {
   "cell_type": "code",
   "execution_count": null,
   "metadata": {
    "id": "u4_hMBHolFBm"
   },
   "outputs": [],
   "source": []
  },
  {
   "cell_type": "markdown",
   "metadata": {
    "id": "GxgMhL8hAJT7"
   },
   "source": [
    "\n",
    "---\n",
    "\n",
    "## Parte 2\n",
    "\n",
    "\n",
    "Realice lo siguiente: **(40 puntos)**\n",
    "1. Similar a los ejemplos vistos, aplíquele la estrategia PCA a los datos en el archivo adjunto \"data_banknote_authentication.csv\" (el $Y$ corresponde a la columna llamada clase).\n",
    "1. En este caso use los tres primeros componentes principales (no dos como en el ejemplo).\n",
    "1. El ejercicio termina graficando la varianza acumulada versus los componentes principales.\n",
    "\n",
    "---\n",
    "\n"
   ]
  },
  {
   "cell_type": "code",
   "execution_count": 24,
   "metadata": {
    "id": "fUSgfON2lFBm"
   },
   "outputs": [
    {
     "name": "stdout",
     "output_type": "stream",
     "text": [
      "Procede a la carga de datos \n",
      "\n",
      "\n",
      "(1372, 5)\n"
     ]
    }
   ],
   "source": [
    "\n",
    "import pandas as pd\n",
    "import numpy as np\n",
    "#import sklearn.datasets\n",
    "import matplotlib.pyplot as plt\n",
    "\n",
    "df = pd.read_csv('data_banknote_authentication.csv',sep=\";\")\n",
    "df2 = df.iloc[:,:-1]\n",
    "\n",
    "print(\"Procede a la carga de datos \\n\\n\")\n",
    "print(df.shape)\n"
   ]
  },
  {
   "cell_type": "code",
   "execution_count": 25,
   "metadata": {},
   "outputs": [
    {
     "name": "stdout",
     "output_type": "stream",
     "text": [
      "(1372, 2)\n",
      "0       class1\n",
      "1       class1\n",
      "2       class1\n",
      "3       class1\n",
      "4       class1\n",
      "         ...  \n",
      "1367    class2\n",
      "1368    class2\n",
      "1369    class2\n",
      "1370    class2\n",
      "1371    class2\n",
      "Name: descripcion, Length: 1372, dtype: object\n",
      "tipos de clases  ['class1' 'class2']\n"
     ]
    }
   ],
   "source": [
    "\n",
    "\n",
    "# Escalar los datos en df2\n",
    "df2_zscaled = (df2 - df2.mean()) / df2.std(ddof=1)\n",
    "\n",
    "b = df.iloc[:,-1]\n",
    "#etiquetado de cada clase\n",
    "bb = b.apply(lambda cla: 'class1' if cla == 0 else 'class2' )\n",
    "\n",
    "#unir los dos dataframes\n",
    "b_combinado = pd.concat([b, bb], axis=1)\n",
    "b_combinado.columns = ['clases','descripcion']\n",
    "print(b_combinado.shape)\n",
    "\n",
    "print(b_combinado['descripcion'])\n",
    "tiposClases = np.unique(b_combinado['descripcion'] )\n",
    "print(\"tipos de clases \" , tiposClases)\n"
   ]
  },
  {
   "cell_type": "code",
   "execution_count": 26,
   "metadata": {},
   "outputs": [
    {
     "name": "stdout",
     "output_type": "stream",
     "text": [
      "idx:  [3 2 1 0]\n",
      "\n",
      "\n",
      "idx[::-1]:  [0 1 2 3]\n",
      "\n",
      "Auto-valores:\n",
      "\n",
      "[2.17990407 1.2931549  0.35138243 0.17555859]\n",
      "\n",
      "Auto-vectores:\n",
      "\n",
      "[[-0.24877213 -0.75459093  0.60346443  0.06734722]\n",
      " [-0.6393234   0.05034037 -0.11596089 -0.75847512]\n",
      " [ 0.6127065   0.1534594   0.5096688  -0.58419061]\n",
      " [ 0.39238854 -0.6360099  -0.6021806  -0.28089352]]\n",
      "\n",
      "eigenvalues_normalized:\n",
      "\n",
      "[0.54497602 0.32328872 0.08784561 0.04388965]\n",
      "\n",
      "Varianza explicada:\n",
      "\n",
      "[0.54497602 0.86826474 0.95611035 1.        ]\n"
     ]
    }
   ],
   "source": [
    "\n",
    "# calcula los auto-valores y auto-vectores\n",
    "eigenvalues, eigenvectors = np.linalg.eig( np.cov(df2_zscaled,rowvar=False))\n",
    "\n",
    "# los normaliza\n",
    "eigenvalues_normalized = eigenvalues / eigenvalues.sum()\n",
    "# calcula la varianza explicada\n",
    "cumvar_explained = np.cumsum(eigenvalues_normalized)\n",
    "\n",
    "############################################################\n",
    "# Ordenar de mayor a menor, \n",
    "# debido a que np.linalg.eig no asegura que vengan ordenados\n",
    "idx = np.argsort(eigenvalues) \n",
    "print( \"idx: \", idx )\n",
    "idx = idx[::-1]     \n",
    "print(\"\\n\\nidx[::-1]: \", idx  )\n",
    "\n",
    "# Ordenar tanto los autovalroes como los autovectores\n",
    "eigenvectors = eigenvectors[:,idx]\n",
    "eigenvalues = eigenvalues[idx] \n",
    "\n",
    "print(\"\\nAuto-valores:\\n\")\n",
    "print(eigenvalues)\n",
    "print(\"\\nAuto-vectores:\\n\")\n",
    "print( eigenvectors)\n",
    "print(\"\\neigenvalues_normalized:\\n\")\n",
    "print(eigenvalues_normalized)\n",
    "print(\"\\nVarianza explicada:\\n\")\n",
    "print( cumvar_explained )"
   ]
  },
  {
   "cell_type": "code",
   "execution_count": 27,
   "metadata": {},
   "outputs": [
    {
     "name": "stdout",
     "output_type": "stream",
     "text": [
      "\n",
      " Parte de las muestras proyectadas \n",
      "\n",
      "        pc1       pc2       pc3       pc4  clases descripcion\n",
      "0 -1.472268 -1.163492 -0.167193 -0.325605       0      class1\n",
      "1 -1.638843 -1.093413  0.371052 -0.150809       0      class1\n",
      "2  0.513732 -1.324397  0.508926  0.425778       0      class1\n",
      "3 -2.310110 -0.202441  0.540584  0.143742       0      class1\n",
      "4  1.192981  0.024645  0.421036  0.364361       0      class1\n"
     ]
    }
   ],
   "source": [
    "\n",
    "proyeccion_data = pd.DataFrame(df2_zscaled.dot(eigenvectors))\n",
    "\n",
    "# Nombres de columnas\n",
    "proyeccion_data.columns = ['pc1', 'pc2', 'pc3', 'pc4']\n",
    "\n",
    "# agrega la etiqueta de las especies\n",
    "proyeccion_data = pd.concat([proyeccion_data, b_combinado], axis=1)\n",
    "\n",
    "print(\"\\n Parte de las muestras proyectadas \\n\")\n",
    "print(proyeccion_data.head(5))\n"
   ]
  },
  {
   "cell_type": "code",
   "execution_count": 28,
   "metadata": {},
   "outputs": [
    {
     "name": "stdout",
     "output_type": "stream",
     "text": [
      "[Empty DataFrame\n",
      "Columns: [pc1, pc2, pc3, pc4, clases, descripcion]\n",
      "Index: [], Empty DataFrame\n",
      "Columns: [pc1, pc2, pc3, pc4, clases, descripcion]\n",
      "Index: []]\n"
     ]
    },
    {
     "data": {
      "image/png": "[encoded data removed]",
      "text/plain": [
       "<Figure size 640x480 with 1 Axes>"
      ]
     },
     "metadata": {},
     "output_type": "display_data"
    }
   ],
   "source": [
    "\n",
    "las_clases = [proyeccion_data[proyeccion_data.clases=='Class1'], \n",
    "          proyeccion_data[proyeccion_data.clases=='Class2']]\n",
    "print(las_clases)\n",
    "\n",
    "# define un color por clase\n",
    "\n",
    "colors = ['#1b9e77', '#d95f02', '#7570b3']\n",
    "_, (ax1) = plt.subplots(1, sharey=False)\n",
    "\n",
    "# muestra el componente principal respecto al total de varianza en los datos\n",
    "ax1.plot([1,2,3,4],\n",
    "         eigenvalues_normalized,\n",
    "         '-o',\n",
    "         color='#8da0cb',\n",
    "         label='auto-valor (normalizado)',\n",
    "         alpha=0.8,\n",
    "         zorder=1000)\n",
    "\n",
    "ax1.plot([1,2,3,4],\n",
    "         cumvar_explained,\n",
    "         '-o',\n",
    "         color='#fc8d62',\n",
    "         label='varianza explicada',\n",
    "         alpha=0.8,\n",
    "         zorder=1000)\n",
    "\n",
    "ax1.set_xlim(0.8, 4.2)\n",
    "ax1.set_xticks([1,2,3,4])\n",
    "ax1.set_xlabel('PCA')\n",
    "ax1.set_ylabel('Varianza')\n",
    "ax1.legend(loc='center right', fontsize=7)\n",
    "ax1.grid(color='#fdfefe')\n",
    "ax1.set_facecolor('#f4f6f7')"
   ]
  },
  {
   "cell_type": "markdown",
   "metadata": {
    "id": "jQpXD1eLlFBm"
   },
   "source": [
    "___\n",
    "\n",
    "## Parte 3\n",
    "\n",
    "Como en el segundo gráfico del cuaderno visto en clase sobre PCA, grafique los tres mayores componentes principales utilizando la bibioteca **plotly** https://plotly.com/python/3d-scatter-plots/  **(10 puntos)**\n",
    "\n",
    "\n",
    "___"
   ]
  },
  {
   "cell_type": "code",
   "execution_count": 29,
   "metadata": {
    "id": "jpgbyaWflFBm"
   },
   "outputs": [
    {
     "ename": "ValueError",
     "evalue": "Value of 'color' is not the name of a column in 'data_frame'. Expected one of ['pc1', 'pc2', 'pc3', 'pc4', 'clases', 'descripcion'] but received: class",
     "output_type": "error",
     "traceback": [
      "\u001b[31m---------------------------------------------------------------------------\u001b[39m",
      "\u001b[31mValueError\u001b[39m                                Traceback (most recent call last)",
      "\u001b[36mCell\u001b[39m\u001b[36m \u001b[39m\u001b[32mIn[29]\u001b[39m\u001b[32m, line 2\u001b[39m\n\u001b[32m      1\u001b[39m \u001b[38;5;28;01mimport\u001b[39;00m\u001b[38;5;250m \u001b[39m\u001b[34;01mplotly\u001b[39;00m\u001b[34;01m.\u001b[39;00m\u001b[34;01mexpress\u001b[39;00m\u001b[38;5;250m \u001b[39m\u001b[38;5;28;01mas\u001b[39;00m\u001b[38;5;250m \u001b[39m\u001b[34;01mpx\u001b[39;00m\n\u001b[32m----> \u001b[39m\u001b[32m2\u001b[39m fig = \u001b[43mpx\u001b[49m\u001b[43m.\u001b[49m\u001b[43mscatter_3d\u001b[49m\u001b[43m(\u001b[49m\u001b[43mproyeccion_data\u001b[49m\u001b[43m,\u001b[49m\u001b[43m \u001b[49m\u001b[43mx\u001b[49m\u001b[43m=\u001b[49m\u001b[33;43m'\u001b[39;49m\u001b[33;43mpc1\u001b[39;49m\u001b[33;43m'\u001b[39;49m\u001b[43m,\u001b[49m\u001b[43m \u001b[49m\u001b[43my\u001b[49m\u001b[43m=\u001b[49m\u001b[33;43m'\u001b[39;49m\u001b[33;43mpc2\u001b[39;49m\u001b[33;43m'\u001b[39;49m\u001b[43m,\u001b[49m\u001b[43m \u001b[49m\u001b[43mz\u001b[49m\u001b[43m=\u001b[49m\u001b[33;43m'\u001b[39;49m\u001b[33;43mpc3\u001b[39;49m\u001b[33;43m'\u001b[39;49m\u001b[43m,\u001b[49m\n\u001b[32m      3\u001b[39m \u001b[43m              \u001b[49m\u001b[43mcolor\u001b[49m\u001b[43m=\u001b[49m\u001b[33;43m'\u001b[39;49m\u001b[33;43mclass\u001b[39;49m\u001b[33;43m'\u001b[39;49m\u001b[43m)\u001b[49m\n\u001b[32m      4\u001b[39m fig.show()\n\u001b[32m      6\u001b[39m \u001b[38;5;66;03m#fig = plt.figure()\u001b[39;00m\n\u001b[32m      7\u001b[39m \u001b[38;5;66;03m#ax = fig.add_subplot(projection='3d')\u001b[39;00m\n\u001b[32m      8\u001b[39m \u001b[38;5;66;03m#xs = proyeccion_data['pc1']\u001b[39;00m\n\u001b[32m   (...)\u001b[39m\u001b[32m     15\u001b[39m \u001b[38;5;66;03m#ax.set_ylabel('Y Label')\u001b[39;00m\n\u001b[32m     16\u001b[39m \u001b[38;5;66;03m#ax.set_zlabel('Z Label')\u001b[39;00m\n",
      "\u001b[36mFile \u001b[39m\u001b[32m~/Documentos/PycharmProjects/CienciaDatosTEC/venv/lib/python3.12/site-packages/plotly/express/_chart_types.py:791\u001b[39m, in \u001b[36mscatter_3d\u001b[39m\u001b[34m(data_frame, x, y, z, color, symbol, size, text, hover_name, hover_data, custom_data, error_x, error_x_minus, error_y, error_y_minus, error_z, error_z_minus, animation_frame, animation_group, category_orders, labels, size_max, color_discrete_sequence, color_discrete_map, color_continuous_scale, range_color, color_continuous_midpoint, symbol_sequence, symbol_map, opacity, log_x, log_y, log_z, range_x, range_y, range_z, title, subtitle, template, width, height)\u001b[39m\n\u001b[32m    744\u001b[39m \u001b[38;5;28;01mdef\u001b[39;00m\u001b[38;5;250m \u001b[39m\u001b[34mscatter_3d\u001b[39m(\n\u001b[32m    745\u001b[39m     data_frame=\u001b[38;5;28;01mNone\u001b[39;00m,\n\u001b[32m    746\u001b[39m     x=\u001b[38;5;28;01mNone\u001b[39;00m,\n\u001b[32m   (...)\u001b[39m\u001b[32m    785\u001b[39m     height=\u001b[38;5;28;01mNone\u001b[39;00m,\n\u001b[32m    786\u001b[39m ) -> go.Figure:\n\u001b[32m    787\u001b[39m \u001b[38;5;250m    \u001b[39m\u001b[33;03m\"\"\"\u001b[39;00m\n\u001b[32m    788\u001b[39m \u001b[33;03m    In a 3D scatter plot, each row of `data_frame` is represented by a\u001b[39;00m\n\u001b[32m    789\u001b[39m \u001b[33;03m    symbol mark in 3D space.\u001b[39;00m\n\u001b[32m    790\u001b[39m \u001b[33;03m    \"\"\"\u001b[39;00m\n\u001b[32m--> \u001b[39m\u001b[32m791\u001b[39m     \u001b[38;5;28;01mreturn\u001b[39;00m \u001b[43mmake_figure\u001b[49m\u001b[43m(\u001b[49m\u001b[43margs\u001b[49m\u001b[43m=\u001b[49m\u001b[38;5;28;43mlocals\u001b[39;49m\u001b[43m(\u001b[49m\u001b[43m)\u001b[49m\u001b[43m,\u001b[49m\u001b[43m \u001b[49m\u001b[43mconstructor\u001b[49m\u001b[43m=\u001b[49m\u001b[43mgo\u001b[49m\u001b[43m.\u001b[49m\u001b[43mScatter3d\u001b[49m\u001b[43m)\u001b[49m\n",
      "\u001b[36mFile \u001b[39m\u001b[32m~/Documentos/PycharmProjects/CienciaDatosTEC/venv/lib/python3.12/site-packages/plotly/express/_core.py:2491\u001b[39m, in \u001b[36mmake_figure\u001b[39m\u001b[34m(args, constructor, trace_patch, layout_patch)\u001b[39m\n\u001b[32m   2488\u001b[39m layout_patch = layout_patch \u001b[38;5;129;01mor\u001b[39;00m {}\n\u001b[32m   2489\u001b[39m apply_default_cascade(args)\n\u001b[32m-> \u001b[39m\u001b[32m2491\u001b[39m args = \u001b[43mbuild_dataframe\u001b[49m\u001b[43m(\u001b[49m\u001b[43margs\u001b[49m\u001b[43m,\u001b[49m\u001b[43m \u001b[49m\u001b[43mconstructor\u001b[49m\u001b[43m)\u001b[49m\n\u001b[32m   2492\u001b[39m \u001b[38;5;28;01mif\u001b[39;00m constructor \u001b[38;5;129;01min\u001b[39;00m [go.Treemap, go.Sunburst, go.Icicle] \u001b[38;5;129;01mand\u001b[39;00m args[\u001b[33m\"\u001b[39m\u001b[33mpath\u001b[39m\u001b[33m\"\u001b[39m] \u001b[38;5;129;01mis\u001b[39;00m \u001b[38;5;129;01mnot\u001b[39;00m \u001b[38;5;28;01mNone\u001b[39;00m:\n\u001b[32m   2493\u001b[39m     args = process_dataframe_hierarchy(args)\n",
      "\u001b[36mFile \u001b[39m\u001b[32m~/Documentos/PycharmProjects/CienciaDatosTEC/venv/lib/python3.12/site-packages/plotly/express/_core.py:1737\u001b[39m, in \u001b[36mbuild_dataframe\u001b[39m\u001b[34m(args, constructor)\u001b[39m\n\u001b[32m   1734\u001b[39m     args[\u001b[33m\"\u001b[39m\u001b[33mcolor\u001b[39m\u001b[33m\"\u001b[39m] = \u001b[38;5;28;01mNone\u001b[39;00m\n\u001b[32m   1735\u001b[39m \u001b[38;5;66;03m# now that things have been prepped, we do the systematic rewriting of `args`\u001b[39;00m\n\u001b[32m-> \u001b[39m\u001b[32m1737\u001b[39m df_output, wide_id_vars = \u001b[43mprocess_args_into_dataframe\u001b[49m\u001b[43m(\u001b[49m\n\u001b[32m   1738\u001b[39m \u001b[43m    \u001b[49m\u001b[43margs\u001b[49m\u001b[43m,\u001b[49m\n\u001b[32m   1739\u001b[39m \u001b[43m    \u001b[49m\u001b[43mwide_mode\u001b[49m\u001b[43m,\u001b[49m\n\u001b[32m   1740\u001b[39m \u001b[43m    \u001b[49m\u001b[43mvar_name\u001b[49m\u001b[43m,\u001b[49m\n\u001b[32m   1741\u001b[39m \u001b[43m    \u001b[49m\u001b[43mvalue_name\u001b[49m\u001b[43m,\u001b[49m\n\u001b[32m   1742\u001b[39m \u001b[43m    \u001b[49m\u001b[43mis_pd_like\u001b[49m\u001b[43m,\u001b[49m\n\u001b[32m   1743\u001b[39m \u001b[43m    \u001b[49m\u001b[43mnative_namespace\u001b[49m\u001b[43m,\u001b[49m\n\u001b[32m   1744\u001b[39m \u001b[43m\u001b[49m\u001b[43m)\u001b[49m\n\u001b[32m   1745\u001b[39m df_output: nw.DataFrame\n\u001b[32m   1746\u001b[39m \u001b[38;5;66;03m# now that `df_output` exists and `args` contains only references, we complete\u001b[39;00m\n\u001b[32m   1747\u001b[39m \u001b[38;5;66;03m# the special-case and wide-mode handling by further rewriting args and/or mutating\u001b[39;00m\n\u001b[32m   1748\u001b[39m \u001b[38;5;66;03m# df_output\u001b[39;00m\n",
      "\u001b[36mFile \u001b[39m\u001b[32m~/Documentos/PycharmProjects/CienciaDatosTEC/venv/lib/python3.12/site-packages/plotly/express/_core.py:1338\u001b[39m, in \u001b[36mprocess_args_into_dataframe\u001b[39m\u001b[34m(args, wide_mode, var_name, value_name, is_pd_like, native_namespace)\u001b[39m\n\u001b[32m   1336\u001b[39m         \u001b[38;5;28;01mif\u001b[39;00m argument == \u001b[33m\"\u001b[39m\u001b[33mindex\u001b[39m\u001b[33m\"\u001b[39m:\n\u001b[32m   1337\u001b[39m             err_msg += \u001b[33m\"\u001b[39m\u001b[38;5;130;01m\\n\u001b[39;00m\u001b[33m To use the index, pass it in directly as `df.index`.\u001b[39m\u001b[33m\"\u001b[39m\n\u001b[32m-> \u001b[39m\u001b[32m1338\u001b[39m         \u001b[38;5;28;01mraise\u001b[39;00m \u001b[38;5;167;01mValueError\u001b[39;00m(err_msg)\n\u001b[32m   1339\u001b[39m \u001b[38;5;28;01melif\u001b[39;00m length \u001b[38;5;129;01mand\u001b[39;00m (actual_len := \u001b[38;5;28mlen\u001b[39m(df_input)) != length:\n\u001b[32m   1340\u001b[39m     \u001b[38;5;28;01mraise\u001b[39;00m \u001b[38;5;167;01mValueError\u001b[39;00m(\n\u001b[32m   1341\u001b[39m         \u001b[33m\"\u001b[39m\u001b[33mAll arguments should have the same length. \u001b[39m\u001b[33m\"\u001b[39m\n\u001b[32m   1342\u001b[39m         \u001b[33m\"\u001b[39m\u001b[33mThe length of column argument `df[\u001b[39m\u001b[38;5;132;01m%s\u001b[39;00m\u001b[33m]` is \u001b[39m\u001b[38;5;132;01m%d\u001b[39;00m\u001b[33m, whereas the \u001b[39m\u001b[33m\"\u001b[39m\n\u001b[32m   (...)\u001b[39m\u001b[32m   1349\u001b[39m         )\n\u001b[32m   1350\u001b[39m     )\n",
      "\u001b[31mValueError\u001b[39m: Value of 'color' is not the name of a column in 'data_frame'. Expected one of ['pc1', 'pc2', 'pc3', 'pc4', 'clases', 'descripcion'] but received: class"
     ]
    }
   ],
   "source": [
    "import plotly.express as px\n",
    "fig = px.scatter_3d(proyeccion_data, x='pc1', y='pc2', z='pc3',\n",
    "              color='class')\n",
    "fig.show()\n",
    "\n",
    "#fig = plt.figure()\n",
    "#ax = fig.add_subplot(projection='3d')\n",
    "#xs = proyeccion_data['pc1']\n",
    "#ys = proyeccion_data['pc2']\n",
    "#zs = proyeccion_data['pc3']\n",
    "\n",
    "#ax.scatter(xs, ys, zs )\n",
    "\n",
    "#ax.set_xlabel('X Label')\n",
    "#ax.set_ylabel('Y Label')\n",
    "#ax.set_zlabel('Z Label')"
   ]
  }
 ],
 "metadata": {
  "colab": {
   "provenance": []
  },
  "kernelspec": {
   "display_name": "venv (3.12.3)",
   "language": "python",
   "name": "python3"
  },
  "language_info": {
   "codemirror_mode": {
    "name": "ipython",
    "version": 3
   },
   "file_extension": ".py",
   "mimetype": "text/x-python",
   "name": "python",
   "nbconvert_exporter": "python",
   "pygments_lexer": "ipython3",
   "version": "3.12.3"
  }
 },
 "nbformat": 4,
 "nbformat_minor": 0
}
