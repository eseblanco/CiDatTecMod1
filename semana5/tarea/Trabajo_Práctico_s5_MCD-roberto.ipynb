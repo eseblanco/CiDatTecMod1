{
 "cells": [
  {
   "cell_type": "markdown",
   "metadata": {
    "id": "GItxU96mTk16"
   },
   "source": [
    "# Matemática para Ciencia de los Datos\n",
    "# Trabajo Práctico 4\n",
    "\n",
    "Profesor: Juan Luis Crespo Mariño (basado en trabajo previo del Prof. Dr. Luis Alexánder Calvo Valverde)\n",
    "\n",
    "Instituto Tecnológico de Costa Rica,\n",
    "\n",
    "Programa Ciencia de Datos\n",
    "\n",
    "---\n",
    "\n",
    "Fecha de entrega: 19 de agosto del 2025, hora límite las 6:00 pm.\n",
    "\n",
    "Medio de entrega: Por medio del TEC-Digital.\n",
    "\n",
    "Entregables: Un archivo jupyter ( .IPYNB ).\n",
    "\n",
    "Estudiante(s):\n",
    "1. **Nombre_Estudiante_1**\n",
    "1. **Nombre_Estudiante_2**\n"
   ]
  },
  {
   "cell_type": "markdown",
   "metadata": {},
   "source": [
    "# Matemática para Ciencia de los Datos\n",
    "# Trabajo Práctico 4\n",
    "\n",
    "Profesor: Juan Luis Crespo Mariño (basado en trabajo previo del Prof. Dr. Luis Alexánder Calvo Valverde)\n",
    "\n",
    "Instituto Tecnológico de Costa Rica,\n",
    "\n",
    "Programa Ciencia de Datos\n",
    "\n",
    "---\n",
    "\n",
    "Fecha de entrega: 19 de agosto del 2025, hora límite las 6:00 pm.\n",
    "\n",
    "Medio de entrega: Por medio del TEC-Digital.\n",
    "\n",
    "Entregables: Un archivo jupyter ( .IPYNB ).\n",
    "\n",
    "Estudiante(s):\n",
    "1. **Nombre_Estudiante_1**\n",
    "1. **Nombre_Estudiante_2**\n"
   ]
  },
  {
   "cell_type": "markdown",
   "metadata": {
    "id": "tgcoZAm82q8Y"
   },
   "source": [
    "\n",
    "---\n",
    "\n",
    "## Parte 1\n",
    "\n",
    "Dada la siguiente matriz:\n",
    "\n",
    "\\begin{equation}\n",
    "A= \\begin{bmatrix}\n",
    "   1.,2. \\\\\n",
    "   3.,4.\n",
    "\\end{bmatrix}\n",
    "\\end{equation}\n",
    "\n",
    "\n"
   ]
  },
  {
   "cell_type": "markdown",
   "metadata": {
    "id": "lFwss7hSAJT3"
   },
   "source": [
    "**Ejercicio 1.1 (25 puntos)**\n",
    "\n",
    "En una celda de texto, calcule los auto-valores y deje planteada la ecuación para el cálculo de los los auto-vectores como los ejemplos vistos en clase. Debe mostrar todo el procedimiento."
   ]
  },
  {
   "cell_type": "markdown",
   "metadata": {
    "id": "tCGUhHInAJT4"
   },
   "source": [
    "$$\n",
    "A = \\begin{pmatrix} 1 & 2 \\\\ 3 & 4 \\end{pmatrix},\n",
    "\\quad\n",
    "A - \\lambda I = \n",
    "\\begin{pmatrix} 1 & 2 \\\\ 3 & 4 \\end{pmatrix} \n",
    "- \\lambda \\begin{pmatrix} 1 & 0 \\\\ 0 & 1 \\end{pmatrix} \n",
    "= \\begin{pmatrix} 1 - \\lambda & 2 \\\\ 3 & 4 - \\lambda \\end{pmatrix}\n",
    "$$\n",
    "\n",
    "$$\n",
    "\\left| \\begin{matrix} 1 - \\lambda & 2 \\\\ 3 & 4 - \\lambda \\end{matrix} \\right| = 0\n",
    "\\quad\\Rightarrow\\quad\n",
    "(1 - \\lambda)(4 - \\lambda) - 6 = 0\n",
    "$$\n",
    "\n",
    "$$\n",
    "4 - \\lambda - 4\\lambda + \\lambda^2 - 6 = 0\n",
    "\\quad\\Rightarrow\\quad\n",
    "\\lambda^2 - 5\\lambda - 2 = 0\n",
    "$$\n",
    "\n",
    "<div align=\"center\">Es una ecuación cuadrática</div>\n",
    "\n",
    "$$\n",
    "a\\lambda^2 + b\\lambda + c = 0 \n",
    "\\quad\\Rightarrow\\quad \n",
    "\\lambda = \\frac{-b \\pm \\sqrt{b^2 - 4ac}}{2a}\n",
    "$$\n",
    "\n",
    "$$\n",
    "\\lambda = \\frac{5 \\pm \\sqrt{25 + 8}}{2}\n",
    "\\quad\\Rightarrow\\quad\n",
    "\\lambda_1 = \\frac{5 + \\sqrt{33}}{2},\\quad\n",
    "\\lambda_2 = \\frac{5 - \\sqrt{33}}{2}\n",
    "$$\n",
    "\n",
    "Lo siguiente fue hecho por mi compañero Sergio:\n",
    "\n",
    "\\begin{equation}\n",
    "\n",
    "\\left(\n",
    "  \\begin{bmatrix}\n",
    "   1. & 2. \\\\\n",
    "   3. & 4.\n",
    "  \\end{bmatrix}\n",
    "  - \\lambda * \\large{I}\n",
    "\\right)\n",
    "* \\vec{x} = 0  \\Rightarrow\n",
    "\n",
    "\n",
    "\\begin{bmatrix}\n",
    "1. & 2. \\\\\n",
    "3. & 4.\n",
    "\\end{bmatrix}\n",
    "\n",
    "\\begin{bmatrix}\n",
    "x_1 \\\\\n",
    "x_2 \n",
    "\\end{bmatrix}\n",
    "\n",
    "- \n",
    "\n",
    "\\begin{bmatrix}\n",
    "\\lambda & 0. \\\\\n",
    "0. &  \\lambda\n",
    "\\end{bmatrix}\n",
    "\n",
    "\\begin{bmatrix}\n",
    "x_1 \\\\\n",
    "x_2 \n",
    "\\end{bmatrix}\n",
    "\n",
    " = 0  \\Rightarrow\n",
    "\\end{equation}\n",
    "\n",
    "\n",
    "\n",
    "\n",
    "\\begin{equation}\n",
    "\n",
    "  \\begin{bmatrix}\n",
    "   1x_1 + 2x_2 \\\\\n",
    "   3x_1 + 4x_2.\n",
    "  \\end{bmatrix}\n",
    "  =\n",
    "\n",
    "  \\begin{bmatrix}\n",
    "   \\lambda x_1  \\\\\n",
    "   \\lambda x_2\n",
    "  \\end{bmatrix}\n",
    "\n",
    "\\end{equation}"
   ]
  },
  {
   "cell_type": "markdown",
   "metadata": {
    "id": "xhrJq1ZxAJT4"
   },
   "source": [
    "**Ejercicio 1.2 (25 puntos)**\n",
    "\n",
    "En una celda de código y utilizando la función eig de numpy, calcule los auto-valores y auto-vectores y haga las operaciones en el código para mostrar que se cumple: $A\\,\\vec{x} = \\lambda\\vec{x}$ (No olvide las pequeñas posibles diferencias por precisión de la representación numérica).\n"
   ]
  },
  {
   "cell_type": "code",
   "execution_count": 1,
   "metadata": {
    "id": "u4_hMBHolFBm"
   },
   "outputs": [
    {
     "name": "stdout",
     "output_type": "stream",
     "text": [
      "===================================================\n",
      "A:\n",
      "[[1 2]\n",
      " [3 4]]\n",
      "l-autovalores: \n",
      "[-0.37228132  5.37228132]\n",
      "x-autovectores: (Note que vienen normalizados)\n",
      "[[-0.82456484 -0.41597356]\n",
      " [ 0.56576746 -0.90937671]]\n",
      "Prueba de resultados\n",
      "A*x:\n",
      "[[ 0.30697009 -2.23472698]\n",
      " [-0.21062466 -4.88542751]]\n",
      "l*x: \n",
      "[[ 0.30697009 -2.23472698]\n",
      " [-0.21062466 -4.88542751]]\n"
     ]
    }
   ],
   "source": [
    "import numpy as np\n",
    "from numpy import linalg as LA\n",
    "# https://docs.scipy.org/doc/numpy/reference/generated/numpy.linalg.eig.html#numpy.linalg.eig\n",
    "\n",
    "def calcule(A):\n",
    "    print(\"===================================================\")\n",
    "    print(\"A:\")\n",
    "    print(A)\n",
    "    l, x = LA.eig(A)\n",
    "    print(\"l-autovalores: \")\n",
    "    print(l)\n",
    "    print(\"x-autovectores: (Note que vienen normalizados)\")\n",
    "    print(x)\n",
    "    # Prueba\n",
    "    print(\"Prueba de resultados\")\n",
    "\n",
    "    print(\"A*x:\")\n",
    "    print(np.matmul(A,x))\n",
    "    print(\"l*x: \")\n",
    "    # en x los auto-vectores son columnas, por eso para multiplicarlos por los\n",
    "    # auto-valores respectivos se hace este código y se genera una matriz ya\n",
    "    # multiplicado cada auto-valor por su respectivo auto-vector\n",
    "    result = []\n",
    "    for i in range(len(l)):\n",
    "        columna = l[i]*x[:,i]\n",
    "        result.append(columna)\n",
    "    # se transpone porque result quedó con los vectores en forma de fila y son\n",
    "    # vectores columna (auto-vectores)\n",
    "    result = np.array(result).transpose()\n",
    "    print(result)\n",
    "\n",
    "A = np.array([[1, 2], [3, 4]])\n",
    "calcule(A)"
   ]
  },
  {
   "cell_type": "markdown",
   "metadata": {
    "id": "GxgMhL8hAJT7"
   },
   "source": [
    "\n",
    "---\n",
    "\n",
    "## Parte 2\n",
    "\n",
    "\n",
    "Realice lo siguiente: **(40 puntos)**\n",
    "1. Similar a los ejemplos vistos, aplíquele la estrategia PCA a los datos en el archivo adjunto \"data_banknote_authentication.csv\" (el $Y$ corresponde a la columna llamada clase).\n",
    "1. En este caso use los tres primeros componentes principales (no dos como en el ejemplo).\n",
    "1. El ejercicio termina graficando la varianza acumulada versus los componentes principales.\n",
    "\n",
    "---\n",
    "\n"
   ]
  },
  {
   "cell_type": "code",
   "execution_count": 1,
   "metadata": {
    "id": "fUSgfON2lFBm"
   },
   "outputs": [],
   "source": [
    "%matplotlib inline\n",
    "\n",
    "import pandas as pd\n",
    "import numpy as np\n",
    "import matplotlib.pyplot as plt\n",
    "\n",
    "plt.rcParams['figure.figsize'] = [8, 4]"
   ]
  },
  {
   "cell_type": "code",
   "execution_count": 2,
   "metadata": {},
   "outputs": [
    {
     "name": "stdout",
     "output_type": "stream",
     "text": [
      "X shape: (1372, 4)\n",
      "   varianceofWavelet  skewnessofWavelet  curtosisofWavelet  entropyofimage\n",
      "0            3.62160             8.6661            -2.8073        -0.44699\n",
      "1            4.54590             8.1674            -2.4586        -1.46210\n",
      "2            3.86600            -2.6383             1.9242         0.10645\n",
      "3            3.45660             9.5228            -4.0112        -3.59440\n",
      "4            0.32924            -4.4552             4.5718        -0.98880 \n",
      "\n",
      "Y shape: (1372, 1)\n",
      "   class\n",
      "0      0\n",
      "1      0\n",
      "2      0\n",
      "3      0\n",
      "4      0\n",
      "Tipos de clases:  [0 1]\n",
      "\n",
      "\n",
      " X escalado a promedio 0:\n",
      "   varianceofWavelet  skewnessofWavelet  curtosisofWavelet  entropyofimage\n",
      "0           1.121397           1.149036          -0.975614        0.354432\n",
      "1           1.446538           1.064065          -0.894710       -0.128721\n",
      "2           1.207369          -0.777069           0.122174        0.617848\n"
     ]
    }
   ],
   "source": [
    "# carga un dataset\n",
    "archivo = \"data_banknote_authentication.csv\"\n",
    "df = pd.read_csv(archivo, delimiter=';')\n",
    "X = df.iloc[:, 0:4]\n",
    "Y = df.iloc[:, -1:]\n",
    "\n",
    "print(\"X shape:\", X.shape)\n",
    "print(X.head(), \"\\n\")\n",
    "\n",
    "print(\"Y shape:\", Y.shape)\n",
    "print(Y.head())\n",
    "\n",
    "# Escalar los datos en X\n",
    "X_zscaled = (X - X.mean()) / X.std(ddof=1)\n",
    "\n",
    "tiposDeClases = np.unique(Y['class'] )\n",
    "print(\"Tipos de clases: \", tiposDeClases)\n",
    "print(\"\\n\\n X escalado a promedio 0:\")\n",
    "print(X_zscaled[0:3])"
   ]
  },
  {
   "cell_type": "code",
   "execution_count": 3,
   "metadata": {},
   "outputs": [
    {
     "name": "stdout",
     "output_type": "stream",
     "text": [
      "idx:  [3 2 1 0]\n",
      "\n",
      "\n",
      "idx[::-1]:  [0 1 2 3]\n",
      "Auto-valores:\n",
      "[2.17990407 1.2931549  0.35138243 0.17555859]\n",
      "Auto-vectores:\n",
      "[[-0.24877213 -0.75459093  0.60346443  0.06734722]\n",
      " [-0.6393234   0.05034037 -0.11596089 -0.75847512]\n",
      " [ 0.6127065   0.1534594   0.5096688  -0.58419061]\n",
      " [ 0.39238854 -0.6360099  -0.6021806  -0.28089352]]\n",
      "eigenvalues_normalized:\n",
      "[0.54497602 0.32328872 0.08784561 0.04388965]\n",
      "Varianza explicada:\n",
      "[0.54497602 0.86826474 0.95611035 1.        ]\n"
     ]
    }
   ],
   "source": [
    "# calcula los auto-valores y auto-vectores\n",
    "eigenvalues, eigenvectors = np.linalg.eig(np.cov(X_zscaled,rowvar=False))\n",
    "'''\n",
    "Para np.cov\n",
    "rowvar : [bool, optional] If rowvar is True (default), then each row represents a\n",
    "variable, with observations in the columns. Otherwise, the relationship is transposed\n",
    "'''\n",
    "# los normaliza\n",
    "eigenvalues_normalized = eigenvalues / eigenvalues.sum()\n",
    "# calcula la varianza explicada\n",
    "cumvar_explained = np.cumsum(eigenvalues_normalized)\n",
    "\n",
    "############################################################\n",
    "# Ordenar de mayor a menor, \n",
    "# debido a que np.linalg.eig no asegura que vengan ordenados\n",
    "idx = np.argsort(eigenvalues) \n",
    "print( \"idx: \", idx )\n",
    "idx = idx[::-1]     \n",
    "print(\"\\n\\nidx[::-1]: \", idx  )\n",
    "\n",
    "# Ordenar tanto los autovalroes como los autovectores\n",
    "eigenvectors = eigenvectors[:,idx]\n",
    "eigenvalues = eigenvalues[idx] \n",
    "\n",
    "\n",
    "print(\"Auto-valores:\")\n",
    "print(eigenvalues)\n",
    "print(\"Auto-vectores:\")\n",
    "print( eigenvectors)\n",
    "print(\"eigenvalues_normalized:\")\n",
    "print(eigenvalues_normalized)\n",
    "print(\"Varianza explicada:\")\n",
    "print( cumvar_explained )\n"
   ]
  },
  {
   "cell_type": "code",
   "execution_count": 4,
   "metadata": {},
   "outputs": [
    {
     "name": "stdout",
     "output_type": "stream",
     "text": [
      "Parte de las muestras proyectadas\n",
      "        pc1       pc2       pc3       pc4  class\n",
      "0 -1.472268 -1.163492 -0.167193 -0.325605      0\n",
      "1 -1.638843 -1.093413  0.371052 -0.150809      0\n",
      "2  0.513732 -1.324397  0.508926  0.425778      0\n",
      "3 -2.310110 -0.202441  0.540584  0.143742      0\n",
      "4  1.192981  0.024645  0.421036  0.364361      0\n",
      "(1372, 5)\n"
     ]
    }
   ],
   "source": [
    "# Proyecta los datos y los grafica\n",
    "T = pd.DataFrame(X_zscaled.dot(eigenvectors))\n",
    "\n",
    "# Nombres de columnas\n",
    "T.columns = ['pc1', 'pc2', 'pc3', 'pc4']\n",
    "\n",
    "# agrega la etiqueta de las especies\n",
    "T = pd.concat([T, Y['class']], axis=1)\n",
    "\n",
    "print(\"Parte de las muestras proyectadas\")\n",
    "print(T.head(5))\n",
    "print(T.shape)"
   ]
  },
  {
   "cell_type": "code",
   "execution_count": 5,
   "metadata": {},
   "outputs": [
    {
     "data": {
      "image/png": "[encoded data removed]",
      "text/plain": [
       "<Figure size 800x400 with 1 Axes>"
      ]
     },
     "metadata": {},
     "output_type": "display_data"
    }
   ],
   "source": [
    "#########################################\n",
    "# Primer gráfico\n",
    "#########################################\n",
    "# define un color por especie\n",
    "colors = ['#1b9e77', '#d95f02', '#7570b3']\n",
    "\n",
    "_, (ax1) = plt.subplots(1, sharey=False)\n",
    "\n",
    "# muestra el componente principal respecto al total de varianza en los datos\n",
    "ax1.plot([1,2,3,4],\n",
    "         eigenvalues_normalized,\n",
    "         '-o',\n",
    "         color='#8da0cb',\n",
    "         label='auto-valor (normalizado)',\n",
    "         alpha=0.8,\n",
    "         zorder=1000)\n",
    "\n",
    "ax1.plot([1,2,3,4],\n",
    "         cumvar_explained,\n",
    "         '-o',\n",
    "         color='#fc8d62',\n",
    "         label='varianza explicada',\n",
    "         alpha=0.8,\n",
    "         zorder=1000)\n",
    "\n",
    "ax1.set_xlim(0.8, 4.2)\n",
    "ax1.set_xticks([1,2,3,4])\n",
    "ax1.set_xlabel('PCA')\n",
    "ax1.set_ylabel('Varianza')\n",
    "ax1.legend(loc='center right', fontsize=7)\n",
    "ax1.grid(color='#fdfefe')\n",
    "ax1.set_facecolor('#f4f6f7')"
   ]
  },
  {
   "cell_type": "markdown",
   "metadata": {
    "id": "jQpXD1eLlFBm"
   },
   "source": [
    "___\n",
    "\n",
    "## Parte 3\n",
    "\n",
    "Como en el segundo gráfico del cuaderno visto en clase sobre PCA, grafique los tres mayores componentes principales utilizando la bibioteca **plotly** https://plotly.com/python/3d-scatter-plots/  **(10 puntos)**\n",
    "\n",
    "\n",
    "___"
   ]
  },
  {
   "cell_type": "code",
   "execution_count": null,
   "metadata": {
    "id": "jpgbyaWflFBm"
   },
   "outputs": [
    {
     "data": {
      "application/vnd.plotly.v1+json": {
       "config": {
        "plotlyServerURL": "https://plot.ly"
       },
       "data": [
        {
         "hovertemplate": "pc1=%{x}<br>pc2=%{y}<br>pc3=%{z}<br>class=%{marker.color}<extra></extra>",
         "legendgroup": "",
         "marker": {
          "color": {
           "bdata": "AAAAAAAAAAAAAAAAAAAAAAAAAAAAAAAAAAAAAAAAAAAAAAAAAAAAAAAAAAAAAAAAAAAAAAAAAAAAAAAAAAAAAAAAAAAAAAAAAAAAAAAAAAAAAAAAAAAAAAAAAAAAAAAAAAAAAAAAAAAAAAAAAAAAAAAAAAAAAAAAAAAAAAAAAAAAAAAAAAAAAAAAAAAAAAAAAAAAAAAAAAAAAAAAAAAAAAAAAAAAAAAAAAAAAAAAAAAAAAAAAAAAAAAAAAAAAAAAAAAAAAAAAAAAAAAAAAAAAAAAAAAAAAAAAAAAAAAAAAAAAAAAAAAAAAAAAAAAAAAAAAAAAAAAAAAAAAAAAAAAAAAAAAAAAAAAAAAAAAAAAAAAAAAAAAAAAAAAAAAAAAAAAAAAAAAAAAAAAAAAAAAAAAAAAAAAAAAAAAAAAAAAAAAAAAAAAAAAAAAAAAAAAAAAAAAAAAAAAAAAAAAAAAAAAAAAAAAAAAAAAAAAAAAAAAAAAAAAAAAAAAAAAAAAAAAAAAAAAAAAAAAAAAAAAAAAAAAAAAAAAAAAAAAAAAAAAAAAAAAAAAAAAAAAAAAAAAAAAAAAAAAAAAAAAAAAAAAAAAAAAAAAAAAAAAAAAAAAAAAAAAAAAAAAAAAAAAAAAAAAAAAAAAAAAAAAAAAAAAAAAAAAAAAAAAAAAAAAAAAAAAAAAAAAAAAAAAAAAAAAAAAAAAAAAAAAAAAAAAAAAAAAAAAAAAAAAAAAAAAAAAAAAAAAAAAAAAAAAAAAAAAAAAAAAAAAAAAAAAAAAAAAAAAAAAAAAAAAAAAAAAAAAAAAAAAAAAAAAAAAAAAAAAAAAAAAAAAAAAAAAAAAAAAAAAAAAAAAAAAAAAAAAAAAAAAAAAAAAAAAAAAAAAAAAAAAAAAAAAAAAAAAAAAAAAAAAAAAAAAAAAAAAAAAAAAAAAAAAAAAAAAAAAAAAAAAAAAAAAAAAAAAAAAAAAAAAAAAAAAAAAAAAAAAAAAAAAAAAAAAAAAAAAAAAAAAAAAAAQEBAQEBAQEBAQEBAQEBAQEBAQEBAQEBAQEBAQEBAQEBAQEBAQEBAQEBAQEBAQEBAQEBAQEBAQEBAQEBAQEBAQEBAQEBAQEBAQEBAQEBAQEBAQEBAQEBAQEBAQEBAQEBAQEBAQEBAQEBAQEBAQEBAQEBAQEBAQEBAQEBAQEBAQEBAQEBAQEBAQEBAQEBAQEBAQEBAQEBAQEBAQEBAQEBAQEBAQEBAQEBAQEBAQEBAQEBAQEBAQEBAQEBAQEBAQEBAQEBAQEBAQEBAQEBAQEBAQEBAQEBAQEBAQEBAQEBAQEBAQEBAQEBAQEBAQEBAQEBAQEBAQEBAQEBAQEBAQEBAQEBAQEBAQEBAQEBAQEBAQEBAQEBAQEBAQEBAQEBAQEBAQEBAQEBAQEBAQEBAQEBAQEBAQEBAQEBAQEBAQEBAQEBAQEBAQEBAQEBAQEBAQEBAQEBAQEBAQEBAQEBAQEBAQEBAQEBAQEBAQEBAQEBAQEBAQEBAQEBAQEBAQEBAQEBAQEBAQEBAQEBAQEBAQEBAQEBAQEBAQEBAQEBAQEBAQEBAQEBAQEBAQEBAQEBAQEBAQEBAQEBAQEBAQEBAQEBAQEBAQEBAQEBAQEBAQEBAQEBAQEBAQEBAQEBAQEBAQEBAQEBAQEBAQEBAQEBAQEBAQEBAQEBAQEBAQEBAQEBAQEBAQEBAQEBAQEBAQEBAQEBAQEBAQEBAQEBAQEBAQEBAQEBAQEBAQEBAQEBAQEBAQEBAQEBAQEBAQEBAQEBAQEBAQEBAQEBAQEBAQEBAQEBAQEBAQEBAQEBAQEBAQEBAQEBAQ==",
           "dtype": "i1"
          },
          "coloraxis": "coloraxis",
          "symbol": "circle"
         },
         "mode": "markers",
         "name": "",
         "scene": "scene",
         "showlegend": false,
         "type": "scatter3d",
         "x": {
          "bdata": "zVyy/2iO978lCxeOszj6v6SpixJ9cOA/IxZf8hp7AsA9TUsvcxbzP9oVuBDViwLAYud0Q3zExL/nQHSWFrv+P1CusVDnc+u/kj47hYQr9b8b8VnuXx70v8rFblHF/eY/q531IcCe9L9jh7Xnoqruv808ogJkJvi/SVso2OkM8D9MLs2twyrBv/kePbRa3OM/5RHHWOd99z9LLbjGJzAGwJP0SEeo7fi/Wd/u2nYW8z/eGwkJxsoDwNfkW/3aPvW/0lC4tux4BMCBrs6Q5lD3P0m17a3tC/Q/o268SzMC8L/FP/ksaNEEwB9j0gZKxOw/fgJwVHie8D+aBEa5kq3TP3AmEWKSQfe/Y/DRkIdO9b9Gi493j5P5P9aVVWoSaey/F7jyu6cX6r/MebToxefOPzQd37JGDOe/dffqMWMgAsB/VLO8T1z5v+zKmMz5GwTAN8jYnmSn8r9KI5UyIUi7v047rdhjJui/YZnYqhAiBcB7Af/F3Ufvv2GZ2KoQIgXA6mcTLUJT87+u0kN77fzIP4sVWt9Rxek/9oEdsbj85L8/c35JP7TvvwIEHvLFSPC/fMX2vxNJ87+xXHkL+aLLP0KnMHreoua/PZ2JcnpN8L+d0snTCHb0P501vPeIJALAIU6Xj5V14j99HBAIBdLKv3ccLUcHzgXAPEciwoML2j/drr3t+VLav16RM39e7rk/KBb5JxR06D87onVBjvb+v/lP0B3qOPO/Dk1vLOjj9L9ivt8eyYbjPxwuNrP5itY/fvL4ur0dBMCq71l6eg7wP/dehEyjPQbAwUfMyDXuw7/6SgT1M0f6v6weaUa4JdK/Vc+75dJi479/MFSdhWDYP1lwd1Z/Ivq/7G8IPDv7s7/refzBdC78v6XfsvB6OfW/ewEZWGU15b+SXtBwWtG/v1EVb1G5y/Y//s7wzmFx3b981rVDGVbkP6QgmqQnxNU/2xLq/Md59L99u0HKlBDTv+u2lZ0sm/q/cC1CYXWm/j/oMyUhq13KPznkAx6PKPg/jFj4tEm+wz885VTtpZr/P6Tc7A4wGgbAl10p4ceX9r+Y5tDfukzrP2j4YsI6B+o/y3Iz2iGWxj/BN5IG6Q3wP88n33pBNsk/vFhnHI5l4D9YmqZDOuEDwMOGdTTrFPC/Crmgw0YjA8CQC3DCfkUDwGkiKn51Y+0/G9y7x+dM3r9cQuIqwwYAwOcq0CUxLOy/kwCjTtfR8b+INJRiABXav1zpEkIZxvG/bClqNM3B4r9U4XTA3avjP4N9X7wwVfM/rnv8vlGVA8COXYikfpkFwJcTlDy13fS/J2T09MUE9j+BeJZ+mLf4v2ICuAd3auy/L0HF3M0j+b/IhkMKOXfhP+giI77jmbU/uFVgqd8N1j+wXSbvCqftPzweV7EMCv2/cwsCrQ572r8oR0tHrg3Ev40viesTkfi/WbhCsYG6BMD1dczhQ10FwP6+UFd6EPq/DQQuRsDCBcDsypjM+RsEwK7Z2R3xnOs/MyQS0Q8u4j8nR6GPH3/hvw5XqVFEvu0/NuM9W0MRBMBc9mXkocTqP7SOtFYeptQ/jvjQn5rY8T/BYVhsHSGwP0if7/ozy/O/OS43roOa+r+MbyKWGtLxv7Lj031XRq4/pRjRZm1TBsACD1pNlWfzv+g5AYNpjuw/AYDpp1IX9z8x/zi1vwHoP82gp5n08u4/EC/W8kPhqz9GDQxff2Hkv+/16jwysvq/nyAJO+hT9L/8zLHzT34AwAcsp80v0Zi/vgsmRxNi5T/Bm/frjebzv1HKnaksyvW/HRKCOIzy+L/XlBlupq7xv8x3IWwN69I/h74gMshv5j8SI05krMb7P+bxz0ZQ6fi/jM480mjK0D+MzaIPg8fqP2OSJBj32gLAran621ic7r+wDZWn4J/7P1gxY8Y8bf+/vj+wqVETyb+cWkIx82/5PzpW1towc/K/1hbrIhiP8b+7qCsneJ71vx7YEnNlZfW/6XfHBnaA7z9QsDjeRoPiv8oXb0oyP+c/aLBXXx6z9j+DfV+8MFXzPzHrtdnrBgXA/kPreXFv6z9QHLbtyVvOv4zNNq8iggHAw4Z1NOsU8L9w3ap7lwr1v6sBNxEC1Oy/cekR9G4W5z9KJmi0XHL1v5uEhmFMdPC/jHXtEc/I6z+kC00gESIFwKcd5YhjgwTA7NvcKtOC5r9OLsB6UezBvy60UAwAbPS/P/npiaKe+78fJs32NXfyv6xTgg2ot+k/U9aVq5qJBMDxa86amXgFwHGiyM5JqPm/r4CQrfZH6D/ibfaP0PS0P3k/juf6D+C/8f/UBqyiyL8VAVIdnqDoP5BWq0ZSzvC/5trRLMH8AcDSgkG/LT3yv5xCTLS7t+a/1hNkU6gi6z8bFC1LqsIFwKS0+SOdJM0/acYVNj0n4j/MdyFsDevSP0eEGIsC//y/flM+mvlk4T9FS9y2QM6IvxVzFxn/sfY/CXb1W+F89r+UW6FPrFnmPzgeHuWsrPY/efofvYrEvL86sXWr+xXFP8Dov7RtjPS//qMZhILa5z+Lka3W+nvTP1xq3Ucvzv+/qU3t3nr/679dbjpMhgz3P5fEu9hgcMC/wpFcKM5l67+G3CwPSyX7v3djlaJh1+M/sjkSosFK7z+mXzQs1FTsP2XHDtufuMc/mjSzkrTW9b/AHK3YVuTpPzIjNFEZD/+/dQGIgD0m9L+1zV3FSb/gvw9Xh4rKMgbAQFS2NmuH8j9WqGE78aHlP+b0/Z29ytW/gijOFEY7xz82aiSLoC+/P3E4i8YMKfS/Iu2ch2z8tb/6LWM8Rg31v0DZvCBUJPq/ruqrCQxf7r/7KUBzVMHFv31SOaxnGfG/CBnKPQ5xBMCDfV+8MFXzPzOOlPMtiMK/N1Znoid0BcC2LdsA9asDwLMn8mEoRdk/WT4AEO+15b//zK+8L+KZP4e1lpuJ5vC/YZ1WKl1LuD/olbdt5EX4P7TKHk7if/a/7k9D5eVz9b9bEbo4fiT5P3TrtfpAheQ/9wD0TgpT7T/vVjDOVuv5P+ba0SzB/AHAlj9B57vr/D8+SUy2h2L3P98LKkZ0kv6/6Ltxmsga5T+hgSxXizHuvzko6mx+y9S/EtPMMCI/AsBMtUfI7znyvzvywmZUJOc/7f6C5Rg64D82+cJudD3xv6/PineJHPa/FgOgU1pu8r+oMdMOd/vnP1SsHFYZ4fm/Wd/u2nYW8z/xY4ezi3Hkv8KlwV2/SPS/S6VobGhZ8b/BGX0CjdIAwDpxJ8Yzkva/PnPX3ScIAcDQKWIfhXr3P8iw93wZVwXA8sM2mpuJ+L+M8e/an1/kP0cl3gIeb+o/rOcBCnoi2D/GAWsLi5buvwvNnnUxTvO/Wd/u2nYW8z8nYx3WKc/xv34h4s59Gui/iwxLxj239z+CwlmjqFeov1z2ZeShxOo/xUdEb9o+AsALxe/0hLP3P7DlAYgb2wPAx2gWtNy12z/pyDrodSiwvxCBO4RsSv4/vwqXFbJ0BsCqiv2NTtDuv/sqK1vzm84/+Ze5gB5hzj/7jQpo0jbnP6oF+RtK19M/q9E6Hx4O8b+tDZh8fGHJP2T9JJfC8fQ/lQWVxCu/1b8t2vj9KBrpPwBEMb2zF8G/tYyqJnyQ4b/8kNb1vtv3v5rdXiacCwHAbrmRmhPJzj8tlnV4XZT9v8SwxvSu6e6/w4Z1NOsU8L+9p75EnkDRP5HG0r3k3MY/6xM2Dbhrwr+CpsVVD+V8v54ApxTNeve/XPZl5KHE6j9Z3+7adhbzP2nblzeDLcG/8yiW59L6AsDR0f2kNa7wv23+nKwPufm/aNReW2M7+L9cG39NFU0DwMNK7dAUZfi/ePmK9Rrm8T8QUYc39THKv22Mf+8QoII/gXbydfZW2D+A3+zuryDzv4/HH19GH8M/l6zUOhF277/xJNSXQh/2v3GJNhjrM9i/n572CKw/0D8uMMgJsCwAwLUHURBgsOc/SJn33Md7/79Fq0otAGD1v5Sb4tbubvQ/7G3AgHdZ/791N1cpCoT5vzAqYyJqt/a/5aq3tQ3xAMDTq5+Mw4TOv/w9lZgX2+4/NblxyfqiBMAs5wVeQajjP3Bh+XdewgTAlyE/ekZ2/r8zP9Y+RjTxv+NGMushi/G/2wSD3hIK6T+b6EGGPn/wv4nkB2DBuwXA0BwPVS3u978acKNPjj/wv4oQfNS0Fcq/3lOvHwQ+A8Aa25RD0BECwP+VzgXl1Oq/neBt9EzUwr+8Tb3+MlLXv73gl9KiLdc/k00Gy/fi6L+6+U0tf5fuP+jT6X59ivo/xC8jlZXU3L8Fs5lxJQvlP2XHDtufuMc/3OWlc3Pt7r8Ws32AnEHxv8963iMeBd2/HG/wTYX9rj+jqaS0C8Liv6KMXoA3Re0/+xYHU+d11z/HhRWXxrcCwIwPDO//n+k/+7Qq7Dou/L+OyWPyss7xP9E6/fZ6jgXADVQvQ1kB5j8BoX+X8on0PwTcSCQa1fk/lJH7ydok8r+UPbTDThT3P2OrQtZZUwXAo2IfUHFR9b/FKxx1aVTev9j+bnfbyvY/D3dNS4hW8r/m2tEswfwBwFItU3mV/cM/4oFzVNqm9j+eSA0UH4nwv639MVChmau/VM8AeFBX/b9AFy0oEsT+v3sZaoLYIwXAPPIS10nX879lxw7bn7jHPzbg4cth7tG/mAiY8ChF77/+/KE/u9W+v+HYgdo3oeE/UvihnOUY/r8VVIfOBJ4CwMlZbLZOUMm/pzYbVRKX1r8YIYzKjg/nPzw82GYKz8+/szP3yuUww7+JIIGZfX4EwKYqgiOIA+4/ZtJkOh/98z/B83yvlxL6vyWBTWTX2fO/eqb8u6uNAsANzzONxMbXv3gul5ZWgALAcFVFcGLr1j8y2+9aRF/jP+6aY5TukOw/huM21KYn9r9+qwG83h3zv/sjlb80s/i/UbfpbDC0979CESzzd2/yv7dDSMRcacA/1lDUJsSSAsBsASYhaECbv/9NEa/kJPm/S458vMqM+r+0iOi2PijVv54qE/spbvW/4SgiMxJQ379yAEWHF5Dwv0rXcQGw0/O/9mHmaoo5AMDYRu8cfZ7iP2XHDtufuMc/Sy7g3lQa8L8g/8o+76P1PxHyG144+LU/CkIbZftX8j+DvuAz4af6vylgwxh5f/S/3VwthZT067+CJuhD0Bunv1b5hIqPDPa/SR35vxi69L+TJTGpfeX5vzjRWxZhEPG/HPJwZQWIw79R2RtLFuHsvxNwjm08//M/rkYayhfK7b9vg7dOYQwEwFxbvexmRfY/m2RUZ4sZBMDNSBOlW+HzP8gWxjTlvPw/zHchbA3r0j9oNE63Ct/gv9WwgRHrgdO/QFrFLiZKwD8wCZQ4Mkb/PwMfFwZZEbm/wq7K99s57L8i8If2ewT5v3qgQpFMy/a/NBsJ04op8L+hGfXQhgm+P/CqzewIbvK/L3iGq4wvuj9344wIa8CjP+Lfuo9VKQPA29mLFZ609b9mxyyD89raPxoJqqZpjva/aXzuEp7e+L/yZ8OmkAi2P3mKrFrnDuE/LzgyfOgT8b/ih+KBQ/Lmv61g6IRFJP6/FRQFrXnC3z/g9fx5OBblPy2InBJQAlI/57/7IuKp9b8fmo1a9aL4v3jX7PVoMfW/7SIhcj411j8WhiTU8T4CwJ8Er63TDPS/1n6nDrv5AsBghTvQ8OjVP7dwEbTfP9+/hN8G0F8q+b/fDRBG5r/3P/DA1gytm98/Dp5I7qpj+T8EZE9nlpDoPyw2T+thhsO/Kt0dMhGQ4z8qbH0gyArYv3EVHF4eyQLApd/aHharAcCWi/OiCt2kP/iEBi6ZPOo/r3xC1TQK9L9vVo4XfW/wP7EFMIArf+m/LmYX8EXB4D8bg+0J2RC7P3noUsOD6Py/NkhYJQoxBMAbslFHTfvrPxD3l06Cffc/pmhZ9CSA1L8hIB8Ch0jyv1tbpKL8ass/U/zKLimM7D8qWesV8+7wP2ZSeNoecAbAN3hRLcKK+T+udEayXZMBwCcQGDqH6ATAo1SZIzK87T/4Yjdlz4zxv3nwsmWqNvK/wnjVGJ7V/L+TI4mLrJ7Nv+2kuwKmDf8/qAbg/bk8sD+n7SVj6S3wP3gpgISWvgXAMBjXZemH+7++M8M+C2n0v2u+QrghEvO/S+94t9y4/L98nsKvX7PqP4y0cLdpjug/wJ+GTQb09L89KO3E0vz6v/QzQENq9gLAN78quQbRyT/JR26l98H+P4iNWRfXP+C/q/XvGc907D/6Pxy9uUfyv4Be0qeY7fa/ndFh8xE5+L91ifsEBabzv/2MGg0PnOk/eo+Akbp7+j8O059gKfTiPwsRLuA5YPM/A81KoD7I4b8yxFgDyeb2v+MD8mKKwdG/pIUXq2OyBsB7YFtGJ0/yv8S6ivZ2v+M/JntcViSdxr+jekKgmKK5P7iiNXPJ+APATrNHVaUDyr9HhBiLAv/8v1Nhuvfq2vO/fOWYX1sqAcAxON9DgqUGwBDbXLouFuC/KvOTDb9H8r8F1HFdKNHzv6ykRnxYWgPA7P7ElQyZ9D/d9TWkFt25P/sKgMR4pOO/7MqYzPkbBMCxvzNpp07yv6uaM8kTOfi/1xRgQ/X/07/JBxc9aZvvv+3OxreFh+8/uQysP0xf4T/MXIyI7zvFP0rZVm8rbu+/re30ALy1+L+YWMORL9fmPzc6VwkbGti/56HSXKF+5D/85k+L7GXPP1SL9h0J++o/lauj7C1ctL8HFxAnmw3oP5ur0doKNPM/ijSYbvCo4T9Bl1Vph3byv8rINkBDJ+Q/PQkhlZdu/T+e1YhREfLtvzntirlOsee/bdxnEcIb5T8jr134Z7GkPwZt8bQsIc+/26y43RODtD/jV8NmUhrXv1x7meKAlOU/xrPWTvKY6L/LBLpUWzb+v3/8Tas1uqi/f+abNiAG1r8UevvwHH/6P+PC2UPiK/K/fqjTWKNZ9z/h4nlMHI3mP/KDNfBHZPU/xu/KoVsrwL/CoF6LJt8CwEWR8dzbMfG/q5ozyRM5+L/M6vUSzO/9Py8l6eaZTrC/bh7V/SpS5T+ELi4YLobdv1vAXnoSiPu/ehby/1kV5j/EPF6VTdzkv17zpAJ7adW/gWpMSxGe6z/HO1iS/0z4P141VtIv69I/fitxAVTU2j/YysJc3OXsP9D9hJCfxOo/IgtVbU4u6T/R1fIrxK7zvwGTRvFCBfO/AYuthbCo2r+FSgDqFobpv1xTY6uxqwPAKgEmRO25zD/ensfRaivsv/7MyT0Sk7q/PV6Py1kf8z9FXlVmYQHrP8c3YPnfSO4/aX3qAVwO9L+day/kl+j2v7VGDNSTVNi/2/WvXVfs5b9CFr8tSvjrvxC0Io1qVuQ/CGk6TIzm8r/MdyFsDevSP1q78NAaSgXALHcA8TC89r8y5s4A3jniP1j+Tm9zq/y/m7F3aDZJ+L999xFbZu3sv/ALz9CTgvM/tsLJk53UBMAc9ZUGkXLwvxPlWI+QVAbAPZ66FxWE8j+pY2asGheeP9Ma8Vc2ofG//KRCqGbH5j/9rfFWPY7KP4ocxW0Gteo/TBasvmYy6r+bKj5cj7LXv6fpC34Pv9w/wyLnwp0D9z8+sTp3ryP0vwhfDJJtTATAZNjoFIHwlD/i9HSjUCf4v1z2ZeShxOo/tpAK9dAj9L/QikXP/ofsv9322h/8y/M/CmJikmjzmj8fhmWkZET2P6LeeeXCsfu/aZIazLbD4L+kTFhQIxX+v1U5eSGMNeQ/2eFuIlIH879HhBiLAv/8vyDfYtBwuMc/g9XpRMd77j86WUEd5dcAwOZAsCz+ffO/O0IB/9bd8r8Y4iADQhPnP8OXSQwPcMA/U53Q1AB46b9F5i8fVY/yv3WzVn3yZ/e/xi3Xpx3n87+kt2i69iL+PwCmwch7ugHAayXAtq2r5z+36Qz+uAzzv8M0NrRADrC/Mp4M1KnP+r+Rcx4/irfRP7c0/Ih7A/W/Fd93fC844b/8m9TIzo/wP7/8F/VSqOw/jJ19heKG9D++47wtE0X3v/wMNtjwSuS/NhucNbOp+T+lLd27G8nvP+Yat5nOUca/4DLwiHELBMC+XhdLM+B8PzFBDpm6n6i/tyUQ4deB879HIMhBq2LXP8QTBz8LJsu/BkxUeS484b/cwzJHYxLUPzL3XNRP/gNABQ0U8pzxD0C+8L6L5bwIQFwG9IIIbu4/gViRzV/R5L+8vwgTmNvpv5wkBdU4ass//osfYbkaAEDN6c/fvXgFQP63boy8Vv8/oGDX776K2D8SrZfRAKHxv2y+wjpPQ/G/qS4KA0NT2r+e+pbJtIrxP52Epc2SYwVALkEYc2QYC0BeSYf8on7/P/29AJejI9k/SlIy6ROD+L/07oNuzkvvv/HXUWJ/BOU/dTc5HoHaAEAA1911TuwEQLxJISSmW/M/fvNhIwyH078Tm3yzgWT7v1pP4vp4Mfe/N3GgWwUl6z+9ue/r5W8AQMOQY8vbxfw/lm0w5qJJTz/uOroyiHj4v8xQL5essAHAkRnT9fKU9r8R5Jc8dCzBP8EYHZNo8es/0kbfihbB4T828AHYK6Pgv47ChQDF+/C/MkJA52YJ8b8jAHI3Lofgv7r+iAUwTuq/xnwUIyRqyj+7GCdQgSnkP30Aa8qgJsc/VH1MN2Ov4b+Gc5J6d+jZv/f3sFIaFrE/ntIWOw8Mqr9N4nNLmYjwP1qHATtfAQVAFYvL2JX5BUC07/wa8dnKv581CJHcX8y/FlKTBHUU/z9j11mNseAPQJoVx+kcPghAmWdVsuxR8T89x/R+2KTiv9l+0/BdU9M/Lk7yUstMA0BUrAhaYfAOQKcN1+IocAhAr9M+S2lZ7D8wnE74F6vmv+BWSbXhRey/kz3TEbyHyz+bFx1nOMz+P2bSyzS73wRANnsuVIcP/j/RUO3hYPDXP4YTQMygI/K/Qd3DZSo88r858DX2FqLgv3aZVaPSCvI/WHxpcM9ABUArBmp44/MJQHkB38Zi2/0/uqaNU7/m1j9diW2HUhX5v3M+LBNnCvC/ehvzr4sE5D/eVwM4NysBQHrKeGTqkgNANUz2Gfgq8j/CUZiC7kXSv+4WoPbjqPu/yGL+wgVN9r9zX9WtnonrP8Qz8BNv0QBAOnGOdLpp/T8qWZ+6r9V4v/Ww+Nmrovi/t6XCn3KmAcBh0PMNqxv2v5J7YBed8bw/Y0Oe+9xz6j/vWHt7xP7cP//BdxzEMuG/jAS56p378L/ezdXiY+7wv+M4yws4NOG/IqSV0E4j6r8HbskHhqXDPzFEUEwDWuI/HfnOUlEVsD/UK0QLqnDjv062P9/7e9q//kdSzXc9kb8/mhB/gZPDvxu35PPW+uw/LRWT+yYIBED8ZsPv4ZsEQHYKvDLoTNK/CWRxJeV9z79hCODqawD/P8Hudj4CxA9AcPDlIPxoB0DTv9WWTkPwPxNh67HF1tu/7qOtFzdD5z9MgneWzfEGQN42scFphRBAdYdMoipcB0BsL0Hs+4npP4lHH/llu+W/XgtkCffN5b8PzuqS4EPgP6QrxLmpHwFAUS93MVC7BUB6onE5R/b8PzvTJOPXLdA/JKRxt+128r8H957iE9P0v/qgONmadMu/CXi2AO+Q9T9jdtCPYjAFQDCXSTU0GwhAiQ8stjdu+j+vChMYsyewPwcMRgQAb/m/ErVgSQh457+8c+W9lLzrP7eDRk/PvQBAMZRVfICvAUD7ed0xJ8TwP4ZEwTLnJeG/QAdbG3io+r/hRy5vXOLwvw479Byt4vA/nQbCX7MPAEBcBkwqeBT2P2/in2pH976/TVL9TKv1+r9/MWcgaHoAwAb2Bl60pvC/tCZnEDzj1T/O8t/NFB3vP9ESOpAxUM8/9gQWegpf4r/6iRnV+Mnyv5XbJn5fQvC/1sk6kCUS5L9Jp/HXNm/iv18LpSpnjNI/QWbzJcCc4j8rWgL02+a+v3X3/rlF9uC/5q8TZs2y1b+UZbGaN8/AP+Hh/ew/NME/6tGnpmMn9j8cdmrzCRIHQMAHMypf3wVAFNzOajWm078zIrcln0m7Pz0B9HosiQRAj2KHWOzxEED55va2n2IHQK86qpMSxO8/T1wqJ6IS4r/N8WZfPGvNP5QGiYHtZANAo1lxubOkDkBoXIh0IDIJQIn+db7IMfE/EBG45U+94b88DeG7SKfqvx3DiJ+R/sQ/LTfopRPf/z/odSUaSHYFQLzFMeTGbf8//0/69iMr3z+9jvCrcrHwvxrSA0QPgO6/0A6m6U3n4b/O9F+v8kbvPyehlr4QsgRABRv3p1ekCkAIyOjkez0AQMQPnDyuP+M/Cs4iDJnu979wX6BVgvvwvzt6drmQ5OA/trotKJe7/z9Xy4/GmVADQEN2DyJ/JPI/D8K6di5IzL/1cPVaLB/7vyl26h2+a/i/tlvrxXkQ6j8ij5BSgRsAQAblzormU/w/9PTVqhVPuD/P7bJ/SNL2v7zN80L44gHAhBYR59hm978tw4XVj8avP+iuJ32nvOo/xLBDGVP43D8h90QkqvPevxMmr1gNsO6/ykBkoiVd8L/ZQ8+QQnPfv+QW9I6gsOm/XcdVom1ayz+5G1DEaWviP56LBdvohcA/i3OdjO314b8IAXRw1pbSvxR7RDH9CLk/xSeZwvQDwb8MzPNJtjPtP4vqaIjNxARAkSEquOQ2BkBcPHeN9qfCv3sAP5uL+c2/K8uMGGZg/j/4cYviFggQQJI4ICoi0ghAG+bw3hN+8z/CbQCjR5bavwHSzBnp8+c/4/+Pc/TpBkBE26kZGMkPQPmbhZrPmAZAlfQqWo3F6D8SHDYQrXPlv6NbMhljpeW/bFN0ayKO4z+aAH9lDuoBQBq3azhnMgZAjruaP6kA/T9jGaG4jvDSP5dhYq2JFPO/6BMw2u+59L9bjTfbj9LGvzopgWJsFPc/2u/IY7XpBkDB2BJsuE4JQEoD1D2xfvw/6aP4h7JPxD/+xvkSmH/5v4KUJ712VOW/wenhKtRJ8D9vlBOs7LsCQMOgofy9OANAHWkI+10l8T+tXhKSmQThvwPFRDoaj/q/vAqPDyV+678TR8B4gS/yP2Lq40sFQwJAOYleDd/t+j+kyS2HTLvDv7fWLJ3T2Pu/NXjf9tGPAMBaKhgGv5Lvv70bV/6XoNs/J/rcbJid8D/Fv1Eg98rXP8X2wpULieC/OkzQVabX8r8wj2MjbSHvv4yDDdaJMOO/LhgF1uBw4L/OsKeR9dXYPx6XD9Eb/+U/sC3cCZyzib9mzMDy40PgvxCtwoBbDdS/CuE1GVy2uD+NpPIuRM3BPxqhFBjd5/Q/AHjiGa6LBkCl1FRzlPMEQPOx5nu1fdC/6rwi8AUswz+ZQauPSNUDQNxembEEYRBAQbjGnymgBUD/s7W/J2XtP+waJLGa3tu/HDjKr/eG5T+cZC/GygsGQPQObBsaSRBA0aUqyhtPBkAmF84PfW3pP6ZR1F6HmOW/c9lEebWZ5b/aZw/a6oXiPwp5uLoKNgJA5zTBYWp1BkCLh/WJfAX+Pz5ETOq2adY/gGErlW1L8r8yK9/32q3zv896fYo0pcm/U/PIOaMS+T/du/BUz+cGQD1ezFUgwgpAMn2kp+ti/j96EQsCO37QP9t2an8SZfm/eKK0WM/657+Ir3PWfSfwP1uBsHp7agNAogCENF96A0AebZt/vT/yPw2J+YTc4d6/+Rpt0WwG+r8xgraaSlHuv/1dawSf/fQ/AmN5QQ29AkBZAg5VgRP7P/nANxE4QZi/hFamYB8g+r9WXeS+dn8AwMV3j4HInfC/RjfSnpMq1z9Urhu2Ag3wPzOxaTo2Wdg/ra+cK0Oj378TIXI7+fjxv2ae3Km0g+6/gmTBNrH24b+QuafM8rnivz45Ojum0tI/i/XOiE224z968PTGIGCqv9nBic91f+C/6u+iVT/K1L9yo5XKLRzFP+iwxahmGrE/aiIiwCtn9D+hLViqlKIHQH9iKsexWgZAIlUobRXq0b/MOnMiywW0P3wHbm/UJgNAphwbsutxEECI9hd6Xf0GQFuSSyGQP+8/4eZqu6p64r/fLs9DTTnUP5GnHcblhgRAm6dQvNM8EEC6tOCJ7OoIQHtU4iK09+8/J6H7nN4k5b+lAKUY4Zzrv5NeftAHH8Q/qnRANiMcAEBXwamSw9oGQFfIXW3VuwBA9Wv8yxB93z9RkJcP6Xvxv20gA04f4PK/KHuS4n74279B8hjpkCbxP3DGgtbJOwVAiCRfguPWCkC4n6tfQWUAQLp5otA0L94/Raug7sMj+L+J32KkKGztv/2svnX84+c/ZBjTr6dHAUCwOzXokpoEQM3QidpJNfQ/aeQJA2HBxb82HyZkvkb7v7iRXmeYrfa/tbJ8n5fb7D/8bItKctb/P2wvfokWDvo/nckN0KAUcj/yGWtbFT33vzfP9MhplQHAy7THahg297+HTsg/b+bNP+TdF2A8X/A/GdLk6ag24z+JtpBT46vdv2UIwCX+JPG/h/USRo7+8b+avlKvV5/hv+WTsdOPgu2/66gjCfB30D9CqRZFI93mPxV43sLgbNA/FKrmBWm24L9yPb4Di4Tcv+drL9qi2Yu/mFQgLu16rr/LiBIR7YnxP9iA+xiVIgZA0B0aM/X2BkCWkv/51y7Qv3yoGijaD9K/IEmlEguM/j8TnQiDscwPQMIeP7iTPghAtBKntiR18j99U1mN5fTjv49ZnGWMd9M/IIgX+TmZA0D9nJ7aytEPQOeq8QDoTwhATDqCgX9y7j+jtSp1aIbkv56pg3rhm+6/Yvp6ofumuj9d5SxHNvT/P8Z8TcTPqwZAZMt6l8tvAEBjrAxeM1DbP9lKgh3AZ/G/izhOzKiJ879OqTGNSgnivyvQJtYEUe4/arDnySRqBUAgCH/pdzsKQNA3a6dmcv8/tnbH4IUs2z91kJPgAXP4vyCxIgrL8++/XLjxBv0N5D/83Lu4NB4AQOUd1F2KEwRA/z9EYaKi8z+fbtQyfODHv6Yrzm1HMvu/xmpCAAwC97/JII+fUwrpP5mRp3ITXwBALan+JtKL/D9ecod3QWaxP2+2BGXsMve/dksV83DFAcCREf/T/6X4v49kYw4CytA/6NXV4aSY7j/7ESrXOLHhP0shm/VzfuK/s0uqYLZm8r/pZlqVkg7zv6gcL+hk8OS/aBYkD3967r9GIWeudZ/DPxHjbQ7xveI/T+b3CL5dwT92LDyHfR3kv5joKdXSauC/npfH0lEtuL8/C7CeRZKrvwZnZVN4r+4/y0IlYJMjBECRssko7swEQJ+kLi6bgtC/+chDXaQH0r+UK5Lz5jr+P78kBXPnjQ9A0hVrx2mjB0BFaYrcNTbyPwThoLTSzOS/JcBaDbJJ0D8gP09I8XYDQDfVKQzQpQ9Am0NIEMCYB0BLcXedq3ruPxOqnnLbQOW/AOFs9Xda7b97DTo2VfS1P1t77YZaVf8/5+/03sEMBkBKgqW+UfT/P8dZ4Hz+ndk//D0DXg9R8r+SMxir0k3zv8E9XpXd9eC/mTNr0WzU7T+WOUhl1YsEQOC5H55EDgpAdoTXrDCp/j+rIbzFr7XWP2VgEPk4Hvm/LFUM1i6k7r+fe6NyFfXlP+i5xWs5QAFAfcoL8F4oBEAVtGtcK/DzP2CIZp3kCsu/M2Vsf/Uh+79750hvVyn3v6z8rqOfneo/H9D97SOPAEDlp8Su1V/8P53/RSph7b0/iwti53QY979kdj+LN3YBwEZgiTvVsve/Wvfcl7acyj+mZ8rFROrsP1nvKKqPaeI/2/QZRgu64b8t4s79M/bxv+ECfnXWrvK/EA63Rx/A478NKFwfuGLuvxYMmmWf6Mw/SGE2Yg4x4z+TlmQHHZ3BPysem4ZXE+S/zWr8HsO03r99TxoMQsyjvwnZJJhefLW/kirgmGyJ7j+oIARMtS8EQHUvUTQvcQRASkTMgsvU0b8Xh6rOy2PSv0yvStMK7fw/S1yqJhG7DkDX9uoqL6cGQIuMKq9jf/E/OAoSCiqi4b96jCUyi2TXP45q1XsJbARAZP5ICoexD0B7pkNiBdsIQARgvBS5p/A/H9LtafTn47/kQduiaOXpv6OD58+pGs4/lxzT/WgjAEDTlHLtOqoGQEtMkt5tWwBAvdDFUWMh4D8RQB/4Sunwv4QwIZiqs/C/dCFI9vP42b8p4IJLGVrwPy91+tlj0QVAmrB2gRM5C0C4XWPxUKYAQCP/In9gbd4/BUit7lEU+L+jiDF5LS7rv0lk86F+GeU/WtgXavjXAEAaE6on/cMFQLtO8LbcBPU/ufIm3NOCwb8YjN//Ddb6vzLWJO++ofW/wfUsJ5oQ7z/PZXu1WPQAQMb6n36UtP0/r/cJyHS/uz83ziuU4yb3v5cU9n2/vgHAzSkbQ7in9r90YI2zoq/RP+dZ7m+g5fA/WscMHI/p4z+DUK4PklDgv2DCJvq7JvG/JKUfRl6+8b8RfejHPNrhv8tomM9JIOu/6FgaiGTr0z/rHKMNXR3oP6IneaIhJdA/eohGr5dH4b9VLbrrAtravzdhWeMr/KE/HaOvvlAnlL+7Gv3R1RTxPxk/TnToOgVA5rvNj/n6BUCV+uVlU8PMv8+3C36wZ8y/48bB5AeK/j+55S/z/zAQQJmm8BnsJQhAX125TPW48j8=",
          "dtype": "f8"
         },
         "y": {
          "bdata": "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",
          "dtype": "f8"
         },
         "z": {
          "bdata": "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",
          "dtype": "f8"
         }
        }
       ],
       "layout": {
        "coloraxis": {
         "colorbar": {
          "title": {
           "text": "class"
          }
         },
         "colorscale": [
          [
           0,
           "#0d0887"
          ],
          [
           0.1111111111111111,
           "#46039f"
          ],
          [
           0.2222222222222222,
           "#7201a8"
          ],
          [
           0.3333333333333333,
           "#9c179e"
          ],
          [
           0.4444444444444444,
           "#bd3786"
          ],
          [
           0.5555555555555556,
           "#d8576b"
          ],
          [
           0.6666666666666666,
           "#ed7953"
          ],
          [
           0.7777777777777778,
           "#fb9f3a"
          ],
          [
           0.8888888888888888,
           "#fdca26"
          ],
          [
           1,
           "#f0f921"
          ]
         ]
        },
        "legend": {
         "tracegroupgap": 0
        },
        "margin": {
         "t": 60
        },
        "scene": {
         "domain": {
          "x": [
           0,
           1
          ],
          "y": [
           0,
           1
          ]
         },
         "xaxis": {
          "title": {
           "text": "pc1"
          }
         },
         "yaxis": {
          "title": {
           "text": "pc2"
          }
         },
         "zaxis": {
          "title": {
           "text": "pc3"
          }
         }
        },
        "template": {
         "data": {
          "bar": [
           {
            "error_x": {
             "color": "#2a3f5f"
            },
            "error_y": {
             "color": "#2a3f5f"
            },
            "marker": {
             "line": {
              "color": "#E5ECF6",
              "width": 0.5
             },
             "pattern": {
              "fillmode": "overlay",
              "size": 10,
              "solidity": 0.2
             }
            },
            "type": "bar"
           }
          ],
          "barpolar": [
           {
            "marker": {
             "line": {
              "color": "#E5ECF6",
              "width": 0.5
             },
             "pattern": {
              "fillmode": "overlay",
              "size": 10,
              "solidity": 0.2
             }
            },
            "type": "barpolar"
           }
          ],
          "carpet": [
           {
            "aaxis": {
             "endlinecolor": "#2a3f5f",
             "gridcolor": "white",
             "linecolor": "white",
             "minorgridcolor": "white",
             "startlinecolor": "#2a3f5f"
            },
            "baxis": {
             "endlinecolor": "#2a3f5f",
             "gridcolor": "white",
             "linecolor": "white",
             "minorgridcolor": "white",
             "startlinecolor": "#2a3f5f"
            },
            "type": "carpet"
           }
          ],
          "choropleth": [
           {
            "colorbar": {
             "outlinewidth": 0,
             "ticks": ""
            },
            "type": "choropleth"
           }
          ],
          "contour": [
           {
            "colorbar": {
             "outlinewidth": 0,
             "ticks": ""
            },
            "colorscale": [
             [
              0,
              "#0d0887"
             ],
             [
              0.1111111111111111,
              "#46039f"
             ],
             [
              0.2222222222222222,
              "#7201a8"
             ],
             [
              0.3333333333333333,
              "#9c179e"
             ],
             [
              0.4444444444444444,
              "#bd3786"
             ],
             [
              0.5555555555555556,
              "#d8576b"
             ],
             [
              0.6666666666666666,
              "#ed7953"
             ],
             [
              0.7777777777777778,
              "#fb9f3a"
             ],
             [
              0.8888888888888888,
              "#fdca26"
             ],
             [
              1,
              "#f0f921"
             ]
            ],
            "type": "contour"
           }
          ],
          "contourcarpet": [
           {
            "colorbar": {
             "outlinewidth": 0,
             "ticks": ""
            },
            "type": "contourcarpet"
           }
          ],
          "heatmap": [
           {
            "colorbar": {
             "outlinewidth": 0,
             "ticks": ""
            },
            "colorscale": [
             [
              0,
              "#0d0887"
             ],
             [
              0.1111111111111111,
              "#46039f"
             ],
             [
              0.2222222222222222,
              "#7201a8"
             ],
             [
              0.3333333333333333,
              "#9c179e"
             ],
             [
              0.4444444444444444,
              "#bd3786"
             ],
             [
              0.5555555555555556,
              "#d8576b"
             ],
             [
              0.6666666666666666,
              "#ed7953"
             ],
             [
              0.7777777777777778,
              "#fb9f3a"
             ],
             [
              0.8888888888888888,
              "#fdca26"
             ],
             [
              1,
              "#f0f921"
             ]
            ],
            "type": "heatmap"
           }
          ],
          "histogram": [
           {
            "marker": {
             "pattern": {
              "fillmode": "overlay",
              "size": 10,
              "solidity": 0.2
             }
            },
            "type": "histogram"
           }
          ],
          "histogram2d": [
           {
            "colorbar": {
             "outlinewidth": 0,
             "ticks": ""
            },
            "colorscale": [
             [
              0,
              "#0d0887"
             ],
             [
              0.1111111111111111,
              "#46039f"
             ],
             [
              0.2222222222222222,
              "#7201a8"
             ],
             [
              0.3333333333333333,
              "#9c179e"
             ],
             [
              0.4444444444444444,
              "#bd3786"
             ],
             [
              0.5555555555555556,
              "#d8576b"
             ],
             [
              0.6666666666666666,
              "#ed7953"
             ],
             [
              0.7777777777777778,
              "#fb9f3a"
             ],
             [
              0.8888888888888888,
              "#fdca26"
             ],
             [
              1,
              "#f0f921"
             ]
            ],
            "type": "histogram2d"
           }
          ],
          "histogram2dcontour": [
           {
            "colorbar": {
             "outlinewidth": 0,
             "ticks": ""
            },
            "colorscale": [
             [
              0,
              "#0d0887"
             ],
             [
              0.1111111111111111,
              "#46039f"
             ],
             [
              0.2222222222222222,
              "#7201a8"
             ],
             [
              0.3333333333333333,
              "#9c179e"
             ],
             [
              0.4444444444444444,
              "#bd3786"
             ],
             [
              0.5555555555555556,
              "#d8576b"
             ],
             [
              0.6666666666666666,
              "#ed7953"
             ],
             [
              0.7777777777777778,
              "#fb9f3a"
             ],
             [
              0.8888888888888888,
              "#fdca26"
             ],
             [
              1,
              "#f0f921"
             ]
            ],
            "type": "histogram2dcontour"
           }
          ],
          "mesh3d": [
           {
            "colorbar": {
             "outlinewidth": 0,
             "ticks": ""
            },
            "type": "mesh3d"
           }
          ],
          "parcoords": [
           {
            "line": {
             "colorbar": {
              "outlinewidth": 0,
              "ticks": ""
             }
            },
            "type": "parcoords"
           }
          ],
          "pie": [
           {
            "automargin": true,
            "type": "pie"
           }
          ],
          "scatter": [
           {
            "fillpattern": {
             "fillmode": "overlay",
             "size": 10,
             "solidity": 0.2
            },
            "type": "scatter"
           }
          ],
          "scatter3d": [
           {
            "line": {
             "colorbar": {
              "outlinewidth": 0,
              "ticks": ""
             }
            },
            "marker": {
             "colorbar": {
              "outlinewidth": 0,
              "ticks": ""
             }
            },
            "type": "scatter3d"
           }
          ],
          "scattercarpet": [
           {
            "marker": {
             "colorbar": {
              "outlinewidth": 0,
              "ticks": ""
             }
            },
            "type": "scattercarpet"
           }
          ],
          "scattergeo": [
           {
            "marker": {
             "colorbar": {
              "outlinewidth": 0,
              "ticks": ""
             }
            },
            "type": "scattergeo"
           }
          ],
          "scattergl": [
           {
            "marker": {
             "colorbar": {
              "outlinewidth": 0,
              "ticks": ""
             }
            },
            "type": "scattergl"
           }
          ],
          "scattermap": [
           {
            "marker": {
             "colorbar": {
              "outlinewidth": 0,
              "ticks": ""
             }
            },
            "type": "scattermap"
           }
          ],
          "scattermapbox": [
           {
            "marker": {
             "colorbar": {
              "outlinewidth": 0,
              "ticks": ""
             }
            },
            "type": "scattermapbox"
           }
          ],
          "scatterpolar": [
           {
            "marker": {
             "colorbar": {
              "outlinewidth": 0,
              "ticks": ""
             }
            },
            "type": "scatterpolar"
           }
          ],
          "scatterpolargl": [
           {
            "marker": {
             "colorbar": {
              "outlinewidth": 0,
              "ticks": ""
             }
            },
            "type": "scatterpolargl"
           }
          ],
          "scatterternary": [
           {
            "marker": {
             "colorbar": {
              "outlinewidth": 0,
              "ticks": ""
             }
            },
            "type": "scatterternary"
           }
          ],
          "surface": [
           {
            "colorbar": {
             "outlinewidth": 0,
             "ticks": ""
            },
            "colorscale": [
             [
              0,
              "#0d0887"
             ],
             [
              0.1111111111111111,
              "#46039f"
             ],
             [
              0.2222222222222222,
              "#7201a8"
             ],
             [
              0.3333333333333333,
              "#9c179e"
             ],
             [
              0.4444444444444444,
              "#bd3786"
             ],
             [
              0.5555555555555556,
              "#d8576b"
             ],
             [
              0.6666666666666666,
              "#ed7953"
             ],
             [
              0.7777777777777778,
              "#fb9f3a"
             ],
             [
              0.8888888888888888,
              "#fdca26"
             ],
             [
              1,
              "#f0f921"
             ]
            ],
            "type": "surface"
           }
          ],
          "table": [
           {
            "cells": {
             "fill": {
              "color": "#EBF0F8"
             },
             "line": {
              "color": "white"
             }
            },
            "header": {
             "fill": {
              "color": "#C8D4E3"
             },
             "line": {
              "color": "white"
             }
            },
            "type": "table"
           }
          ]
         },
         "layout": {
          "annotationdefaults": {
           "arrowcolor": "#2a3f5f",
           "arrowhead": 0,
           "arrowwidth": 1
          },
          "autotypenumbers": "strict",
          "coloraxis": {
           "colorbar": {
            "outlinewidth": 0,
            "ticks": ""
           }
          },
          "colorscale": {
           "diverging": [
            [
             0,
             "#8e0152"
            ],
            [
             0.1,
             "#c51b7d"
            ],
            [
             0.2,
             "#de77ae"
            ],
            [
             0.3,
             "#f1b6da"
            ],
            [
             0.4,
             "#fde0ef"
            ],
            [
             0.5,
             "#f7f7f7"
            ],
            [
             0.6,
             "#e6f5d0"
            ],
            [
             0.7,
             "#b8e186"
            ],
            [
             0.8,
             "#7fbc41"
            ],
            [
             0.9,
             "#4d9221"
            ],
            [
             1,
             "#276419"
            ]
           ],
           "sequential": [
            [
             0,
             "#0d0887"
            ],
            [
             0.1111111111111111,
             "#46039f"
            ],
            [
             0.2222222222222222,
             "#7201a8"
            ],
            [
             0.3333333333333333,
             "#9c179e"
            ],
            [
             0.4444444444444444,
             "#bd3786"
            ],
            [
             0.5555555555555556,
             "#d8576b"
            ],
            [
             0.6666666666666666,
             "#ed7953"
            ],
            [
             0.7777777777777778,
             "#fb9f3a"
            ],
            [
             0.8888888888888888,
             "#fdca26"
            ],
            [
             1,
             "#f0f921"
            ]
           ],
           "sequentialminus": [
            [
             0,
             "#0d0887"
            ],
            [
             0.1111111111111111,
             "#46039f"
            ],
            [
             0.2222222222222222,
             "#7201a8"
            ],
            [
             0.3333333333333333,
             "#9c179e"
            ],
            [
             0.4444444444444444,
             "#bd3786"
            ],
            [
             0.5555555555555556,
             "#d8576b"
            ],
            [
             0.6666666666666666,
             "#ed7953"
            ],
            [
             0.7777777777777778,
             "#fb9f3a"
            ],
            [
             0.8888888888888888,
             "#fdca26"
            ],
            [
             1,
             "#f0f921"
            ]
           ]
          },
          "colorway": [
           "#636efa",
           "#EF553B",
           "#00cc96",
           "#ab63fa",
           "#FFA15A",
           "#19d3f3",
           "#FF6692",
           "#B6E880",
           "#FF97FF",
           "#FECB52"
          ],
          "font": {
           "color": "#2a3f5f"
          },
          "geo": {
           "bgcolor": "white",
           "lakecolor": "white",
           "landcolor": "#E5ECF6",
           "showlakes": true,
           "showland": true,
           "subunitcolor": "white"
          },
          "hoverlabel": {
           "align": "left"
          },
          "hovermode": "closest",
          "mapbox": {
           "style": "light"
          },
          "paper_bgcolor": "white",
          "plot_bgcolor": "#E5ECF6",
          "polar": {
           "angularaxis": {
            "gridcolor": "white",
            "linecolor": "white",
            "ticks": ""
           },
           "bgcolor": "#E5ECF6",
           "radialaxis": {
            "gridcolor": "white",
            "linecolor": "white",
            "ticks": ""
           }
          },
          "scene": {
           "xaxis": {
            "backgroundcolor": "#E5ECF6",
            "gridcolor": "white",
            "gridwidth": 2,
            "linecolor": "white",
            "showbackground": true,
            "ticks": "",
            "zerolinecolor": "white"
           },
           "yaxis": {
            "backgroundcolor": "#E5ECF6",
            "gridcolor": "white",
            "gridwidth": 2,
            "linecolor": "white",
            "showbackground": true,
            "ticks": "",
            "zerolinecolor": "white"
           },
           "zaxis": {
            "backgroundcolor": "#E5ECF6",
            "gridcolor": "white",
            "gridwidth": 2,
            "linecolor": "white",
            "showbackground": true,
            "ticks": "",
            "zerolinecolor": "white"
           }
          },
          "shapedefaults": {
           "line": {
            "color": "#2a3f5f"
           }
          },
          "ternary": {
           "aaxis": {
            "gridcolor": "white",
            "linecolor": "white",
            "ticks": ""
           },
           "baxis": {
            "gridcolor": "white",
            "linecolor": "white",
            "ticks": ""
           },
           "bgcolor": "#E5ECF6",
           "caxis": {
            "gridcolor": "white",
            "linecolor": "white",
            "ticks": ""
           }
          },
          "title": {
           "x": 0.05
          },
          "xaxis": {
           "automargin": true,
           "gridcolor": "white",
           "linecolor": "white",
           "ticks": "",
           "title": {
            "standoff": 15
           },
           "zerolinecolor": "white",
           "zerolinewidth": 2
          },
          "yaxis": {
           "automargin": true,
           "gridcolor": "white",
           "linecolor": "white",
           "ticks": "",
           "title": {
            "standoff": 15
           },
           "zerolinecolor": "white",
           "zerolinewidth": 2
          }
         }
        }
       }
      }
     },
     "metadata": {},
     "output_type": "display_data"
    }
   ],
   "source": [
    "import plotly.express as px\n",
    "fig = px.scatter_3d(T, x='pc1', y='pc2', z='pc3',\n",
    "              color='class')\n",
    "fig.show()"
   ]
  },
  {
   "cell_type": "code",
   "execution_count": null,
   "metadata": {},
   "outputs": [],
   "source": []
  }
 ],
 "metadata": {
  "colab": {
   "provenance": []
  },
  "kernelspec": {
   "display_name": "semana4",
   "language": "python",
   "name": "python3"
  },
  "language_info": {
   "codemirror_mode": {
    "name": "ipython",
    "version": 3
   },
   "file_extension": ".py",
   "mimetype": "text/x-python",
   "name": "python",
   "nbconvert_exporter": "python",
   "pygments_lexer": "ipython3",
   "version": "3.13.5"
  }
 },
 "nbformat": 4,
 "nbformat_minor": 0
}
