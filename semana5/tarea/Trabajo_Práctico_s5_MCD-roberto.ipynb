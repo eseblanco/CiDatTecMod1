{
 "cells": [
  {
   "cell_type": "markdown",
   "metadata": {
    "id": "GItxU96mTk16"
   },
   "source": [
    "# Matemática para Ciencia de los Datos\n",
    "# Trabajo Práctico 4\n",
    "\n",
    "Profesor: Juan Luis Crespo Mariño (basado en trabajo previo del Prof. Dr. Luis Alexánder Calvo Valverde)\n",
    "\n",
    "Instituto Tecnológico de Costa Rica,\n",
    "\n",
    "Programa Ciencia de Datos\n",
    "\n",
    "---\n",
    "\n",
    "Fecha de entrega: 19 de agosto del 2025, hora límite las 6:00 pm.\n",
    "\n",
    "Medio de entrega: Por medio del TEC-Digital.\n",
    "\n",
    "Entregables: Un archivo jupyter ( .IPYNB ).\n",
    "\n",
    "Estudiante(s):\n",
    "1. **Nombre_Estudiante_1**\n",
    "1. **Nombre_Estudiante_2**\n"
   ]
  },
  {
   "cell_type": "markdown",
   "metadata": {},
   "source": [
    "# Matemática para Ciencia de los Datos\n",
    "# Trabajo Práctico 4\n",
    "\n",
    "Profesor: Juan Luis Crespo Mariño (basado en trabajo previo del Prof. Dr. Luis Alexánder Calvo Valverde)\n",
    "\n",
    "Instituto Tecnológico de Costa Rica,\n",
    "\n",
    "Programa Ciencia de Datos\n",
    "\n",
    "---\n",
    "\n",
    "Fecha de entrega: 19 de agosto del 2025, hora límite las 6:00 pm.\n",
    "\n",
    "Medio de entrega: Por medio del TEC-Digital.\n",
    "\n",
    "Entregables: Un archivo jupyter ( .IPYNB ).\n",
    "\n",
    "Estudiante(s):\n",
    "1. **Nombre_Estudiante_1**\n",
    "1. **Nombre_Estudiante_2**\n"
   ]
  },
  {
   "cell_type": "markdown",
   "metadata": {
    "id": "tgcoZAm82q8Y"
   },
   "source": [
    "\n",
    "---\n",
    "\n",
    "## Parte 1\n",
    "\n",
    "Dada la siguiente matriz:\n",
    "\n",
    "\\begin{equation}\n",
    "A= \\begin{bmatrix}\n",
    "   1.,2. \\\\\n",
    "   3.,4.\n",
    "\\end{bmatrix}\n",
    "\\end{equation}\n",
    "\n",
    "\n"
   ]
  },
  {
   "cell_type": "markdown",
   "metadata": {
    "id": "lFwss7hSAJT3"
   },
   "source": [
    "**Ejercicio 1.1 (25 puntos)**\n",
    "\n",
    "En una celda de texto, calcule los auto-valores y deje planteada la ecuación para el cálculo de los los auto-vectores como los ejemplos vistos en clase. Debe mostrar todo el procedimiento."
   ]
  },
  {
   "cell_type": "markdown",
   "metadata": {
    "id": "tCGUhHInAJT4"
   },
   "source": [
    "$$\n",
    "A = \\begin{pmatrix} 1 & 2 \\\\ 3 & 4 \\end{pmatrix},\n",
    "\\quad\n",
    "A - \\lambda I = \n",
    "\\begin{pmatrix} 1 & 2 \\\\ 3 & 4 \\end{pmatrix} \n",
    "- \\lambda \\begin{pmatrix} 1 & 0 \\\\ 0 & 1 \\end{pmatrix} \n",
    "= \\begin{pmatrix} 1 - \\lambda & 2 \\\\ 3 & 4 - \\lambda \\end{pmatrix}\n",
    "$$\n",
    "\n",
    "$$\n",
    "\\left| \\begin{matrix} 1 - \\lambda & 2 \\\\ 3 & 4 - \\lambda \\end{matrix} \\right| = 0\n",
    "\\quad\\Rightarrow\\quad\n",
    "(1 - \\lambda)(4 - \\lambda) - 6 = 0\n",
    "$$\n",
    "\n",
    "$$\n",
    "4 - \\lambda - 4\\lambda + \\lambda^2 - 6 = 0\n",
    "\\quad\\Rightarrow\\quad\n",
    "\\lambda^2 - 5\\lambda - 2 = 0\n",
    "$$\n",
    "\n",
    "<div align=\"center\">Es una ecuación cuadrática</div>\n",
    "\n",
    "$$\n",
    "a\\lambda^2 + b\\lambda + c = 0 \n",
    "\\quad\\Rightarrow\\quad \n",
    "\\lambda = \\frac{-b \\pm \\sqrt{b^2 - 4ac}}{2a}\n",
    "$$\n",
    "\n",
    "$$\n",
    "\\lambda = \\frac{5 \\pm \\sqrt{25 + 8}}{2}\n",
    "\\quad\\Rightarrow\\quad\n",
    "\\lambda_1 = \\frac{5 + \\sqrt{33}}{2},\\quad\n",
    "\\lambda_2 = \\frac{5 - \\sqrt{33}}{2}\n",
    "$$"
   ]
  },
  {
   "cell_type": "markdown",
   "metadata": {
    "id": "xhrJq1ZxAJT4"
   },
   "source": [
    "**Ejercicio 1.2 (25 puntos)**\n",
    "\n",
    "En una celda de código y utilizando la función eig de numpy, calcule los auto-valores y auto-vectores y haga las operaciones en el código para mostrar que se cumple: $A\\,\\vec{x} = \\lambda\\vec{x}$ (No olvide las pequeñas posibles diferencias por precisión de la representación numérica).\n"
   ]
  },
  {
   "cell_type": "code",
   "execution_count": 1,
   "metadata": {
    "id": "u4_hMBHolFBm"
   },
   "outputs": [
    {
     "name": "stdout",
     "output_type": "stream",
     "text": [
      "===================================================\n",
      "A:\n",
      "[[1 2]\n",
      " [3 4]]\n",
      "l-autovalores: \n",
      "[-0.37228132  5.37228132]\n",
      "x-autovectores: (Note que vienen normalizados)\n",
      "[[-0.82456484 -0.41597356]\n",
      " [ 0.56576746 -0.90937671]]\n",
      "Prueba de resultados\n",
      "A*x:\n",
      "[[ 0.30697009 -2.23472698]\n",
      " [-0.21062466 -4.88542751]]\n",
      "l*x: \n",
      "[[ 0.30697009 -2.23472698]\n",
      " [-0.21062466 -4.88542751]]\n"
     ]
    }
   ],
   "source": [
    "import numpy as np\n",
    "from numpy import linalg as LA\n",
    "# https://docs.scipy.org/doc/numpy/reference/generated/numpy.linalg.eig.html#numpy.linalg.eig\n",
    "\n",
    "def calcule(A):\n",
    "    print(\"===================================================\")\n",
    "    print(\"A:\")\n",
    "    print(A)\n",
    "    l, x = LA.eig(A)\n",
    "    print(\"l-autovalores: \")\n",
    "    print(l)\n",
    "    print(\"x-autovectores: (Note que vienen normalizados)\")\n",
    "    print(x)\n",
    "    # Prueba\n",
    "    print(\"Prueba de resultados\")\n",
    "\n",
    "    print(\"A*x:\")\n",
    "    print(np.matmul(A,x))\n",
    "    print(\"l*x: \")\n",
    "    # en x los auto-vectores son columnas, por eso para multiplicarlos por los\n",
    "    # auto-valores respectivos se hace este código y se genera una matriz ya\n",
    "    # multiplicado cada auto-valor por su respectivo auto-vector\n",
    "    result = []\n",
    "    for i in range(len(l)):\n",
    "        columna = l[i]*x[:,i]\n",
    "        result.append(columna)\n",
    "    # se transpone porque result quedó con los vectores en forma de fila y son\n",
    "    # vectores columna (auto-vectores)\n",
    "    result = np.array(result).transpose()\n",
    "    print(result)\n",
    "\n",
    "A = np.array([[1, 2], [3, 4]])\n",
    "calcule(A)"
   ]
  },
  {
   "cell_type": "markdown",
   "metadata": {
    "id": "GxgMhL8hAJT7"
   },
   "source": [
    "\n",
    "---\n",
    "\n",
    "## Parte 2\n",
    "\n",
    "\n",
    "Realice lo siguiente: **(40 puntos)**\n",
    "1. Similar a los ejemplos vistos, aplíquele la estrategia PCA a los datos en el archivo adjunto \"data_banknote_authentication.csv\" (el $Y$ corresponde a la columna llamada clase).\n",
    "1. En este caso use los tres primeros componentes principales (no dos como en el ejemplo).\n",
    "1. El ejercicio termina graficando la varianza acumulada versus los componentes principales.\n",
    "\n",
    "---\n",
    "\n"
   ]
  },
  {
   "cell_type": "code",
   "execution_count": null,
   "metadata": {
    "id": "fUSgfON2lFBm"
   },
   "outputs": [],
   "source": []
  },
  {
   "cell_type": "markdown",
   "metadata": {
    "id": "jQpXD1eLlFBm"
   },
   "source": [
    "___\n",
    "\n",
    "## Parte 3\n",
    "\n",
    "Como en el segundo gráfico del cuaderno visto en clase sobre PCA, grafique los tres mayores componentes principales utilizando la bibioteca **plotly** https://plotly.com/python/3d-scatter-plots/  **(10 puntos)**\n",
    "\n",
    "\n",
    "___"
   ]
  },
  {
   "cell_type": "code",
   "execution_count": null,
   "metadata": {
    "id": "jpgbyaWflFBm"
   },
   "outputs": [],
   "source": []
  }
 ],
 "metadata": {
  "colab": {
   "provenance": []
  },
  "kernelspec": {
   "display_name": "TareaSemana4",
   "language": "python",
   "name": "python3"
  },
  "language_info": {
   "codemirror_mode": {
    "name": "ipython",
    "version": 3
   },
   "file_extension": ".py",
   "mimetype": "text/x-python",
   "name": "python",
   "nbconvert_exporter": "python",
   "pygments_lexer": "ipython3",
   "version": "3.11.7"
  }
 },
 "nbformat": 4,
 "nbformat_minor": 0
}
