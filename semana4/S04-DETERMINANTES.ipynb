{
 "cells": [
  {
   "cell_type": "markdown",
   "metadata": {
    "id": "zNaRlcJG1PiT"
   },
   "source": [
    "# Matemática para Ciencia de los Datos\n",
    "- Documento base: Saúl Calderón, Žiga Emeršič, Ángel García, Blaž Meden, Felipe Meza, Martín Solís, Juan Esquivel, Mauro Méndez, Manuel Zumbado, Luis-Alexánder Calvo-Valverde."
   ]
  },
  {
   "cell_type": "markdown",
   "metadata": {
    "id": "LV73K6IO1PiU"
   },
   "source": [
    "## Video\n",
    "\n",
    "https://www.youtube.com/watch?v=yt3eoYvGel0"
   ]
  },
  {
   "cell_type": "markdown",
   "metadata": {
    "id": "iyUvAxOzdgMc"
   },
   "source": [
    "# Determinante de una matriz\n",
    "\n",
    "El determinante de una matriz cuadrada $A\\in\\mathbb{R}^{n\\times n}$ es una función denotada con $\\textrm{det}\\left(A\\right):\\mathbb{R}^{n\\times n}\\rightarrow\\mathbb{R}$. Antes de detallar la fórmula que define al determinante, examinaremos la interpretación geométrica del determinante. Sea una matriz compuesta por múltiples filas:\n",
    "\n",
    "\n",
    "\\begin{equation}\n",
    "A=\\begin{bmatrix}- & \\vec{a}_{1,:}^{T} & -\\\\\n",
    "- & \\vec{a}_{2,:}^{T} & -\\\\\n",
    " & \\vdots\\\\\n",
    "- & \\vec{a}_{n,:}^{T} & -\n",
    "\\end{bmatrix}\n",
    "\\end{equation}\n",
    "\n",
    "considere el conjunto de puntos $S\\subset\\mathbb{R}^{n}$ formado al tomar todas las combinaciones lineales posibles de los vectores fila $\\vec{a}_{i,:}^{T}$, donde los coeficientes de tal combinación lineal cumplen que $0\\leq\\alpha_{i}\\leq1,i=1,\\ldots,n$, lo cual formalmente se denota como:\n",
    "\n",
    "\\begin{equation}\n",
    "S=\\left\\{ \\vec{v}\\in\\mathbb{R}^{n}:\\vec{v}=\\sum_{i=1}^{n}\\alpha_{i}\\vec{a}_{i,:},\\qquad0\\leq\\alpha_{i}\\leq1,i=1,\\ldots,n\\right\\}\n",
    "\\end{equation}\n",
    "\n",
    "El valor absoluto del determinante de la matriz $A$, $\\left|\\textrm{det}\\left(A\\right)\\right|$, corresponde a una medida del volumen de todo el conjunto $S$.\n",
    "\n",
    "Por ejemplo, para la matriz $A\\in\\mathbb{R}^{2\\times2}$:\n",
    "\n",
    "\\begin{equation}\n",
    "A=\\begin{bmatrix}1 & 3\\\\\n",
    "3 & 2\n",
    "\\end{bmatrix}\n",
    "\\end{equation}\n",
    "\n",
    "cuyos vectores fila están dados por:\n",
    "\n",
    "\\begin{equation}\n",
    "\\vec{a}_{1,:}=\\begin{bmatrix}1\\\\\n",
    "3\n",
    "\\end{bmatrix}\\qquad\\vec{a}_{2,:}=\\begin{bmatrix}3\\\\\n",
    "2\n",
    "\\end{bmatrix}\n",
    "\\end{equation}\n",
    "\n",
    "![](https://drive.google.com/uc?export=view&id=1NQT1S63yH27AE4cO1d_YIsi5CkBmwfZ-)\n",
    "\n",
    "\n",
    "se muestra en la Figura, sombreado, el conjunto de puntos $S$. Observe que el punto ``extremo'' $\\vec{a}_{1,:}+\\vec{a}_{2,:}=\\begin{bmatrix}4\\\\\n",
    "5\n",
    "\\end{bmatrix}$, viene dado cuando $\\alpha_{1}=\\alpha_{2}=1$. El determinante para una matriz de $2\\times2$ se define como:\n",
    "\n",
    "\\begin{equation}\n",
    "\\textrm{det}\\left(\\begin{bmatrix}a & b\\\\\n",
    "c & d\n",
    "\\end{bmatrix}\\right)=a\\,d-b\\,c\n",
    "\\end{equation}\n",
    "\n",
    "y para cualquier matriz de $n\\times n$ dimensiones, el determinante se define recursivamente como:\n",
    "\n",
    "\\begin{equation}\n",
    "\\textrm{det}\\left(A\\right)=A_{1,1}\\textrm{det}\\left(A_{\\backslash1,\\backslash1}\\right)-A_{1,2}\\textrm{det}\\left(A_{\\backslash1,\\backslash2}\\right)+\\ldots\\pm A_{1,n}\\textrm{det}\\left(A_{\\backslash1,\\backslash n}\\right)\n",
    "\\end{equation}\n",
    "\n",
    "lo cual es equivalente también a escoger cualquier fila o columna a eliminar:\n",
    "\n",
    "\\begin{equation}\n",
    "\\textrm{det}\\left(A\\right)=\\sum_{i=1}^{n}\\left(-1\\right)^{i+j}A_{i,j}\\left|A_{\\backslash i,\\backslash j}\\right|=\\sum_{j=1}^{n}\\left(-1\\right)^{i+j}A_{i,j}\\left|A_{\\backslash i,\\backslash j}\\right|\n",
    "\\end{equation}\n",
    "\n",
    "Observe que el determinante consiste en la combinación lineal de los determinantes de las submatrices resultantes de eliminar la fila y columna $i$ (denotado como $\\textrm{det}\\left(A_{\\backslash i,\\backslash j}\\right)$), multiplicado por el elemento $A_{1,i}$. Con la matriz de ejemplo $A=\\begin{bmatrix}1 & 3\\\\ 3 & 2 \\end{bmatrix}$ , el determinante viene entonces dado por: $\\textrm{det}\\left(A\\right)=1\\cdot2-3\\cdot3=-7$, y tomando su valor absoluto, se tiene que $\\left|\\textrm{det}\\left(A\\right)\\right|=7$, lo que corresponde al área del paralelogramo formado por el conjunto de puntos $S$ (en $n$ dimensiones, se refiere como paralelótopo).\n",
    "\n",
    "\n",
    "<h3 align=\"center\">Región $S$ de ejemplo.</h3>\n",
    "\n",
    "Las siguientes son propiedades de la función determinante $\\textrm{det}\\left(A\\right)$ para una matriz cuadrada $A\\in\\mathbb{R}^{n\\times n}$ :\n",
    "\n",
    "- El volumen de un hipercubo unitario es $\\textrm{det}\\left(I\\right)=1$.\n",
    "- Homogeneidad: Sea un escalar $s\\in\\mathbb{R}$, $\\textrm{det}\\left(s\\,A\\right)=s\\,\\textrm{det}\\left(A\\right)$\n",
    "- $\\textrm{det}\\left(A\\right)=\\textrm{det}\\left(A^{T}\\right)$\n",
    "- $\\textrm{det}\\left(A\\,B\\right)=\\textrm{det}\\left(A\\right)\\,\\textrm{det}\\left(B\\right)$\n",
    "- $\\textrm{det}\\left(A\\right)=0$, implica que $A$ es una matriz singular (no invertible), por lo que entonces no tiene rango completo, y sus columnas son **linealmente dependientes**, lo que implica además la superficie $S$ no tiene volumen, al ser los vectores combinación lineal.\n",
    "- $\\textrm{det}\\left(A^{-1}\\right)=1/\\textrm{det}\\left(A\\right)$\n"
   ]
  },
  {
   "cell_type": "code",
   "execution_count": null,
   "metadata": {
    "colab": {
     "base_uri": "https://localhost:8080/"
    },
    "executionInfo": {
     "elapsed": 7,
     "status": "ok",
     "timestamp": 1747093212793,
     "user": {
      "displayName": "Juan Luis Crespo Mariño",
      "userId": "03346858873753472973"
     },
     "user_tz": 300
    },
    "id": "I1aHVuxNuxcL",
    "outputId": "82b1a753-f128-4696-b2a9-6556e60764d1"
   },
   "outputs": [
    {
     "name": "stdout",
     "output_type": "stream",
     "text": [
      "[[1. 2. 3.]\n",
      " [4. 5. 6.]\n",
      " [7. 8. 9.]]\n",
      "[[1. 3.]\n",
      " [3. 2.]]\n",
      "[[3. 0. 4.]\n",
      " [2. 5. 6.]\n",
      " [1. 4. 8.]]\n"
     ]
    }
   ],
   "source": [
    "import numpy as np\n",
    "m1 = np.array([[1,2,3],[4,5,6],[7,8,9]], dtype=np.float32)\n",
    "m2 = np.array([[1,3],[3,2]], dtype=np.float32)\n",
    "m3 = np.array([[3,0,4],[2,5,6],[1,4,8]], dtype=np.float32)\n",
    "\n",
    "print(m1)\n",
    "print(m2)\n",
    "print(m3)"
   ]
  },
  {
   "cell_type": "code",
   "execution_count": null,
   "metadata": {
    "colab": {
     "base_uri": "https://localhost:8080/"
    },
    "executionInfo": {
     "elapsed": 5,
     "status": "ok",
     "timestamp": 1747093215528,
     "user": {
      "displayName": "Juan Luis Crespo Mariño",
      "userId": "03346858873753472973"
     },
     "user_tz": 300
    },
    "id": "OGt3ldpM1PiX",
    "outputId": "9ad98793-a7e2-4e75-da03-208dd5ebd106"
   },
   "outputs": [
    {
     "name": "stdout",
     "output_type": "stream",
     "text": [
      "0.0\n",
      "-7.0\n",
      "60.0\n",
      "2\n",
      "2\n",
      "3\n"
     ]
    }
   ],
   "source": [
    "from numpy.linalg import matrix_rank\n",
    "# esta da cero\n",
    "print(np.linalg.det(m1))\n",
    "\n",
    "# esta da -7\n",
    "print(np.linalg.det(m2))\n",
    "\n",
    "# esta da -7\n",
    "print(np.linalg.det(m3))\n",
    "\n",
    "\n",
    "print(matrix_rank(m1))\n",
    "print(matrix_rank(m2))\n",
    "print(matrix_rank(m3))\n"
   ]
  },
  {
   "cell_type": "code",
   "execution_count": null,
   "metadata": {
    "colab": {
     "base_uri": "https://localhost:8080/"
    },
    "executionInfo": {
     "elapsed": 37,
     "status": "ok",
     "timestamp": 1747093186075,
     "user": {
      "displayName": "Juan Luis Crespo Mariño",
      "userId": "03346858873753472973"
     },
     "user_tz": 300
    },
    "id": "ge9seNn51PiX",
    "outputId": "9a12fa65-25c1-463e-9df2-871406db812d"
   },
   "outputs": [
    {
     "name": "stdout",
     "output_type": "stream",
     "text": [
      "17.0\n"
     ]
    }
   ],
   "source": [
    "m2 = np.array([[10,1],[3,2]], dtype=np.float32)\n",
    "print(np.linalg.det(m2))"
   ]
  },
  {
   "cell_type": "code",
   "execution_count": null,
   "metadata": {
    "colab": {
     "base_uri": "https://localhost:8080/"
    },
    "executionInfo": {
     "elapsed": 14,
     "status": "ok",
     "timestamp": 1747093186097,
     "user": {
      "displayName": "Juan Luis Crespo Mariño",
      "userId": "03346858873753472973"
     },
     "user_tz": 300
    },
    "id": "HeLo56Vn1PiY",
    "outputId": "a3a80939-8716-4d9e-a463-2a98d4e02122"
   },
   "outputs": [
    {
     "name": "stdout",
     "output_type": "stream",
     "text": [
      "-53.0\n"
     ]
    }
   ],
   "source": [
    "eje = np.array([[1,3,5],[8,4,1],[3,2,4]], dtype=np.float32)\n",
    "print(np.linalg.det(eje))\n"
   ]
  },
  {
   "cell_type": "code",
   "execution_count": null,
   "metadata": {
    "executionInfo": {
     "elapsed": 61,
     "status": "ok",
     "timestamp": 1747093186159,
     "user": {
      "displayName": "Juan Luis Crespo Mariño",
      "userId": "03346858873753472973"
     },
     "user_tz": 300
    },
    "id": "5TxF7RO11PiY"
   },
   "outputs": [],
   "source": []
  }
 ],
 "metadata": {
  "colab": {
   "provenance": []
  },
  "kernelspec": {
   "display_name": "Python 3 (ipykernel)",
   "language": "python",
   "name": "python3"
  },
  "language_info": {
   "codemirror_mode": {
    "name": "ipython",
    "version": 3
   },
   "file_extension": ".py",
   "mimetype": "text/x-python",
   "name": "python",
   "nbconvert_exporter": "python",
   "pygments_lexer": "ipython3",
   "version": "3.12.4"
  }
 },
 "nbformat": 4,
 "nbformat_minor": 0
}
