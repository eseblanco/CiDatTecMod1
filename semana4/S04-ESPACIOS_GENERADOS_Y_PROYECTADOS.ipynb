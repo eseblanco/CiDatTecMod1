{
 "cells": [
  {
   "cell_type": "markdown",
   "metadata": {
    "id": "MztdSyMHLcbu"
   },
   "source": [
    "# Matemática para Ciencia de los Datos\n",
    "\n",
    "- Documento base: Saúl Calderón, Žiga Emeršič, Ángel García, Blaž Meden, Felipe Meza, Martín Solís, Juan Esquivel, Mauro Méndez, Manuel Zumbado,  Luis-Alexánder Calvo-Valverde"
   ]
  },
  {
   "cell_type": "markdown",
   "metadata": {
    "id": "htCkH_8SEqR7"
   },
   "source": [
    "## Motivación de los siguientes temas:\n",
    "\n",
    "Transformaciones: https://www.youtube.com/watch?v=YJfS4_m_0Z8\n",
    "\n",
    "Opcional, aplicación futura, PCA: https://www.youtube.com/watch?v=AniiwysJ-2Y"
   ]
  },
  {
   "cell_type": "markdown",
   "metadata": {
    "id": "Kc5hY2NzZS8C"
   },
   "source": [
    "# Espacio generado, proyección y espacio nulo\n",
    "\n",
    "Un **espacio generado** de un conjunto de vectores $\\left\\{ \\vec{a}_{1},\\vec{a}_{2},\\ldots,\\vec{a}_{m}\\right\\} \\qquad\\vec{a}_{i}\\in\\mathbb{R}^{n}$ es el conjunto de vectores que pueden ser expresados como combinación\n",
    "lineal de tales vectores:\n",
    "\n",
    "\\begin{equation}\n",
    "\\textrm{espacioGenerado}\\left(\\left\\{ \\vec{a}_{1},\\vec{a}_{2},\\ldots,\\vec{a}_{m}\\right\\} \\right)=\\left\\{ \\vec{v}:\\vec{v}=\\sum_{i=1}^{m}x_{i}\\vec{a}_{i}\\qquad x_{i}\\in\\mathbb{R}^{1}\\right\\} .\n",
    "\\end{equation}\n",
    "\n",
    "Puede demostrarse que si el conjunto de vectores $\\left\\{ \\vec{a}_{1},\\vec{a}_{2},\\ldots,\\vec{a}_{m}\\right\\} \\qquad\\vec{a}_{i}\\in\\mathbb{R}^{n}$ es **linealmente independiente** (con $m\\geq n$), el espacio\n",
    "generado por tal conjunto de vectores es:\n",
    "\n",
    "\\begin{equation}\n",
    "\\textrm{espacioGenerado}\\left(\\left\\{ \\vec{a}_{1},\\vec{a}_{2},\\ldots,\\vec{a}_{m}\\right\\} \\right)=\\mathbb{R}^{n}.\n",
    "\\end{equation}\n",
    "\n",
    "Por ejemplo, los vectores unitarios $\\hat{i}=\\begin{bmatrix}1\\\\\n",
    "0\\\\\n",
    "0\n",
    "\\end{bmatrix}$, $\\hat{j}=\\begin{bmatrix}0\\\\\n",
    "1\\\\\n",
    "0\n",
    "\\end{bmatrix}$ y $\\hat{k}=\\begin{bmatrix}0\\\\\n",
    "0\\\\\n",
    "1\n",
    "\\end{bmatrix}$ son linealmente independientes, por lo que entonces es fácil observar que la combinación lineal de tales vectores puede generar cualquier vector en el espacio $\\mathbb{R}^{3}$. Por ejemplo, un vector $\\vec{v}=\\begin{bmatrix}3\\\\\n",
    "5\\\\\n",
    "7\n",
    "\\end{bmatrix}$ se puede representar como:\n",
    "\n",
    "\\begin{equation}\n",
    "\\vec{v}=3\\hat{i}+5\\hat{j}+7\\hat{k}=3\\,\\begin{bmatrix}1\\\\\n",
    "0\\\\\n",
    "0\n",
    "\\end{bmatrix}+5\\,\\begin{bmatrix}0\\\\\n",
    "1\\\\\n",
    "0\n",
    "\\end{bmatrix}+7\\,\\begin{bmatrix}0\\\\\n",
    "0\\\\\n",
    "1\n",
    "\\end{bmatrix}\n",
    "\\end{equation}\n",
    "\n",
    "por lo que entonces $\\vec{v}\\in\\textrm{espacioGenerado}\\left(\\left\\{ \\vec{i},\\vec{j},\\vec{k}\\right\\} \\right)=\\mathbb{R}^{3}$, con en este caso $x_{1}=3$, $x_{2}=5$ y $x_{3}=7$.\n",
    "\n",
    "**La proyección** **de un vector** $\\vec{y}\\in\\mathbb{R}^{n}$ en el espacio generado por el conjunto de vectores $\\left\\{ \\vec{a}_{1},\\vec{a}_{2},\\ldots,\\vec{a}_{m}\\right\\} \\qquad\\vec{a}_{i}\\in\\mathbb{R}^{n}$ corresponde al vector $\\vec{v}\\in\\textrm{espacioGenerado}\\left(\\left\\{ \\vec{a}_{1},\\vec{a}_{2},\\ldots,\\vec{a}_{m}\\right\\} \\right)$ tal que $\\vec{v}\\in\\mathbb{R}^{n}$ esté lo más cerca posible del vector $\\vec{y}\\in\\mathbb{R}^{n}$, medido, por ejemplo, con una norma euclidiana $\\left\\Vert \\vec{v}-\\vec{y}\\right\\Vert _{2}$ y se puede definir formalmente como:\n",
    "\n",
    "\\begin{equation}\n",
    "\\textrm{proy}\\left(\\vec{y};\\left\\{ \\vec{a}_{1},\\vec{a}_{2},\\ldots,\\vec{a}_{m}\\right\\} \\right)=\\textrm{argmin}_{\\vec{v}\\in\\textrm{espacioGenerado}\\left(\\left\\{ \\vec{a}_{1},\\vec{a}_{2},\\ldots,\\vec{a}_{m}\\right\\} \\right)}\\left\\Vert \\vec{v}-\\vec{y}\\right\\Vert _{2}.\n",
    "\\end{equation}\n",
    "\n",
    "Por otra parte, el **espacio de columnas** de una matriz $A\\in\\mathbb{R}^{m\\times n}$ denotado como $\\mathcal{C}\\left(A\\right)$ corresponde al espacio generado por las columnas de la matriz $A$, lo cual se representa como sigue:\n",
    "\n",
    "\\begin{equation}\n",
    "\\mathcal{C}\\left(A\\right) = \\left\\{ \\vec{v}\\in\\mathbb{R}^{m}:\\vec{v}=A\\,\\vec{x},\\;\\vec{x}\\in\\mathbb{R}^{m},\\:A\\in\\mathbb{R}^{n\\times m}\\right\\} ,\n",
    "\\end{equation}\n",
    "\n",
    "donde recordemos que la multiplicación matricial $A\\,\\vec{x}$ corresponde a una combinación lineal del vector $\\vec{x}$:\n",
    "\n",
    "\\begin{equation}\n",
    "A\\,\\overrightarrow{x}=\\begin{bmatrix}| & | & \\ldots & |\\\\\n",
    "\\vec{a}_{:,1} & \\vec{a}_{:,2} & \\ldots & \\vec{a}_{:,n}\\\\\n",
    "| & | & \\ldots & |\n",
    "\\end{bmatrix}\\,\\begin{bmatrix}x_{1}\\\\\n",
    "x_{2}\\\\\n",
    "\\vdots\\\\\n",
    "x_{n}\n",
    "\\end{bmatrix}=x_{1}\\left[\\vec{a}_{:,1}\\right]+x_{2}\\left[a_{:,2}\\right]+\\ldots+x_{n}\\left[a_{:,n}\\right],\n",
    "\\end{equation}\n",
    "\n",
    "por lo que entonces el espacio de columnas de la matriz $A$ equivale a:\n",
    "\n",
    "\\begin{equation}\n",
    "{\\mathcal{C}\\left(A\\right)} = espacioGenerado\\left(\\left\\{ \\vec{a}_{:,1},\\vec{a}_{:,2},\\ldots,\\vec{a}_{:,n}\\right\\} \\right)=\\left\\{ v:v=\\sum_{i=1}^{n}x_{i}\\vec{a}_{:,i}\\qquad x_{i}\\in\\mathbb{R}^{1}\\right\\} .\n",
    "\\end{equation}\n",
    "\n",
    "Asumiendo que $A$ es de **rango completo** y que $n<m$ se tiene que la proyección del vector $\\vec{y}\\in\\mathbb{R}^{n}$ en el espacio de columnas de la matriz $A$ está dado por:\n",
    "\n",
    "\\begin{equation}\n",
    "\\textrm{proy}\\left(\\vec{y};A\\right)=\\textrm{argmin}_{\\vec{v}\\in\\mathcal{C}\\left(A\\right)}\\left\\Vert \\vec{v}-\\vec{y}\\right\\Vert _{2}=\\textrm{argmin}_{\\vec{x}}\\sqrt{\\left(A\\:\\vec{x}-\\vec{y}\\right)\\cdotp\\left(A\\:\\vec{x}-\\vec{y}\\right)}\n",
    "\\end{equation}\n",
    "\n",
    "\\begin{equation}\n",
    "\\Rightarrow\\textrm{proy}\\left(\\vec{y};A\\right)=\\textrm{argmin}_{\\vec{x}}\\sqrt{\\left(A\\:\\vec{x}-\\vec{y}\\right)^{T}\\left(A\\:\\vec{x}-\\vec{y}\\right)}\n",
    "\\end{equation}\n",
    "\n",
    "El encontrar el vector que minimice la ecuación $\\left(A\\:\\vec{x}-\\vec{y}\\right)^{T}\\left(A\\:\\vec{x}-\\vec{y}\\right)$\n",
    "se le llama el problema de los **mínimos cuadrados**. Nos preocupamos de tal ecuación, pues usualmente se eleva el cuadrado la ecuación original de la proyección, dado que tomar su cuadrado no altera el mínimo:\n",
    "\n",
    "\\begin{equation}\n",
    "\\textrm{argmin}_{\\vec{v}\\in\\mathcal{C}\\left(A\\right)}\\left\\Vert \\vec{v}-\\vec{y}\\right\\Vert _{2}^{2}=\\textrm{argmin}_{\\vec{x}}\\left(A\\:\\vec{x}-\\vec{y}\\right)\\cdotp\\left(A\\:\\vec{x}-\\vec{y}\\right).\n",
    "\\end{equation}\n",
    "\n",
    "Este tema se retomará más adelante, una vez que se haya definido el concepto de gradiente matricial y se demostrará que:\n",
    "\n",
    "\\begin{equation}\n",
    "\\textrm{proy}\\left(\\vec{y};A\\right)=\\textrm{argmin}_{\\vec{v}\\in\\mathcal{C}\\left(A\\right)}\\left\\Vert \\vec{v}-\\vec{y}\\right\\Vert _{2}=A\\,\\left(A^{T}A\\right)^{-1}A^{T}\\vec{y}\n",
    "\\end{equation}\n",
    "\n",
    "Para el caso en que $A$ está formada por una sola columna $\\vec{a}\\in\\mathbb{R}^{m}$ (correspondiente a un espacio generador de un vector), se tiene el caso especial de la proyección de un vector sobre otro vector:\n",
    "\n",
    "\\begin{equation}\n",
    "\\textrm{proy}\\left(\\vec{y};\\vec{a}\\right)=\\frac{\\vec{a}\\,\\vec{a}^{T}}{\\vec{a}^{T}\\,\\vec{a}}\\vec{y}\n",
    "\\end{equation}\n",
    "\n",
    "El **espacio nulo** de una matriz $A\\in\\mathbb{R}^{m\\times n}$, se define como el conjunto de todos los vectores que al multiplicarse con la matriz $A$ resultan en $0$, y se denota como\n",
    "\n",
    "\\begin{equation}\n",
    "\\mathcal{N}\\left(A\\right)=\\left\\{ \\vec{x}\\in\\mathbb{R}^{n}:A\\,\\vec{x}=0\\right\\}\n",
    "\\end{equation}"
   ]
  },
  {
   "cell_type": "markdown",
   "metadata": {
    "id": "YbfufH9pOEWM"
   },
   "source": [
    "# **Ejemplos**"
   ]
  },
  {
   "cell_type": "markdown",
   "metadata": {
    "id": "-fjSUptw8Pf8"
   },
   "source": [
    "\n",
    "## Ejemplo 1: Mismo número de vectores base $m$ y dimensionalidad del vector  $n$, vectores base linealmente independientes.\n",
    "Dados los vectores base independientes $$\\vec{a}_{1}=\\begin{bmatrix}0.5\\\\\n",
    "0\\\\\n",
    "0\n",
    "\\end{bmatrix}, \\vec{a}_{2}=\\begin{bmatrix}0\\\\\n",
    "0.25\\\\\n",
    "0\n",
    "\\end{bmatrix},  \\vec{a}_{3}=\\begin{bmatrix}0\\\\\n",
    "0\\\\\n",
    "2\n",
    "\\end{bmatrix}$$\n",
    "Calcular el vector de proyección  $\\textrm{proy}\\left(\\vec{y};A\\right)\\in\\mathbb{R}^{3}$ con $ \\vec{y}=\\begin{bmatrix}1\\\\\n",
    "2\\\\\n",
    "3\n",
    "\\end{bmatrix}$ y evaluar su error."
   ]
  },
  {
   "cell_type": "code",
   "execution_count": 4,
   "metadata": {
    "colab": {
     "base_uri": "https://localhost:8080/"
    },
    "executionInfo": {
     "elapsed": 9,
     "status": "ok",
     "timestamp": 1747101270047,
     "user": {
      "displayName": "Juan Luis Crespo Mariño",
      "userId": "03346858873753472973"
     },
     "user_tz": 300
    },
    "id": "wHQaCG_HJXHo",
    "outputId": "12584114-c30f-4f7c-98e4-b4a35f4edec2"
   },
   "outputs": [
    {
     "name": "stdout",
     "output_type": "stream",
     "text": [
      "Vector proyectado: \n",
      "[[7.    ]\n",
      " [0.    ]\n",
      " [3.7826]]\n",
      "Error de proyección: \n",
      "0.0\n"
     ]
    }
   ],
   "source": [
    "import numpy as np\n",
    "from numpy import linalg as LA\n",
    "\n",
    "def projectInvertible(y, A):\n",
    "  \"\"\"\n",
    "  y: column vector, 2d array\n",
    "  A: n x m matrix, 2d array\n",
    "  \"\"\"\n",
    "  At = np.transpose(A)\n",
    "  invMatrix = LA.inv(np.matmul(At,A))\n",
    "  return np.matmul( np.matmul(np.matmul(A,invMatrix), At), y)\n",
    "\n",
    "def calculateProjectionError(v, y):\n",
    "  \"\"\"\n",
    "  Calcualte projection error by using the euclidian distance\n",
    "  \"\"\"\n",
    "  return LA.norm(v - y, 2)\n",
    "\n",
    "y = np.array    ([[7.0],\n",
    "                  [0.0],\n",
    "                  [3.7826]])\n",
    "\n",
    "A = np.array    ([ [0.5, 0,    0],\n",
    "                   [0,   0.25, 0],\n",
    "                   [0,   0,    2]])\n",
    "#calculate the projection\n",
    "projY_A = projectInvertible(y,A)\n",
    "print(\"Vector proyectado: \")\n",
    "print(projY_A)\n",
    "#calculate its error, which should be zero for invertible A, or lineally independent base vectors\n",
    "print(\"Error de proyección: \")\n",
    "error = calculateProjectionError(projY_A, y)\n",
    "print(error)"
   ]
  },
  {
   "cell_type": "markdown",
   "metadata": {
    "id": "5gZXxBIMEwZe"
   },
   "source": [
    "## Ejemplo 2: Mismo número de vectores base $m$ y dimensionalidad del vector $n$, vectores base linealmente dependientes\n",
    "$$\n",
    "\\vec{a}_{1}=\\begin{bmatrix}0.5\\\\\n",
    "0\\\\\n",
    "0\n",
    "\\end{bmatrix}, \\vec{a}_{2}=\\begin{bmatrix}1\\\\\n",
    "0\\\\\n",
    "0\n",
    "\\end{bmatrix}  \\vec{a}_{3}=\\begin{bmatrix}0\\\\\n",
    "1\\\\\n",
    "2\n",
    "\\end{bmatrix}\n",
    "$$\n",
    "Calcular el vector de proyección  $\\textrm{proy}\\left(\\vec{y};A\\right)\\in\\mathbb{R}^{3}$ con $ \\vec{y}=\\begin{bmatrix}1\\\\\n",
    "2\\\\\n",
    "3\n",
    "\\end{bmatrix}$ y evaluar su error."
   ]
  },
  {
   "cell_type": "code",
   "execution_count": 11,
   "metadata": {
    "colab": {
     "base_uri": "https://localhost:8080/"
    },
    "executionInfo": {
     "elapsed": 6,
     "status": "ok",
     "timestamp": 1747101643404,
     "user": {
      "displayName": "Juan Luis Crespo Mariño",
      "userId": "03346858873753472973"
     },
     "user_tz": 300
    },
    "id": "NdtNLGi9FrdH",
    "outputId": "b7ac5414-be12-4cd8-8eb1-2996204d8d94"
   },
   "outputs": [
    {
     "name": "stdout",
     "output_type": "stream",
     "text": [
      "Vector proyectado\n",
      "[[1.]\n",
      " [1.]\n",
      " [2.]]\n",
      "Error de proyección: \n",
      "2.220446049250313e-16\n"
     ]
    }
   ],
   "source": [
    "from numpy.linalg import pinv\n",
    "\n",
    "def projectNonInvertible(y, A):\n",
    "  \"\"\"\n",
    "  y: column vector, 2d\n",
    "  A: n x m matrix, 2d\n",
    "  \"\"\"\n",
    "  At = np.transpose(A)\n",
    "  invMatrix = LA.pinv(np.matmul(At,A))\n",
    "  return np.matmul( np.matmul(np.matmul(A,invMatrix), At), y)\n",
    "\n",
    "A = np.array([[0.5, 1.0, 0.0], [0.0, 0.0, 1.0], [0.0, 0.0, 2.0]])\n",
    "y = np.array([[1.0], [1.0], [2.0]])\n",
    "#calculate the projection\n",
    "projY_A = projectNonInvertible(y,A)\n",
    "\n",
    "print(\"Vector proyectado\")\n",
    "print(projY_A)\n",
    "print(\"Error de proyección: \")\n",
    "error = calculateProjectionError(projY_A, y)\n",
    "print(error)"
   ]
  },
  {
   "cell_type": "markdown",
   "metadata": {
    "id": "bEOxwbMxIutm"
   },
   "source": [
    "### Ejemplo 3: Más vectores base $m$ que la dimensionalidad del vector $n$\n",
    "Con los siguientes vectores base $$\\vec{a}_{1}=\\begin{bmatrix}0.5\\\\\n",
    "0\\\\\n",
    "0\n",
    "\\end{bmatrix}, \\vec{a}_{2}=\\begin{bmatrix}0\\\\\n",
    "0.25\\\\\n",
    "3\n",
    "\\end{bmatrix}, \\vec{a}_{3}=\\begin{bmatrix}0\\\\\n",
    "0\\\\\n",
    "2\n",
    "\\end{bmatrix}, \\vec{a}_{4}=\\begin{bmatrix}23\\\\\n",
    "5\\\\\n",
    "3\n",
    "\\end{bmatrix}$$\n",
    "\n",
    "Calcular el vector de proyección  $\\textrm{proy}\\left(\\vec{y};A\\right)\\in\\mathbb{R}^{3}$ con $ \\vec{y}=\\begin{bmatrix}1\\\\\n",
    "2\\\\\n",
    "3\n",
    "\\end{bmatrix}$ y evaluar su error."
   ]
  },
  {
   "cell_type": "code",
   "execution_count": 14,
   "metadata": {
    "colab": {
     "base_uri": "https://localhost:8080/"
    },
    "executionInfo": {
     "elapsed": 8,
     "status": "ok",
     "timestamp": 1747102123072,
     "user": {
      "displayName": "Juan Luis Crespo Mariño",
      "userId": "03346858873753472973"
     },
     "user_tz": 300
    },
    "id": "apqV5hQiJKIC",
    "outputId": "82b35279-676a-4894-f518-c4d70b031db9"
   },
   "outputs": [
    {
     "name": "stdout",
     "output_type": "stream",
     "text": [
      "Vector proyectado\n",
      "[[-3.15664161e-13]\n",
      " [-7.00000000e+00]\n",
      " [ 3.00000000e+00]]\n",
      "Error de proyección: \n",
      "7.697273396647114e-13\n"
     ]
    }
   ],
   "source": [
    "A = np.array([[0.5, 0.0, 0.0,23.0], [0.0, 0.25, 0.0,5.0], [0.0, 3.0, 2.0,3.0]])\n",
    "y = np.array([[0.0], [-7.0], [3.0]])\n",
    "#calculate the projection\n",
    "projY_A = projectNonInvertible(y,A)\n",
    "print(\"Vector proyectado\")\n",
    "print(projY_A)\n",
    "print(\"Error de proyección: \")\n",
    "error = calculateProjectionError(projY_A, y)\n",
    "print(error)"
   ]
  },
  {
   "cell_type": "markdown",
   "metadata": {
    "id": "tbdzzraVNeLb"
   },
   "source": [
    "### Ejemeplo 4: Menos vectores base $m$ que la dimensionalidad del vector $n$\n",
    "Dados los siguientes vectores:\n",
    "\n",
    "$$ \\vec{a}_{1}=\\begin{bmatrix}5\\\\\n",
    "7\\\\\n",
    "21\n",
    "\\end{bmatrix},  \\vec{a}_{2}=\\begin{bmatrix}0\\\\\n",
    "13\\\\\n",
    "9\n",
    "\\end{bmatrix}$$\n",
    "\n",
    "Calcular el vector de proyección  $\\textrm{proy}\\left(\\vec{y};A\\right)\\in\\mathbb{R}^{3}$ con $ \\vec{y}=\\begin{bmatrix}1\\\\\n",
    "2\\\\\n",
    "3\n",
    "\\end{bmatrix}$ y evaluar su error."
   ]
  },
  {
   "cell_type": "code",
   "execution_count": 16,
   "metadata": {
    "colab": {
     "base_uri": "https://localhost:8080/"
    },
    "executionInfo": {
     "elapsed": 5,
     "status": "ok",
     "timestamp": 1747102325079,
     "user": {
      "displayName": "Juan Luis Crespo Mariño",
      "userId": "03346858873753472973"
     },
     "user_tz": 300
    },
    "id": "NMUlYjMqN1bJ",
    "outputId": "1874ddf6-f81b-470b-c5fe-827cb130bafc"
   },
   "outputs": [
    {
     "name": "stdout",
     "output_type": "stream",
     "text": [
      "Vector proyectado\n",
      "[[ 5.]\n",
      " [20.]\n",
      " [30.]]\n",
      "Error de proyección: \n",
      "1.778575899402738e-14\n"
     ]
    }
   ],
   "source": [
    "A = np.array([[5.0, 0.0], [7.0, 13.0], [21.0, 9.0]])\n",
    "y = np.array([[5.0], [20.0], [30.0]])\n",
    "#calculate the projection\n",
    "projY_A = projectNonInvertible(y,A)\n",
    "print(\"Vector proyectado\")\n",
    "print(projY_A)\n",
    "print(\"Error de proyección: \")\n",
    "error = calculateProjectionError(projY_A, y)\n",
    "print(error)"
   ]
  },
  {
   "cell_type": "code",
   "execution_count": 4,
   "metadata": {
    "executionInfo": {
     "elapsed": 0,
     "status": "ok",
     "timestamp": 1747101223147,
     "user": {
      "displayName": "Juan Luis Crespo Mariño",
      "userId": "03346858873753472973"
     },
     "user_tz": 300
    },
    "id": "ginIqPv5EqSB"
   },
   "outputs": [],
   "source": []
  }
 ],
 "metadata": {
  "colab": {
   "provenance": []
  },
  "kernelspec": {
   "display_name": "venv (3.12.3)",
   "language": "python",
   "name": "python3"
  },
  "language_info": {
   "codemirror_mode": {
    "name": "ipython",
    "version": 3
   },
   "file_extension": ".py",
   "mimetype": "text/x-python",
   "name": "python",
   "nbconvert_exporter": "python",
   "pygments_lexer": "ipython3",
   "version": "3.12.3"
  }
 },
 "nbformat": 4,
 "nbformat_minor": 4
}
