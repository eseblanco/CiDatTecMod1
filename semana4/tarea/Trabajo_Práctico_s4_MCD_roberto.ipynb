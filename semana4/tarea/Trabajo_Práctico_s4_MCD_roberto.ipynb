{
 "cells": [
  {
   "cell_type": "markdown",
   "metadata": {
    "id": "GItxU96mTk16"
   },
   "source": [
    "# Matemática para Ciencia de los Datos\n",
    "# Trabajo Práctico 3\n",
    "\n",
    "Profesor: Juan Luis Crespo Mariño (basado en trabajo previo de Luis Alexánder Calvo Valverde)\n",
    "\n",
    "Instituto Tecnológico de Costa Rica,\n",
    "\n",
    "Programa Ciencia de Datos\n",
    "\n",
    "---\n",
    "\n",
    "Fecha de entrega: 12 de agosto de 2025, hora límite 6:00 pm.\n",
    "\n",
    "Medio de entrega: Por medio del TEC-Digital.\n",
    "\n",
    "Entregables: Un archivo jupyter ( .IPYNB ).\n",
    "\n",
    "Estudiante(s):\n",
    "1. **Nombre_Estudiante_1**\n",
    "1. **Nombre_Estudiante_2**\n"
   ]
  },
  {
   "cell_type": "markdown",
   "metadata": {
    "id": "jdtaAwa8XzNA"
   },
   "source": [
    "---\n",
    "\n",
    "**Pregunta 1**\n",
    "\n",
    "\n",
    "\n",
    "Se puede demostrar que para los vectores generadores de un subespacio $E=\\textrm{espacioGenerado}\\left\\{ \\vec{v}_{1},\\vec{v}_{2},\\ldots,\\vec{v}_{m}\\right\\}$ , con $V=\\left[\\vec{v}_{1},\\vec{v}_{2},\\ldots,\\vec{v}_{m}\\right]$,con $\\vec{v}_{m}\\in\\mathbb{R}^{n}$ si son ortonormales, la ecuación de la proyección de un vector $\\vec{u}\\in\\mathbb{R}^{n}$ originalmente dada por:\n",
    "\n",
    "$$\\textrm{proy}\\left(\\vec{u};V\\right)=\\textrm{argmin}_{\\vec{v}\\in E}\\left\\Vert \\vec{v}-\\vec{u}\\right\\Vert _{2}=V\\,\\left(V^{T}V\\right)^{-1}V^{T}\\vec{u}$$\n",
    "\n",
    "se puede reescribir como:\n",
    "\n",
    "$$\\textrm{proy}\\left(\\vec{u};V\\right)=\\textrm{argmin}_{\\vec{v}\\in E}\\left\\Vert \\vec{v}-\\vec{u}\\right\\Vert _{2}=V\\,V^{T}\\vec{u}$$\n",
    "\n",
    "con $V\\in\\mathbb{R}^{n\\times m}$.\n",
    "\n",
    "\n",
    "\n",
    "\n",
    "\n",
    "\n",
    "\n"
   ]
  },
  {
   "cell_type": "markdown",
   "metadata": {
    "id": "cIWGj3EzyNEx"
   },
   "source": [
    "**1.1 (25 puntos)**\n",
    "\n",
    "Utilizando numpy, proponga una matriz ortonormal de dimensiones 3x3, para ello utilice una fuente como \"Proceso de ortonormalización de  Gram - Schmidt\" (https://blog.nekomath.com/algebra-lineal-i-proceso-de-gram-schmidt/) para producir una matriz ortonormal a partir de una matriz que no es ni ortonormal ni ortogonal.\n",
    "\n",
    "Finalmente muestre en numpy que su matriz resultante es ortonormal ($V$).\n",
    "\n"
   ]
  },
  {
   "cell_type": "code",
   "execution_count": 2,
   "metadata": {
    "id": "If-CbnjCyNEx"
   },
   "outputs": [
    {
     "name": "stdout",
     "output_type": "stream",
     "text": [
      "Matriz ortonormal resultante: [[ 0.05643326  0.18058645  0.98193881]\n",
      " [ 0.95723476  0.26973381 -0.10461971]\n",
      " [ 0.283755   -0.94584999  0.15764167]]\n",
      "Para mostrar que es una matriz ortonormal, se verifica que Qt*Q=I donde Q es la matriz ortogonal resultante, Qt es la transpuesta de dicha matriz e I es la matriz identidad\n",
      "Es una matriz ortonormal? \n",
      "[[ 1. -0. -0.]\n",
      " [-0.  1.  0.]\n",
      " [-0.  0.  1.]] \n",
      "=\n",
      " [[1. 0. 0.]\n",
      " [0. 1. 0.]\n",
      " [0. 0. 1.]]\n",
      "True\n"
     ]
    }
   ],
   "source": [
    "import numpy as np\n",
    "\n",
    "# Se propone una matriz 3x3 cualquiera\n",
    "matrizPropuesta = np.array([[5., 16., 87.], [10., 6., 18.], [4., 4., 83.]])\n",
    "\n",
    "def normalizar(x):\n",
    "    n = np.linalg.norm(x)\n",
    "    if n == 0:\n",
    "        raise ValueError(\"Vector cero: el conjunto no es linealmente independiente.\")\n",
    "    return x / n\n",
    "\n",
    "def gram_schmidt_recursivo(V: np.ndarray) -> np.ndarray:\n",
    "    if len(V) == 0:\n",
    "        return []\n",
    "    U_prev = gram_schmidt_recursivo(V[:-1])\n",
    "    v = V[-1].astype(float)\n",
    "    # Quita proyecciones secuencialmente con el v actualizado\n",
    "    for u in U_prev:\n",
    "        v = v - np.dot(v, u) * u\n",
    "    u = normalizar(v)\n",
    "    return U_prev + [u]\n",
    "    \n",
    "    \n",
    "# Matriz ortonormal de la matriz propuesta\n",
    "q = np.array(gram_schmidt_recursivo(matrizPropuesta))\n",
    "print(f\"Matriz ortonormal resultante: {q}\")\n",
    "\n",
    "print(\"Para mostrar que es una matriz ortonormal, se verifica que Qt*Q=I donde Q es la matriz ortogonal resultante, Qt es la transpuesta de dicha matriz e I es la matriz identidad\")\n",
    "matrizAVerificar = np.round(np.matmul(np.transpose(q), q), 10)\n",
    "matrizIdentidad = np.eye(q.shape[0])\n",
    "print(f\"Es una matriz ortonormal? \\n{matrizAVerificar} \\n=\\n {matrizIdentidad}\")\n",
    "\n",
    "# Para mostrar que es ortonormal Qt*Q=I\n",
    "print(np.array_equal(matrizAVerificar, matrizIdentidad))\n"
   ]
  },
  {
   "cell_type": "markdown",
   "metadata": {
    "id": "MKIrCHhGyNEy"
   },
   "source": [
    "**1.2 (15 puntos)**\n",
    "\n",
    "Proponga un vector $\\vec{u}$ y programe en numpy las operaciones algebraicas siguientes (tome $V$ del paso anterior).\n",
    "\n",
    "$V\\,\\left(V^{T}V\\right)^{-1}V^{T}\\vec{u}$\n",
    "\n",
    "y,\n",
    "\n",
    "$V\\,V^{T}\\vec{u}$\n"
   ]
  },
  {
   "cell_type": "code",
   "execution_count": null,
   "metadata": {
    "id": "OVKs-d0wyNEy"
   },
   "outputs": [
    {
     "name": "stdout",
     "output_type": "stream",
     "text": [
      "V(VtV)^-1Vtu = [ 45.    32.5  -17.45]\n",
      "VVtu = [ 45.    32.5  -17.45]\n",
      "Se puede observar que V(VtV)^-1Vtu es igual a VVtu\n"
     ]
    }
   ],
   "source": [
    "import numpy as np\n",
    "from numpy import linalg as LA\n",
    "\n",
    "def projectInvertible(y, A):\n",
    "  \"\"\"\n",
    "  y: column vector, 2d array\n",
    "  A: n x m matrix, 2d array\n",
    "  \"\"\"\n",
    "  At = np.transpose(A)\n",
    "  invMatrix = LA.inv(np.matmul(At,A))\n",
    "  return np.matmul( np.matmul(np.matmul(A,invMatrix), At), y)\n",
    "\n",
    "def projectInvertibleOrt(y, A):\n",
    "  \"\"\"\n",
    "  y: column vector, 2d array\n",
    "  A: n x m matrix, 2d array\n",
    "  \"\"\"\n",
    "  At = np.transpose(A)\n",
    "  return np.matmul(A, np.matmul(At, y))\n",
    "\n",
    "u = np.array([45., 32.5, -17.45])\n",
    "proy1 = projectInvertible(u, q)\n",
    "proy2 = projectInvertibleOrt(u, q)\n",
    "\n",
    "print(f\"V(VtV)^-1Vtu = {proy1}\")\n",
    "print(f\"VVtu = {proy2}\")\n",
    "\n",
    "print(\"Se puede observar que V(VtV)^-1Vtu es igual a VVtu\")"
   ]
  },
  {
   "cell_type": "markdown",
   "metadata": {
    "id": "ZLSKX63UyNEy"
   },
   "source": [
    "**1.3 (10 puntos)**\n",
    "\n",
    "Programe en python para calcular el error de proyección obtenido para los casos del punto **1.2**."
   ]
  },
  {
   "cell_type": "code",
   "execution_count": 36,
   "metadata": {
    "id": "BWV0eg3cyNEz"
   },
   "outputs": [
    {
     "name": "stdout",
     "output_type": "stream",
     "text": [
      "Error de proyección: \n",
      "0.0\n"
     ]
    }
   ],
   "source": [
    "def calculateProjectionError(v, y):\n",
    "  \"\"\"\n",
    "  Calculate projection error by using the euclidian distance\n",
    "  \"\"\"\n",
    "  return LA.norm(v - y, 2)\n",
    "\n",
    "print(\"Error de proyección: \")\n",
    "error = calculateProjectionError(proy1, u)\n",
    "print(error)"
   ]
  },
  {
   "cell_type": "markdown",
   "metadata": {
    "id": "PFCrNFAayNEz"
   },
   "source": [
    "---\n",
    "\n",
    "**Pregunta 2 (10 puntos)**\n",
    "\n",
    "\n",
    "Programe en python la función calculeDet2, que recibe como parámetro una matriz cuadrada de dimensiones 2x2, llamada M, y retorna el determinante de esa matriz. Usted debe programar las operaciones matemáticas necesarias, no utilizar una función tipo det para calcularla. Pruébela con dos matrices que Usted proponga.\n",
    "\n",
    "def calculeDet2( M ):\n",
    "\n",
    "\n",
    "\n"
   ]
  },
  {
   "cell_type": "code",
   "execution_count": 34,
   "metadata": {
    "id": "hqcB4dpEyNEz"
   },
   "outputs": [
    {
     "name": "stdout",
     "output_type": "stream",
     "text": [
      "Verificando la misma matriz de la clase 4\n",
      "[[1. 3.]\n",
      " [3. 2.]]\n",
      "-7.0\n",
      "\n",
      "Matriz aleatoria y comparando valores con funcion hecha y funcion det\n",
      "129629.5\n",
      "129629.5\n"
     ]
    }
   ],
   "source": [
    "import numpy as np\n",
    "\n",
    "def calculeDet2(M: np.ndarray) -> float:\n",
    "  \"\"\"\n",
    "  Calcula determinante para matrices 2x2\n",
    "  \"\"\"\n",
    "  if len(M) != 2 or M.shape[0] != 2 or M.shape[1] != 2:\n",
    "    raise Exception(\"Metodo exclusivo para calcular la determinante de una matriz 2x2\")\n",
    "  \n",
    "  return M[0,0]*M[1,1] - M[0,1]*M[1,0]\n",
    "\n",
    "m1 = np.array([[1,3],[3,2]], dtype=np.float32)\n",
    "print(f\"Verificando la misma matriz de la clase 4\\n{m1}\")\n",
    "print(calculeDet2(m1))\n",
    "print(\"\\nMatriz aleatoria y comparando valores con funcion hecha y funcion det\")\n",
    "m2 = np.array([[45,-39.5],[1001,2002]], dtype=np.float32)\n",
    "print(calculeDet2(m2))\n",
    "print(np.linalg.det(m2))"
   ]
  },
  {
   "cell_type": "markdown",
   "metadata": {
    "id": "I9bB-ITvyNEz"
   },
   "source": [
    "---\n",
    "\n",
    "**Pregunta 3 (10 puntos)**\n",
    "\n",
    "\n",
    "Programe en python la función calculeDet3, que recibe como parámetro una matriz cuadrada de dimensiones 3x3, llamada M, y retorna el determinante de esa matriz. Usted debe programar las operaciones matemáticas necesarias, no utilizar una función de numpy tipo det para calcularla (sí puede usar función que programó en la **Pregunta 2**). Pruébela con dos matrices que Usted proponga.\n",
    "\n",
    "def calculeDet3( M ):\n",
    "\n",
    "\n",
    "\n",
    "\n"
   ]
  },
  {
   "cell_type": "code",
   "execution_count": 35,
   "metadata": {
    "id": "KvqtCjgUyNE0"
   },
   "outputs": [
    {
     "name": "stdout",
     "output_type": "stream",
     "text": [
      "Verificando la misma matriz de la clase 4\n",
      "[[3. 0. 4.]\n",
      " [2. 5. 6.]\n",
      " [1. 4. 8.]]\n",
      "60.0\n",
      "\n",
      "Matriz aleatoria y comparando valores con funcion hecha y funcion det\n",
      "4418.0\n",
      "4418.0\n"
     ]
    }
   ],
   "source": [
    "import numpy as np\n",
    "\n",
    "def calculeDet3(M: np.ndarray) -> float:\n",
    "  \"\"\"\n",
    "  Calcula determinante para matrices 3x3\n",
    "  \"\"\"\n",
    "  if len(M) != 3 or M.shape[0] != 3 or M.shape[1] != 3:\n",
    "    raise Exception(\"Metodo exclusivo para calcular la determinante de una matriz 3x3\")\n",
    "  \n",
    "  return (M[0,0] * calculeDet2(M[1:3, 1:3])) - (M[0,1] * calculeDet2(M[1:3, [0, 2]])) + (M[0,2] * calculeDet2(M[1:3, 0:2]))\n",
    "\n",
    "m3 = np.array([[3,0,4],[2,5,6],[1,4,8]], dtype=np.float32)\n",
    "print(f\"Verificando la misma matriz de la clase 4\\n{m3}\")\n",
    "print(calculeDet3(m3))\n",
    "\n",
    "print(\"\\nMatriz aleatoria y comparando valores con funcion hecha y funcion det\")\n",
    "m4 = np.array([[10,6,18],[4,4,83], [16,5,87]], dtype=np.float32)\n",
    "print(calculeDet3(m4))\n",
    "print(np.linalg.det(m4))"
   ]
  },
  {
   "cell_type": "markdown",
   "metadata": {
    "id": "dW9DwdLCyNE0"
   },
   "source": [
    "---\n",
    "\n",
    "**Pregunta 4 (15 puntos)**\n",
    "\n",
    "Se tiene que:\n",
    "\n",
    "$$\\textrm{det}\\left(A\\,B\\right)=\\textrm{det}\\left(A\\right)\\,\\textrm{det}\\left(B\\right)$$\n",
    "\n",
    "Proponga dos matrices de 4x4 ( $A$ e $B$) y programando en numpy muestre esta igualdad (puede usar de numpy las funciones det y la de multiplicar matrices).\n",
    "\n",
    "\n",
    "\n",
    "\n"
   ]
  },
  {
   "cell_type": "code",
   "execution_count": null,
   "metadata": {
    "id": "4cYKMmvIyNE0"
   },
   "outputs": [],
   "source": []
  },
  {
   "cell_type": "markdown",
   "metadata": {
    "id": "jZshgIiSyNE0"
   },
   "source": [
    "---\n",
    "\n",
    "**Pregunta 5 (15 puntos)**\n",
    "\n",
    "\n",
    "Utilizando el archivo \"Dataset_usar.csv\", haga:\n",
    "- Cargue el archivo.\n",
    "- Muestre cuántas filas por cuántas columnas tiene el conjunto de datos.\n",
    "- Utilizando el modelo $Ax=b$\n",
    "    - Conforme la matriz $A$ con todas las columnas menos la última de la derecha.\n",
    "    - Conforme el vector $b$ con la última columna de la derecha.\n",
    "    - Calcule el vector de pesos ($x$), utilizando el concepto de mínimos cuadrados $\\left(A^{T}A\\right)^{-1}A^{T}\\vec{b}$\n",
    "    - Calcule un b_estimado con $A$ e $x$\n",
    "    - Calcule la norma 2 de la diferencia entre b y b_estimado.\n",
    "    - Grafique b y b_estimado.\n",
    "\n"
   ]
  },
  {
   "cell_type": "code",
   "execution_count": null,
   "metadata": {
    "id": "Eeiw4xWByNE1"
   },
   "outputs": [],
   "source": []
  }
 ],
 "metadata": {
  "colab": {
   "provenance": []
  },
  "kernelspec": {
   "display_name": "semana4",
   "language": "python",
   "name": "python3"
  },
  "language_info": {
   "codemirror_mode": {
    "name": "ipython",
    "version": 3
   },
   "file_extension": ".py",
   "mimetype": "text/x-python",
   "name": "python",
   "nbconvert_exporter": "python",
   "pygments_lexer": "ipython3",
   "version": "3.13.5"
  }
 },
 "nbformat": 4,
 "nbformat_minor": 0
}
