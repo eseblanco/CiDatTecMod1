{
 "cells": [
  {
   "cell_type": "markdown",
   "metadata": {
    "id": "GItxU96mTk16"
   },
   "source": [
    "# Matemática para Ciencia de los Datos\n",
    "# Trabajo Práctico 3\n",
    "\n",
    "Profesor: Juan Luis Crespo Mariño (basado en trabajo previo de Luis Alexánder Calvo Valverde)\n",
    "\n",
    "Instituto Tecnológico de Costa Rica,\n",
    "\n",
    "Programa Ciencia de Datos\n",
    "\n",
    "---\n",
    "\n",
    "Fecha de entrega: 12 de agosto de 2025, hora límite 6:00 pm.\n",
    "\n",
    "Medio de entrega: Por medio del TEC-Digital.\n",
    "\n",
    "Entregables: Un archivo jupyter ( .IPYNB ).\n",
    "\n",
    "Estudiante(s):\n",
    "1. **Nombre_Estudiante_1**\n",
    "1. **Nombre_Estudiante_2**\n"
   ]
  },
  {
   "cell_type": "markdown",
   "metadata": {
    "id": "jdtaAwa8XzNA"
   },
   "source": [
    "---\n",
    "\n",
    "**Pregunta 1**\n",
    "\n",
    "\n",
    "\n",
    "Se puede demostrar que para los vectores generadores de un subespacio $E=\\textrm{espacioGenerado}\\left\\{ \\vec{v}_{1},\\vec{v}_{2},\\ldots,\\vec{v}_{m}\\right\\}$ , con $V=\\left[\\vec{v}_{1},\\vec{v}_{2},\\ldots,\\vec{v}_{m}\\right]$,con $\\vec{v}_{m}\\in\\mathbb{R}^{n}$ si son ortonormales, la ecuación de la proyección de un vector $\\vec{u}\\in\\mathbb{R}^{n}$ originalmente dada por:\n",
    "\n",
    "$$\\textrm{proy}\\left(\\vec{u};V\\right)=\\textrm{argmin}_{\\vec{v}\\in E}\\left\\Vert \\vec{v}-\\vec{u}\\right\\Vert _{2}=V\\,\\left(V^{T}V\\right)^{-1}V^{T}\\vec{u}$$\n",
    "\n",
    "se puede reescribir como:\n",
    "\n",
    "$$\\textrm{proy}\\left(\\vec{u};V\\right)=\\textrm{argmin}_{\\vec{v}\\in E}\\left\\Vert \\vec{v}-\\vec{u}\\right\\Vert _{2}=V\\,V^{T}\\vec{u}$$\n",
    "\n",
    "con $V\\in\\mathbb{R}^{n\\times m}$.\n",
    "\n",
    "\n",
    "\n",
    "\n",
    "\n",
    "\n",
    "\n"
   ]
  },
  {
   "cell_type": "markdown",
   "metadata": {
    "id": "cIWGj3EzyNEx"
   },
   "source": [
    "**1.1 (25 puntos)**\n",
    "\n",
    "Utilizando numpy, proponga una matriz ortonormal de dimensiones 3x3, para ello utilice una fuente como \"Proceso de ortonormalización de  Gram - Schmidt\" (https://blog.nekomath.com/algebra-lineal-i-proceso-de-gram-schmidt/) para producir una matriz ortonormal a partir de una matriz que no es ni ortonormal ni ortogonal.\n",
    "\n",
    "Finalmente muestre en numpy que su matriz resultante es ortonormal ($V$).\n",
    "\n",
    "Para validar esto: \n",
    "\n",
    "Para toda matriz ortonormal \n",
    "\n",
    "# $U\\in\\mathbb{R}^{n\\times n}$ \n",
    "\n",
    "Se cumple que: \n",
    "\n",
    "# $U^{T}U=I=U\\,U^{T}$\n",
    "\n"
   ]
  },
  {
   "cell_type": "code",
   "execution_count": 5,
   "metadata": {
    "id": "If-CbnjCyNEx"
   },
   "outputs": [
    {
     "name": "stdout",
     "output_type": "stream",
     "text": [
      "Matriz Original:\n",
      "[[16. 25. 99.]\n",
      " [22. 44. 24.]\n",
      " [ 0.  2. 18.]]\n",
      "----------------------------------------\n",
      "Matriz ortonormal:\n",
      "[[ 0.5881717  -0.762548    0.26939673]\n",
      " [ 0.80873608  0.55458037 -0.1959249 ]\n",
      " [ 0.          0.33310834  0.94288856]]\n",
      "----------------------------------------\n",
      "[[ 1.00000000e+00  9.69092470e-16  1.96236954e-15]\n",
      " [ 9.69092470e-16  1.00000000e+00 -1.68801183e-16]\n",
      " [ 1.96236954e-15 -1.68801183e-16  1.00000000e+00]]\n",
      "----------------------------------------\n",
      "Matriz redondeando a 10 digitos:\n",
      "[[ 1.  0.  0.]\n",
      " [ 0.  1. -0.]\n",
      " [ 0. -0.  1.]]\n"
     ]
    }
   ],
   "source": [
    "import numpy as np\n",
    "\n",
    "def gram_schmidt_orthonormal(mat):\n",
    "    \"\"\"\n",
    "    Aplica el proceso de Gram-Schmidt para obtener una base ortonormal\n",
    "    a partir de una matriz cuyas columnas son vectores.\n",
    "    \"\"\"\n",
    "    tmp_a = np.copy(mat).astype(np.float64) # Se crea una instacia local \n",
    "    n = tmp_a.shape[1]\n",
    "    for j in range(n):\n",
    "        # Para cada vector en las Columna j se debe encontrar la proyección perpendicular\n",
    "        # de los vectores ortogonales previos.\n",
    "        for k in range(j):\n",
    "            tmp_a[:, j] -= np.dot(tmp_a[:, k], tmp_a[:, j]) * tmp_a[:, k]\n",
    "        # \n",
    "        # Normalizar la matriz\n",
    "        # el siguiente IF, lo que realiza es que verifica que la norma del vector sea mayor que 0 \n",
    "        # para asegurarse que no tener error en la normalización. \n",
    "        if np.isclose(np.linalg.norm(tmp_a[:, j]), 0, rtol=1e-15, atol=1e-14, equal_nan=False):\n",
    "            tmp_a[:, j] = np.zeros(tmp_a.shape[0])\n",
    "        else:    \n",
    "            tmp_a[:, j] = tmp_a[:, j] / np.linalg.norm(tmp_a[:, j])\n",
    "    return tmp_a\n",
    "\n",
    "# Ejemplo de uso\n",
    "a = np.array([\n",
    "    [16.0, 25.0, 99.0],\n",
    "    [22.0, 44.0, 24.0],\n",
    "    [0.0, 2.0, 18.0]\n",
    "])\n",
    "q = gram_schmidt_orthonormal(a)\n",
    "print(\"Matriz Original:\")\n",
    "print(a)\n",
    "print(\"-\"*40)\n",
    "\n",
    "print(\"Matriz ortonormal:\")\n",
    "print(q)\n",
    "print(\"-\"*40)\n",
    "q_t = np.transpose(q)  # se puede usar  q.T  el cual devuelve de una vez la tarnspuesta \n",
    "\n",
    "q1_result = q.T@q   # se puede utilizar el @ en vez de matmul ya que esta \n",
    "                    # sobrecarga del operador esta en la misma biblioteca. \n",
    "\n",
    "print(q1_result)\n",
    "print(\"-\"*40)\n",
    "print(\"Matriz redondeando a 10 digitos:\")\n",
    "print(np.round(q1_result,10))\n",
    "\n"
   ]
  },
  {
   "cell_type": "markdown",
   "metadata": {
    "id": "MKIrCHhGyNEy"
   },
   "source": [
    "**1.2 (15 puntos)**\n",
    "\n",
    "Proponga un vector $\\vec{u}$ y programe en numpy las operaciones algebraicas siguientes (tome $V$ del paso anterior).\n",
    "\n",
    "$V\\,\\left(V^{T}V\\right)^{-1}V^{T}\\vec{u}$\n",
    "\n",
    "y,\n",
    "\n",
    "$V\\,V^{T}\\vec{u}$\n"
   ]
  },
  {
   "cell_type": "code",
   "execution_count": null,
   "metadata": {
    "id": "OVKs-d0wyNEy"
   },
   "outputs": [
    {
     "name": "stdout",
     "output_type": "stream",
     "text": [
      "----------------------------------------\n",
      "[[ 4.30000000e+01 -2.16793800e-14  8.93170131e-15]\n",
      " [-3.53788412e-15  2.32000000e+02 -2.90461446e-14]\n",
      " [ 3.58827431e-17  3.75515848e-15  4.53000000e+02]]\n",
      "----------------------------------------\n",
      "[[ 4.30000000e+01  2.24829453e-13  8.88953403e-13]\n",
      " [ 4.16709762e-14  2.32000000e+02 -7.64669361e-14]\n",
      " [ 8.43818904e-14 -3.91618746e-14  4.53000000e+02]]\n"
     ]
    }
   ],
   "source": [
    "u = np.array([[43.0, 232.0, 453.0]])\n",
    "\n",
    "u_result = q_t @ np.linalg.inv(q_t.T@q_t) @ q_t.T * u\n",
    "\n",
    "print(\"-\"*40)\n",
    "print (u_result)\n",
    "print(\"-\"*40)\n",
    "\n",
    "u_result2 = q_t @ q_t.T * u\n",
    "\n",
    "print (u_result2)\n",
    "print(\"-\"*40)"
   ]
  },
  {
   "cell_type": "markdown",
   "metadata": {
    "id": "ZLSKX63UyNEy"
   },
   "source": [
    "**1.3 (10 puntos)**\n",
    "\n",
    "Programe en python para calcular el error de proyección obtenido para los casos del punto **1.2**."
   ]
  },
  {
   "cell_type": "code",
   "execution_count": null,
   "metadata": {
    "id": "BWV0eg3cyNEz"
   },
   "outputs": [],
   "source": []
  },
  {
   "cell_type": "markdown",
   "metadata": {
    "id": "PFCrNFAayNEz"
   },
   "source": [
    "---\n",
    "\n",
    "**Pregunta 2 (10 puntos)**\n",
    "\n",
    "\n",
    "Programe en python la función calculeDet2, que recibe como parámetro una matriz cuadrada de dimensiones 2x2, llamada M, y retorna el determinante de esa matriz. Usted debe programar las operaciones matemáticas necesarias, no utilizar una función tipo det para calcularla. Pruébela con dos matrices que Usted proponga.\n",
    "\n",
    "def calculeDet2( M ):\n",
    "\n",
    "\n",
    "\n"
   ]
  },
  {
   "cell_type": "code",
   "execution_count": null,
   "metadata": {
    "id": "hqcB4dpEyNEz"
   },
   "outputs": [],
   "source": []
  },
  {
   "cell_type": "markdown",
   "metadata": {
    "id": "I9bB-ITvyNEz"
   },
   "source": [
    "---\n",
    "\n",
    "**Pregunta 3 (10 puntos)**\n",
    "\n",
    "\n",
    "Programe en python la función calculeDet3, que recibe como parámetro una matriz cuadrada de dimensiones 3x3, llamada M, y retorna el determinante de esa matriz. Usted debe programar las operaciones matemáticas necesarias, no utilizar una función de numpy tipo det para calcularla (sí puede usar función que programó en la **Pregunta 2**). Pruébela con dos matrices que Usted proponga.\n",
    "\n",
    "def calculeDet3( M ):\n",
    "\n",
    "\n",
    "\n",
    "\n"
   ]
  },
  {
   "cell_type": "code",
   "execution_count": null,
   "metadata": {
    "id": "KvqtCjgUyNE0"
   },
   "outputs": [],
   "source": []
  },
  {
   "cell_type": "markdown",
   "metadata": {
    "id": "dW9DwdLCyNE0"
   },
   "source": [
    "---\n",
    "\n",
    "**Pregunta 4 (15 puntos)**\n",
    "\n",
    "Se tiene que:\n",
    "\n",
    "$$\\textrm{det}\\left(A\\,B\\right)=\\textrm{det}\\left(A\\right)\\,\\textrm{det}\\left(B\\right)$$\n",
    "\n",
    "Proponga dos matrices de 4x4 ( $A$ e $B$) y programando en numpy muestre esta igualdad (puede usar de numpy las funciones det y la de multiplicar matrices).\n",
    "\n",
    "\n",
    "\n",
    "\n"
   ]
  },
  {
   "cell_type": "code",
   "execution_count": null,
   "metadata": {
    "id": "4cYKMmvIyNE0"
   },
   "outputs": [],
   "source": []
  },
  {
   "cell_type": "markdown",
   "metadata": {
    "id": "jZshgIiSyNE0"
   },
   "source": [
    "---\n",
    "\n",
    "**Pregunta 5 (15 puntos)**\n",
    "\n",
    "\n",
    "Utilizando el archivo \"Dataset_usar.csv\", haga:\n",
    "- Cargue el archivo.\n",
    "- Muestre cuántas filas por cuántas columnas tiene el conjunto de datos.\n",
    "- Utilizando el modelo $Ax=b$\n",
    "    - Conforme la matriz $A$ con todas las columnas menos la última de la derecha.\n",
    "    - Conforme el vector $b$ con la última columna de la derecha.\n",
    "    - Calcule el vector de pesos ($x$), utilizando el concepto de mínimos cuadrados $\\left(A^{T}A\\right)^{-1}A^{T}\\vec{b}$\n",
    "    - Calcule un b_estimado con $A$ e $x$\n",
    "    - Calcule la norma 2 de la diferencia entre b y b_estimado.\n",
    "    - Grafique b y b_estimado.\n",
    "\n"
   ]
  },
  {
   "cell_type": "code",
   "execution_count": null,
   "metadata": {
    "id": "Eeiw4xWByNE1"
   },
   "outputs": [],
   "source": []
  }
 ],
 "metadata": {
  "colab": {
   "provenance": []
  },
  "kernelspec": {
   "display_name": "venv (3.12.3)",
   "language": "python",
   "name": "python3"
  },
  "language_info": {
   "codemirror_mode": {
    "name": "ipython",
    "version": 3
   },
   "file_extension": ".py",
   "mimetype": "text/x-python",
   "name": "python",
   "nbconvert_exporter": "python",
   "pygments_lexer": "ipython3",
   "version": "3.12.3"
  }
 },
 "nbformat": 4,
 "nbformat_minor": 0
}
