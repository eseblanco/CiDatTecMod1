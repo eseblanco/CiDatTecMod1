{
 "cells": [
  {
   "cell_type": "markdown",
   "metadata": {
    "id": "GItxU96mTk16"
   },
   "source": [
    "# Matemática para Ciencia de los Datos\n",
    "# Trabajo Práctico 1\n",
    "\n",
    "Profesor:  Juan Luis Crespo Mariño\n",
    "\n",
    "BASADO EN TRABAJO PREVIO DE Luis Alexánder Calvo Valverde\n",
    "\n",
    "Instituto Tecnológico de Costa Rica,\n",
    "\n",
    "Programa Ciencia de Datos\n",
    "\n",
    "---\n",
    "\n",
    "Fecha de entrega: 29 de julio, a las 6:00 pm.\n",
    "\n",
    "Medio de entrega: Por medio del TEC-Digital.\n",
    "\n",
    "Entregables: Un archivo jupyter ( .IPYNB ).\n",
    "\n",
    "Estudiante(s):\n",
    "1. **Nombre_Estudiante_1**\n",
    "1. **Nombre_Estudiante_2**\n"
   ]
  },
  {
   "cell_type": "code",
   "execution_count": 1,
   "metadata": {
    "ExecuteTime": {
     "end_time": "2025-07-23T22:33:51.951065Z",
     "start_time": "2025-07-23T22:33:50.980471Z"
    },
    "id": "ZHij8XAsVxvB",
    "outputId": "d0635303-601a-4714-aee7-a2b25c38ac20"
   },
   "outputs": [],
   "source": [
    "%matplotlib inline\n",
    "import numpy as np\n",
    "import pandas as pd\n",
    "import matplotlib.pyplot as plt\n",
    "from numpy import linalg as LA\n",
    "from IPython.display import display, Markdown\n"
   ]
  },
  {
   "cell_type": "markdown",
   "metadata": {
    "id": "jdtaAwa8XzNA"
   },
   "source": [
    "---\n",
    "\n",
    "**Pregunta 1 (20 puntos, 10 pts c/u)**\n",
    "\n",
    "Demuestre de manera matemática si los siguientes sistemas $L\\left\\{ \\cdot\\right\\}$  (con entrada $u(t)$ y salida $g(t)$ ) son lineales o no lineales (**escriba las fórmulas en celdas de texto**). Una vez hecho su mayor esfuerzo, si no sabe cómo seguir matemáticamente, puede sustituir con valores y mostrar por contra-ejemplo.\n",
    "\n",
    "a)  \n",
    "$g\\left(t\\right)=\\log _{10} u(t)$\n",
    "\n",
    "\n",
    "\n",
    "\n",
    "\n"
   ]
  },
  {
   "cell_type": "markdown",
   "metadata": {
    "id": "ZShoA2dlVxvD"
   },
   "source": [
    "*texto en cursiva*-- Responda aquí --"
   ]
  },
  {
   "cell_type": "markdown",
   "metadata": {
    "id": "R2gwnW_MVxvD"
   },
   "source": [
    "b)  \n",
    "$g\\left(t\\right)= 5 * u(t) + 13$\n",
    "\n"
   ]
  },
  {
   "cell_type": "markdown",
   "metadata": {
    "id": "yL4w5RpIVxvD"
   },
   "source": []
  },
  {
   "cell_type": "markdown",
   "metadata": {
    "id": "pwfZYaw6VxvD"
   },
   "source": [
    "-- Responda aquí --"
   ]
  },
  {
   "cell_type": "markdown",
   "metadata": {
    "id": "m-ze-DhuVxvE"
   },
   "source": [
    "---\n",
    "\n",
    "**Pregunta 2 (20 puntos, 10 pts c/u)**\n",
    "\n",
    "Para cada uno de los siguientes vectores calcule la norma $L_2$:\n",
    "1. De manera matemática.\n",
    "1. Programe una implementación en python de lo anterior, pero sin utilizar la función **norm** de la biblioteca.\n",
    "1. Luego compare su resultado con una versión usando **norm**.\n",
    "\n",
    "a)\n",
    "\n",
    "$a = \\begin{bmatrix}-9 \\\\ 7 \\end{bmatrix}$\n",
    "\n"
   ]
  },
  {
   "cell_type": "markdown",
   "metadata": {},
   "source": [
    "## Respuesta 1\n",
    "Según la clase:\n",
    "\n",
    "$$\n",
    "\\|\\vec{v}\\|_2 = \\sqrt{x_1^2 + x_2^2 + \\cdots + x_n^2}\n",
    "$$\n",
    "\n",
    "Si \n",
    "$$\n",
    "\\vec{a} = \\begin{bmatrix} -9 \\\\ 7 \\end{bmatrix}\n",
    "$$\n",
    "\n",
    "Entonces:\n",
    "\n",
    "$$\n",
    "\\|\\vec{a}\\|_2 = \\sqrt{(-9)^2 + 7^2} = \\sqrt{81 + 49}\n",
    "$$\n",
    "\n",
    "$$\n",
    "= \\sqrt{130} \\approx 11.40\n",
    "$$\n"
   ]
  },
  {
   "cell_type": "code",
   "execution_count": 19,
   "metadata": {},
   "outputs": [],
   "source": [
    "def calcularNorma(vector: list, p: int):\n",
    "    if p < 1:\n",
    "        raise Exception(\"p tiene que ser mayor o igual a 1\")\n",
    "    return (sum((abs(x))**p for x in vector)**(1/p))"
   ]
  },
  {
   "cell_type": "code",
   "execution_count": 20,
   "metadata": {
    "id": "RseN8SfWVxvE"
   },
   "outputs": [
    {
     "data": {
      "text/markdown": [
       "## Respuesta 2"
      ],
      "text/plain": [
       "<IPython.core.display.Markdown object>"
      ]
     },
     "metadata": {},
     "output_type": "display_data"
    },
    {
     "name": "stdout",
     "output_type": "stream",
     "text": [
      "11.40175425099138\n"
     ]
    },
    {
     "data": {
      "text/markdown": [
       "## Respuesta 3"
      ],
      "text/plain": [
       "<IPython.core.display.Markdown object>"
      ]
     },
     "metadata": {},
     "output_type": "display_data"
    },
    {
     "name": "stdout",
     "output_type": "stream",
     "text": [
      "11.40175425099138\n"
     ]
    }
   ],
   "source": [
    "vector = [-9, 7]\n",
    "display(Markdown(\"## Respuesta 2\"))\n",
    "print(calcularNorma(vector, 2))\n",
    "display(Markdown(\"## Respuesta 3\"))\n",
    "print(LA.norm(vector))\n"
   ]
  },
  {
   "cell_type": "markdown",
   "metadata": {
    "id": "HQZ-K-zTVxvE"
   },
   "source": [
    "b)\n",
    "\n",
    "$b = \\begin{bmatrix}1 \\\\ 2 \\\\ 4 \\\\  5\\end{bmatrix}$\n",
    "\n"
   ]
  },
  {
   "cell_type": "markdown",
   "metadata": {},
   "source": [
    "## Respuesta 1\n",
    "Según la clase:\n",
    "\n",
    "$$\n",
    "\\|\\vec{v}\\|_2 = \\sqrt{x_1^2 + x_2^2 + \\cdots + x_n^2}\n",
    "$$\n",
    "\n",
    "Si \n",
    "$$\n",
    "\\vec{b} = \\begin{bmatrix} 1 \\\\ 2 \\\\ 3 \\\\ 4 \\\\ 5 \\end{bmatrix}\n",
    "$$\n",
    "\n",
    "Entonces:\n",
    "\n",
    "$$\n",
    "\\|\\vec{b}\\|_2 = \\sqrt{1^2 + 2^2 + 3^2 + 4^2 + 5^2} = \\sqrt{1 + 4 + 9 + 16 + 25}\n",
    "$$\n",
    "\n",
    "$$\n",
    "= \\sqrt{55} \\approx 7.41\n",
    "$$"
   ]
  },
  {
   "cell_type": "code",
   "execution_count": 21,
   "metadata": {},
   "outputs": [
    {
     "data": {
      "text/markdown": [
       "## Respuesta 2"
      ],
      "text/plain": [
       "<IPython.core.display.Markdown object>"
      ]
     },
     "metadata": {},
     "output_type": "display_data"
    },
    {
     "name": "stdout",
     "output_type": "stream",
     "text": [
      "7.416198487095663\n"
     ]
    },
    {
     "data": {
      "text/markdown": [
       "## Respuesta 3"
      ],
      "text/plain": [
       "<IPython.core.display.Markdown object>"
      ]
     },
     "metadata": {},
     "output_type": "display_data"
    },
    {
     "name": "stdout",
     "output_type": "stream",
     "text": [
      "7.416198487095663\n"
     ]
    }
   ],
   "source": [
    "vector = [1, 2, 3, 4, 5]\n",
    "display(Markdown(\"## Respuesta 2\"))\n",
    "print(calcularNorma(vector, 2))\n",
    "display(Markdown(\"## Respuesta 3\"))\n",
    "print(LA.norm(vector))"
   ]
  },
  {
   "cell_type": "markdown",
   "metadata": {
    "id": "02sediUQVxvF"
   },
   "source": [
    "---\n",
    "\n",
    "**Pregunta 3 (20 puntos, 10 pts c/u)**\n",
    "\n",
    "En Python, calcule el producto punto (o producto escalar entre vectores) $a \\cdot b$ para los siguientes pares de vectores, una versión utilizando **dot**, y otra sin utilizar dicha función (programa en python con ciclos):\n",
    "\n",
    "a)\n",
    "\n",
    "$a=\\begin{bmatrix}2 \\\\ 7 \\end{bmatrix}, b=\\begin{bmatrix}10 \\\\ 2 \\end{bmatrix}$\n",
    "\n"
   ]
  },
  {
   "cell_type": "code",
   "execution_count": 2,
   "metadata": {
    "ExecuteTime": {
     "end_time": "2025-07-23T22:34:06.409982Z",
     "start_time": "2025-07-23T22:34:06.403925Z"
    },
    "id": "GrhYVoiqVxvF"
   },
   "outputs": [
    {
     "data": {
      "text/markdown": [
       "## Respuesta usando función con ciclos"
      ],
      "text/plain": [
       "<IPython.core.display.Markdown object>"
      ]
     },
     "metadata": {},
     "output_type": "display_data"
    },
    {
     "name": "stdout",
     "output_type": "stream",
     "text": [
      "34.0\n"
     ]
    },
    {
     "data": {
      "text/markdown": [
       "## Respuesta usando np.dot"
      ],
      "text/plain": [
       "<IPython.core.display.Markdown object>"
      ]
     },
     "metadata": {},
     "output_type": "display_data"
    },
    {
     "name": "stdout",
     "output_type": "stream",
     "text": [
      "34\n"
     ]
    }
   ],
   "source": [
    "def productoEscalar(vector1: list, vector2: list) -> float:\n",
    "    resultado = 0.\n",
    "    if len(vector1) != len(vector2):\n",
    "        raise Exception(\"Los vectores tienen que tener la misma cantidad de componentes\")\n",
    "\n",
    "    for indice, x in enumerate(vector1):\n",
    "        resultado += vector1[indice] * vector2[indice]\n",
    "\n",
    "    return resultado\n",
    "\n",
    "a = [2, 7]\n",
    "b = [10, 2]\n",
    "\n",
    "display(Markdown(\"## Respuesta usando función con ciclos\"))\n",
    "print(productoEscalar(a, b))\n",
    "display(Markdown(\"## Respuesta usando np.dot\"))\n",
    "print(np.dot(a, b))"
   ]
  },
  {
   "cell_type": "markdown",
   "metadata": {
    "id": "p-_oK4GpVxvF"
   },
   "source": [
    "\n",
    "b)\n",
    "\n",
    "$a=\\begin{bmatrix}-1 \\\\ 8 \\\\ 3 \\end{bmatrix}, b=\\begin{bmatrix} 2 \\\\ 6 \\\\ 5 \\end{bmatrix}$\n",
    "\n",
    "\n"
   ]
  },
  {
   "cell_type": "code",
   "execution_count": 3,
   "metadata": {
    "ExecuteTime": {
     "end_time": "2025-07-23T22:34:10.998368Z",
     "start_time": "2025-07-23T22:34:10.993547Z"
    },
    "id": "GiZobMgZVxvG"
   },
   "outputs": [
    {
     "data": {
      "text/markdown": [
       "## Respuesta usando función con ciclos"
      ],
      "text/plain": [
       "<IPython.core.display.Markdown object>"
      ]
     },
     "metadata": {},
     "output_type": "display_data"
    },
    {
     "name": "stdout",
     "output_type": "stream",
     "text": [
      "61.0\n"
     ]
    },
    {
     "data": {
      "text/markdown": [
       "## Respuesta usando np.dot"
      ],
      "text/plain": [
       "<IPython.core.display.Markdown object>"
      ]
     },
     "metadata": {},
     "output_type": "display_data"
    },
    {
     "name": "stdout",
     "output_type": "stream",
     "text": [
      "61\n"
     ]
    }
   ],
   "source": [
    "a = [-1, 8, 3]\n",
    "b = [2, 6, 5]\n",
    "\n",
    "display(Markdown(\"## Respuesta usando función con ciclos\"))\n",
    "print(productoEscalar(a, b))\n",
    "display(Markdown(\"## Respuesta usando np.dot\"))\n",
    "print(np.dot(a, b))"
   ]
  },
  {
   "cell_type": "markdown",
   "metadata": {
    "id": "FTVUj1LSVxvG"
   },
   "source": [
    "---\n",
    "\n",
    "**Pregunta 4 (20 puntos, 10 pts c/u)**\n",
    "\n",
    "a) Proponga dos vectores:  $x$  e  $y$ que sean colineales (con dos elementos cada uno).  Programe en python para mostrar que son colineales y luego grafíquelos en un mismo gráfico en python. En el cuaderno visto en clase viene un ejemplo de uso de import matplotlib.pyplot as plt\n",
    "\n"
   ]
  },
  {
   "cell_type": "code",
   "execution_count": 20,
   "metadata": {
    "id": "vgW9ULNHVxvG"
   },
   "outputs": [
    {
     "name": "stdout",
     "output_type": "stream",
     "text": [
      "True\n"
     ]
    },
    {
     "data": {
      "image/png": "[encoded data removed]",
      "text/plain": [
       "<Figure size 640x480 with 1 Axes>"
      ]
     },
     "metadata": {},
     "output_type": "display_data"
    }
   ],
   "source": [
    "def sonColineales(vector1: list, vector2: list) -> bool:\n",
    "    if len(vector1) != len(vector2):\n",
    "        raise Exception(\"Los vectores tienen que tener la misma cantidad de componentes\")\n",
    "    \n",
    "    if len(vector1) == 0:\n",
    "        return False\n",
    "    \n",
    "    vectorMayor, vectorMenor = (vector1, vector2) if vector1[0] > vector2[0] else (vector2, vector1)\n",
    "\n",
    "    if vectorMayor[0] == 0:\n",
    "        raise Exception(\"El primer componente mayor de los vectores no puede ser igual a 0\")\n",
    "    \n",
    "    alpha = vectorMenor[0] / vectorMayor[0]\n",
    "    vectorAComparar = [alpha * x for x in vectorMayor]\n",
    "    return vectorMenor == vectorAComparar\n",
    "\n",
    "def graficarVectores(vector1: list, vector2: list) -> None:\n",
    "    # graficar\n",
    "    U = np.array(vector1)\n",
    "    V = np.array(vector2)\n",
    "\n",
    "\n",
    "    fig, ax = plt.subplots()\n",
    "    ax.quiver(U, V,color=[\"r\",\"b\"],angles='xy', scale_units='xy', scale=1)\n",
    "    ax.axis([-3.,20.,-3.,20.])\n",
    "    ax.set_aspect('equal')\n",
    "    plt.show()\n",
    "\n",
    "x = [1, 4]\n",
    "y = [4, 16]\n",
    "\n",
    "print(sonColineales(x, y))\n",
    "graficarVectores(x, y)"
   ]
  },
  {
   "cell_type": "markdown",
   "metadata": {
    "id": "JlWYw4tmVxvG"
   },
   "source": [
    "\n",
    "b)  \n",
    "\n",
    "Ahora modifique uno de los vectores para que no sean colineales y luego grafique para mostrar cómo se ven dos vectores que no son colineales.\n",
    "\n"
   ]
  },
  {
   "cell_type": "code",
   "execution_count": 21,
   "metadata": {
    "id": "IG4lOAT9VxvG"
   },
   "outputs": [
    {
     "name": "stdout",
     "output_type": "stream",
     "text": [
      "False\n"
     ]
    },
    {
     "data": {
      "image/png": "[encoded data removed]",
      "text/plain": [
       "<Figure size 640x480 with 1 Axes>"
      ]
     },
     "metadata": {},
     "output_type": "display_data"
    }
   ],
   "source": [
    "x = [1, 4]\n",
    "y = [8, 12]\n",
    "\n",
    "print(sonColineales(x, y))\n",
    "graficarVectores(x, y)"
   ]
  },
  {
   "cell_type": "markdown",
   "metadata": {
    "id": "5oEMPcxPVxvG"
   },
   "source": [
    "Notas:\n",
    "- Proponga significa que Ustedes, estudiando las propiedades de los vectores colineales propone los valores del  vector.\n",
    "- En ambos casos tome como origen el punto (0,0)\n"
   ]
  },
  {
   "cell_type": "markdown",
   "metadata": {
    "id": "lmx1aeTcVxvG"
   },
   "source": [
    "---\n",
    "\n",
    "**Pregunta 5 (20 puntos, 10 pts c/u)**\n",
    "\n",
    "\n",
    "a)\n",
    "Cargue el archivo llamado \"Datos_01.csv\".\n",
    "\n",
    "¿Existen atributos colineanes? ¿Cuáles? Programe en python para mostrar su respuesta.\n",
    "\n"
   ]
  },
  {
   "cell_type": "code",
   "execution_count": null,
   "metadata": {
    "id": "4a8zI-2YVxvG",
    "outputId": "6f8afe03-3d89-4908-96b4-feadd2dd4295"
   },
   "outputs": [
    {
     "name": "stdout",
     "output_type": "stream",
     "text": [
      "----------------------------------------\n",
      "Datos en dataFrame:\n",
      "   atributo1  atributo2  atributo3  atributo4  atributo5\n",
      "0        515         15   0.408462     1287.5          8\n",
      "1        357         22   0.642985      892.5          9\n",
      "2        633         20   0.582240     1582.5          7\n",
      "3        295         17   0.531009      737.5          9\n",
      "4        946         14   0.340640     2365.0          3\n"
     ]
    }
   ],
   "source": [
    "separador = \"-\"*40\n",
    "archivo = \"Datos_01.csv\"\n",
    "\n",
    "# carga el archivo en pandas\n",
    "dataFrame = pd.read_csv(archivo, header = 0, delimiter=';')\n",
    "\n",
    "# guarda el nombre de las columnas en una lista\n",
    "colNames = dataFrame.columns\n",
    "\n",
    "# muestra los primeros elementos del dataFrame\n",
    "print(separador)\n",
    "print(\"Datos en dataFrame:\")\n",
    "print(dataFrame.head() )\n",
    "\n",
    "# Convertir de pandas a numpy\n",
    "datos = pd.DataFrame(dataFrame).to_numpy()\n",
    "\n",
    "# En cada vector columna hay un atributo\n",
    "# El atributo1 está en datos[:,0]\n",
    "# El atributo2 está en datos[:,1]\n",
    "# y así sucesivamente\n",
    "\n",
    "# Programar para determinar vectores colineales\n"
   ]
  },
  {
   "cell_type": "markdown",
   "metadata": {
    "id": "O5I5NC9NVxvH"
   },
   "source": [
    "b)\n",
    "\n",
    "En el archivo \"reales.csv\" se encuentran los valores reales de un conjunto de datos, y en el archivo \"predicciones.csv\" lo que predijo un algoritmo.\n",
    "\n",
    "Cargue ambos archivos y muestre la norma 2 y la norma 5, de la diferencia entre el real y el predicho.\n",
    "\n",
    "Finalmente, grafique el predicho y el real en un mismo gráfico para comparar."
   ]
  },
  {
   "cell_type": "code",
   "execution_count": null,
   "metadata": {
    "id": "Hv78Fv3vVxvH"
   },
   "outputs": [],
   "source": [
    "# carga archivos\n",
    "\n",
    "archivo = \"reales.csv\"\n",
    "dataFrameReales = pd.read_csv(archivo, header = 0)\n",
    "\n",
    "archivo = \"predicciones.csv\"\n",
    "dataFramePredichos = pd.read_csv(archivo, header = 0)\n",
    "\n",
    "\n",
    "# Convertir de pandas a numpy\n",
    "\n",
    "\n",
    "# Calcular las normas\n",
    "\n",
    "# Graficar\n"
   ]
  },
  {
   "cell_type": "code",
   "execution_count": null,
   "metadata": {
    "id": "Js-LE8SdVxvH"
   },
   "outputs": [],
   "source": []
  }
 ],
 "metadata": {
  "colab": {
   "provenance": []
  },
  "kernelspec": {
   "display_name": "venv",
   "language": "python",
   "name": "python3"
  },
  "language_info": {
   "codemirror_mode": {
    "name": "ipython",
    "version": 3
   },
   "file_extension": ".py",
   "mimetype": "text/x-python",
   "name": "python",
   "nbconvert_exporter": "python",
   "pygments_lexer": "ipython3",
   "version": "3.13.5"
  }
 },
 "nbformat": 4,
 "nbformat_minor": 0
}
