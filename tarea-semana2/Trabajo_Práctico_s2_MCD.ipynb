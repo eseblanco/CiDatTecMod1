{
 "cells": [
  {
   "cell_type": "markdown",
   "metadata": {
    "id": "GItxU96mTk16"
   },
   "source": [
    "# Matemática para Ciencia de los Datos\n",
    "# Trabajo Práctico 1\n",
    "\n",
    "Profesor:  Juan Luis Crespo Mariño\n",
    "\n",
    "BASADO EN TRABAJO PREVIO DE Luis Alexánder Calvo Valverde\n",
    "\n",
    "Instituto Tecnológico de Costa Rica,\n",
    "\n",
    "Programa Ciencia de Datos\n",
    "\n",
    "---\n",
    "\n",
    "Fecha de entrega: 29 de julio, a las 6:00 pm.\n",
    "\n",
    "Medio de entrega: Por medio del TEC-Digital.\n",
    "\n",
    "Entregables: Un archivo jupyter ( .IPYNB ).\n",
    "\n",
    "Estudiante(s):\n",
    "1. **Nombre_Estudiante_1**\n",
    "1. **Nombre_Estudiante_2**\n"
   ]
  },
  {
   "cell_type": "code",
   "execution_count": 1,
   "metadata": {
    "id": "ZHij8XAsVxvB",
    "outputId": "d0635303-601a-4714-aee7-a2b25c38ac20"
   },
   "outputs": [
    {
     "ename": "ModuleNotFoundError",
     "evalue": "No module named 'matplotlib'",
     "output_type": "error",
     "traceback": [
      "\u001b[31m---------------------------------------------------------------------------\u001b[39m",
      "\u001b[31mModuleNotFoundError\u001b[39m                       Traceback (most recent call last)",
      "\u001b[36mCell\u001b[39m\u001b[36m \u001b[39m\u001b[32mIn[1]\u001b[39m\u001b[32m, line 1\u001b[39m\n\u001b[32m----> \u001b[39m\u001b[32m1\u001b[39m \u001b[43mget_ipython\u001b[49m\u001b[43m(\u001b[49m\u001b[43m)\u001b[49m\u001b[43m.\u001b[49m\u001b[43mrun_line_magic\u001b[49m\u001b[43m(\u001b[49m\u001b[33;43m'\u001b[39;49m\u001b[33;43mmatplotlib\u001b[39;49m\u001b[33;43m'\u001b[39;49m\u001b[43m,\u001b[49m\u001b[43m \u001b[49m\u001b[33;43m'\u001b[39;49m\u001b[33;43minline\u001b[39;49m\u001b[33;43m'\u001b[39;49m\u001b[43m)\u001b[49m\n\u001b[32m      2\u001b[39m \u001b[38;5;28;01mimport\u001b[39;00m\u001b[38;5;250m \u001b[39m\u001b[34;01mnumpy\u001b[39;00m\u001b[38;5;250m \u001b[39m\u001b[38;5;28;01mas\u001b[39;00m\u001b[38;5;250m \u001b[39m\u001b[34;01mnp\u001b[39;00m\n\u001b[32m      3\u001b[39m \u001b[38;5;28;01mimport\u001b[39;00m\u001b[38;5;250m \u001b[39m\u001b[34;01mpandas\u001b[39;00m\u001b[38;5;250m \u001b[39m\u001b[38;5;28;01mas\u001b[39;00m\u001b[38;5;250m \u001b[39m\u001b[34;01mpd\u001b[39;00m\n",
      "\u001b[36mFile \u001b[39m\u001b[32m~/Documentos/PycharmProjects/CienciaDatosTEC/venv/lib/python3.12/site-packages/IPython/core/interactiveshell.py:2504\u001b[39m, in \u001b[36mInteractiveShell.run_line_magic\u001b[39m\u001b[34m(self, magic_name, line, _stack_depth)\u001b[39m\n\u001b[32m   2502\u001b[39m     kwargs[\u001b[33m'\u001b[39m\u001b[33mlocal_ns\u001b[39m\u001b[33m'\u001b[39m] = \u001b[38;5;28mself\u001b[39m.get_local_scope(stack_depth)\n\u001b[32m   2503\u001b[39m \u001b[38;5;28;01mwith\u001b[39;00m \u001b[38;5;28mself\u001b[39m.builtin_trap:\n\u001b[32m-> \u001b[39m\u001b[32m2504\u001b[39m     result = \u001b[43mfn\u001b[49m\u001b[43m(\u001b[49m\u001b[43m*\u001b[49m\u001b[43margs\u001b[49m\u001b[43m,\u001b[49m\u001b[43m \u001b[49m\u001b[43m*\u001b[49m\u001b[43m*\u001b[49m\u001b[43mkwargs\u001b[49m\u001b[43m)\u001b[49m\n\u001b[32m   2506\u001b[39m \u001b[38;5;66;03m# The code below prevents the output from being displayed\u001b[39;00m\n\u001b[32m   2507\u001b[39m \u001b[38;5;66;03m# when using magics with decorator @output_can_be_silenced\u001b[39;00m\n\u001b[32m   2508\u001b[39m \u001b[38;5;66;03m# when the last Python token in the expression is a ';'.\u001b[39;00m\n\u001b[32m   2509\u001b[39m \u001b[38;5;28;01mif\u001b[39;00m \u001b[38;5;28mgetattr\u001b[39m(fn, magic.MAGIC_OUTPUT_CAN_BE_SILENCED, \u001b[38;5;28;01mFalse\u001b[39;00m):\n",
      "\u001b[36mFile \u001b[39m\u001b[32m~/Documentos/PycharmProjects/CienciaDatosTEC/venv/lib/python3.12/site-packages/IPython/core/magics/pylab.py:103\u001b[39m, in \u001b[36mPylabMagics.matplotlib\u001b[39m\u001b[34m(self, line)\u001b[39m\n\u001b[32m     98\u001b[39m     \u001b[38;5;28mprint\u001b[39m(\n\u001b[32m     99\u001b[39m         \u001b[33m\"\u001b[39m\u001b[33mAvailable matplotlib backends: \u001b[39m\u001b[38;5;132;01m%s\u001b[39;00m\u001b[33m\"\u001b[39m\n\u001b[32m    100\u001b[39m         % _list_matplotlib_backends_and_gui_loops()\n\u001b[32m    101\u001b[39m     )\n\u001b[32m    102\u001b[39m \u001b[38;5;28;01melse\u001b[39;00m:\n\u001b[32m--> \u001b[39m\u001b[32m103\u001b[39m     gui, backend = \u001b[38;5;28;43mself\u001b[39;49m\u001b[43m.\u001b[49m\u001b[43mshell\u001b[49m\u001b[43m.\u001b[49m\u001b[43menable_matplotlib\u001b[49m\u001b[43m(\u001b[49m\u001b[43margs\u001b[49m\u001b[43m.\u001b[49m\u001b[43mgui\u001b[49m\u001b[43m)\u001b[49m\n\u001b[32m    104\u001b[39m     \u001b[38;5;28mself\u001b[39m._show_matplotlib_backend(args.gui, backend)\n",
      "\u001b[36mFile \u001b[39m\u001b[32m~/Documentos/PycharmProjects/CienciaDatosTEC/venv/lib/python3.12/site-packages/IPython/core/interactiveshell.py:3787\u001b[39m, in \u001b[36mInteractiveShell.enable_matplotlib\u001b[39m\u001b[34m(self, gui)\u001b[39m\n\u001b[32m   3784\u001b[39m     \u001b[38;5;28;01mimport\u001b[39;00m\u001b[38;5;250m \u001b[39m\u001b[34;01mmatplotlib_inline\u001b[39;00m\u001b[34;01m.\u001b[39;00m\u001b[34;01mbackend_inline\u001b[39;00m\n\u001b[32m   3786\u001b[39m \u001b[38;5;28;01mfrom\u001b[39;00m\u001b[38;5;250m \u001b[39m\u001b[34;01mIPython\u001b[39;00m\u001b[34;01m.\u001b[39;00m\u001b[34;01mcore\u001b[39;00m\u001b[38;5;250m \u001b[39m\u001b[38;5;28;01mimport\u001b[39;00m pylabtools \u001b[38;5;28;01mas\u001b[39;00m pt\n\u001b[32m-> \u001b[39m\u001b[32m3787\u001b[39m gui, backend = \u001b[43mpt\u001b[49m\u001b[43m.\u001b[49m\u001b[43mfind_gui_and_backend\u001b[49m\u001b[43m(\u001b[49m\u001b[43mgui\u001b[49m\u001b[43m,\u001b[49m\u001b[43m \u001b[49m\u001b[38;5;28;43mself\u001b[39;49m\u001b[43m.\u001b[49m\u001b[43mpylab_gui_select\u001b[49m\u001b[43m)\u001b[49m\n\u001b[32m   3789\u001b[39m \u001b[38;5;28;01mif\u001b[39;00m gui != \u001b[38;5;28;01mNone\u001b[39;00m:\n\u001b[32m   3790\u001b[39m     \u001b[38;5;66;03m# If we have our first gui selection, store it\u001b[39;00m\n\u001b[32m   3791\u001b[39m     \u001b[38;5;28;01mif\u001b[39;00m \u001b[38;5;28mself\u001b[39m.pylab_gui_select \u001b[38;5;129;01mis\u001b[39;00m \u001b[38;5;28;01mNone\u001b[39;00m:\n",
      "\u001b[36mFile \u001b[39m\u001b[32m~/Documentos/PycharmProjects/CienciaDatosTEC/venv/lib/python3.12/site-packages/IPython/core/pylabtools.py:338\u001b[39m, in \u001b[36mfind_gui_and_backend\u001b[39m\u001b[34m(gui, gui_select)\u001b[39m\n\u001b[32m    321\u001b[39m \u001b[38;5;28;01mdef\u001b[39;00m\u001b[38;5;250m \u001b[39m\u001b[34mfind_gui_and_backend\u001b[39m(gui=\u001b[38;5;28;01mNone\u001b[39;00m, gui_select=\u001b[38;5;28;01mNone\u001b[39;00m):\n\u001b[32m    322\u001b[39m \u001b[38;5;250m    \u001b[39m\u001b[33;03m\"\"\"Given a gui string return the gui and mpl backend.\u001b[39;00m\n\u001b[32m    323\u001b[39m \n\u001b[32m    324\u001b[39m \u001b[33;03m    Parameters\u001b[39;00m\n\u001b[32m   (...)\u001b[39m\u001b[32m    335\u001b[39m \u001b[33;03m    'WXAgg','Qt4Agg','module://matplotlib_inline.backend_inline','agg').\u001b[39;00m\n\u001b[32m    336\u001b[39m \u001b[33;03m    \"\"\"\u001b[39;00m\n\u001b[32m--> \u001b[39m\u001b[32m338\u001b[39m     \u001b[38;5;28;01mimport\u001b[39;00m\u001b[38;5;250m \u001b[39m\u001b[34;01mmatplotlib\u001b[39;00m\n\u001b[32m    340\u001b[39m     \u001b[38;5;28;01mif\u001b[39;00m _matplotlib_manages_backends():\n\u001b[32m    341\u001b[39m         backend_registry = matplotlib.backends.registry.backend_registry\n",
      "\u001b[31mModuleNotFoundError\u001b[39m: No module named 'matplotlib'"
     ]
    }
   ],
   "source": [
    "%matplotlib inline\n",
    "import numpy as np\n",
    "import pandas as pd\n",
    "import matplotlib.pyplot as plt\n"
   ]
  },
  {
   "cell_type": "markdown",
   "metadata": {
    "id": "jdtaAwa8XzNA"
   },
   "source": [
    "---\n",
    "\n",
    "**Pregunta 1 (20 puntos, 10 pts c/u)**\n",
    "\n",
    "Demuestre de manera matemática si los siguientes sistemas $L\\left\\{ \\cdot\\right\\}$  (con entrada $u(t)$ y salida $g(t)$ ) son lineales o no lineales (**escriba las fórmulas en celdas de texto**). Una vez hecho su mayor esfuerzo, si no sabe cómo seguir matemáticamente, puede sustituir con valores y mostrar por contra-ejemplo.\n",
    "\n",
    "a)  \n",
    "$g\\left(t\\right)=\\log _{10} u(t)$\n",
    "\n",
    "\n",
    "\n",
    "\n",
    "\n"
   ]
  },
  {
   "cell_type": "markdown",
   "metadata": {
    "id": "ZShoA2dlVxvD"
   },
   "source": [
    "*texto en cursiva*-- Responda aquí --"
   ]
  },
  {
   "cell_type": "markdown",
   "metadata": {
    "id": "R2gwnW_MVxvD"
   },
   "source": [
    "b)  \n",
    "$g\\left(t\\right)= 5 * u(t) + 13$\n",
    "\n"
   ]
  },
  {
   "cell_type": "markdown",
   "metadata": {
    "id": "yL4w5RpIVxvD"
   },
   "source": []
  },
  {
   "cell_type": "markdown",
   "metadata": {
    "id": "pwfZYaw6VxvD"
   },
   "source": [
    "-- Responda aquí --"
   ]
  },
  {
   "cell_type": "markdown",
   "metadata": {
    "id": "m-ze-DhuVxvE"
   },
   "source": [
    "---\n",
    "\n",
    "**Pregunta 2 (20 puntos, 10 pts c/u)**\n",
    "\n",
    "Para cada uno de los siguientes vectores calcule la norma $L_2$:\n",
    "1. De manera matemática.\n",
    "1. Programe una implementación en python de lo anterior, pero sin utilizar la función **norm** de la biblioteca.\n",
    "1. Luego compare su resultado con una versión usando **norm**.\n",
    "\n",
    "a)\n",
    "\n",
    "$a = \\begin{bmatrix}-9 \\\\ 7 \\end{bmatrix}$\n",
    "\n"
   ]
  },
  {
   "cell_type": "code",
   "execution_count": null,
   "metadata": {
    "id": "RseN8SfWVxvE"
   },
   "outputs": [],
   "source": []
  },
  {
   "cell_type": "markdown",
   "metadata": {
    "id": "HQZ-K-zTVxvE"
   },
   "source": [
    "b)\n",
    "\n",
    "$b = \\begin{bmatrix}1 \\\\ 2 \\\\ 4 \\\\  5\\end{bmatrix}$\n",
    "\n"
   ]
  },
  {
   "cell_type": "code",
   "execution_count": null,
   "metadata": {
    "id": "tTa3RngbVxvF"
   },
   "outputs": [],
   "source": []
  },
  {
   "cell_type": "markdown",
   "metadata": {
    "id": "02sediUQVxvF"
   },
   "source": [
    "---\n",
    "\n",
    "**Pregunta 3 (20 puntos, 10 pts c/u)**\n",
    "\n",
    "En Python, calcule el producto punto (o producto escalar entre vectores) $a \\cdot b$ para los siguientes pares de vectores, una versión utilizando **dot**, y otra sin utilizar dicha función (programa en python con ciclos):\n",
    "\n",
    "a)\n",
    "\n",
    "$a=\\begin{bmatrix}2 \\\\ 7 \\end{bmatrix}, b=\\begin{bmatrix}10 \\\\ 2 \\end{bmatrix}$\n",
    "\n"
   ]
  },
  {
   "cell_type": "code",
   "execution_count": null,
   "metadata": {
    "id": "GrhYVoiqVxvF"
   },
   "outputs": [],
   "source": []
  },
  {
   "cell_type": "markdown",
   "metadata": {
    "id": "p-_oK4GpVxvF"
   },
   "source": [
    "\n",
    "b)\n",
    "\n",
    "$a=\\begin{bmatrix}-1 \\\\ 8 \\\\ 3 \\end{bmatrix}, b=\\begin{bmatrix} 2 \\\\ 6 \\\\ 5 \\end{bmatrix}$\n",
    "\n",
    "\n"
   ]
  },
  {
   "cell_type": "code",
   "execution_count": null,
   "metadata": {
    "id": "GiZobMgZVxvG"
   },
   "outputs": [],
   "source": []
  },
  {
   "cell_type": "markdown",
   "metadata": {
    "id": "FTVUj1LSVxvG"
   },
   "source": [
    "---\n",
    "\n",
    "**Pregunta 4 (20 puntos, 10 pts c/u)**\n",
    "\n",
    "a) Proponga dos vectores:  $x$  e  $y$ que sean colineales (con dos elementos cada uno).  Programe en python para mostrar que son colineales y luego grafíquelos en un mismo gráfico en python. En el cuaderno visto en clase viene un ejemplo de uso de import matplotlib.pyplot as plt\n",
    "\n"
   ]
  },
  {
   "cell_type": "code",
   "execution_count": null,
   "metadata": {
    "id": "vgW9ULNHVxvG"
   },
   "outputs": [],
   "source": []
  },
  {
   "cell_type": "markdown",
   "metadata": {
    "id": "JlWYw4tmVxvG"
   },
   "source": [
    "\n",
    "b)  \n",
    "\n",
    "Ahora modifique uno de los vectores para que no sean colineales y luego grafique para mostrar cómo se ven dos vectores que no son colineales.\n",
    "\n"
   ]
  },
  {
   "cell_type": "code",
   "execution_count": null,
   "metadata": {
    "id": "IG4lOAT9VxvG"
   },
   "outputs": [],
   "source": []
  },
  {
   "cell_type": "markdown",
   "metadata": {
    "id": "5oEMPcxPVxvG"
   },
   "source": [
    "Notas:\n",
    "- Proponga significa que Ustedes, estudiando las propiedades de los vectores colineales propone los valores del  vector.\n",
    "- En ambos casos tome como origen el punto (0,0)\n"
   ]
  },
  {
   "cell_type": "markdown",
   "metadata": {
    "id": "lmx1aeTcVxvG"
   },
   "source": [
    "---\n",
    "\n",
    "**Pregunta 5 (20 puntos, 10 pts c/u)**\n",
    "\n",
    "\n",
    "a)\n",
    "Cargue el archivo llamado \"Datos_01.csv\".\n",
    "\n",
    "¿Existen atributos colineanes? ¿Cuáles? Programe en python para mostrar su respuesta.\n",
    "\n"
   ]
  },
  {
   "cell_type": "code",
   "execution_count": null,
   "metadata": {
    "id": "4a8zI-2YVxvG",
    "outputId": "6f8afe03-3d89-4908-96b4-feadd2dd4295"
   },
   "outputs": [
    {
     "name": "stdout",
     "output_type": "stream",
     "text": [
      "----------------------------------------\n",
      "Datos en dataFrame:\n",
      "   atributo1  atributo2  atributo3  atributo4  atributo5\n",
      "0        515         15   0.408462     1287.5          8\n",
      "1        357         22   0.642985      892.5          9\n",
      "2        633         20   0.582240     1582.5          7\n",
      "3        295         17   0.531009      737.5          9\n",
      "4        946         14   0.340640     2365.0          3\n"
     ]
    }
   ],
   "source": [
    "separador = \"-\"*40\n",
    "archivo = \"Datos_01.csv\"\n",
    "\n",
    "# carga el archivo en pandas\n",
    "dataFrame = pd.read_csv(archivo, header = 0, delimiter=';')\n",
    "\n",
    "# guarda el nombre de las columnas en una lista\n",
    "colNames = dataFrame.columns\n",
    "\n",
    "# muestra los primeros elementos del dataFrame\n",
    "print(separador)\n",
    "print(\"Datos en dataFrame:\")\n",
    "print(dataFrame.head() )\n",
    "\n",
    "# Convertir de pandas a numpy\n",
    "datos = pd.DataFrame(dataFrame).to_numpy()\n",
    "\n",
    "# En cada vector columna hay un atributo\n",
    "# El atributo1 está en datos[:,0]\n",
    "# El atributo2 está en datos[:,1]\n",
    "# y así sucesivamente\n",
    "\n",
    "# Programar para determinar vectores colineales\n"
   ]
  },
  {
   "cell_type": "markdown",
   "metadata": {
    "id": "O5I5NC9NVxvH"
   },
   "source": [
    "b)\n",
    "\n",
    "En el archivo \"reales.csv\" se encuentran los valores reales de un conjunto de datos, y en el archivo \"predicciones.csv\" lo que predijo un algoritmo.\n",
    "\n",
    "Cargue ambos archivos y muestre la norma 2 y la norma 5, de la diferencia entre el real y el predicho.\n",
    "\n",
    "Finalmente, grafique el predicho y el real en un mismo gráfico para comparar."
   ]
  },
  {
   "cell_type": "code",
   "execution_count": null,
   "metadata": {
    "id": "Hv78Fv3vVxvH"
   },
   "outputs": [],
   "source": [
    "# carga archivos\n",
    "\n",
    "archivo = \"reales.csv\"\n",
    "dataFrameReales = pd.read_csv(archivo, header = 0)\n",
    "\n",
    "archivo = \"predicciones.csv\"\n",
    "dataFramePredichos = pd.read_csv(archivo, header = 0)\n",
    "\n",
    "\n",
    "# Convertir de pandas a numpy\n",
    "\n",
    "\n",
    "# Calcular las normas\n",
    "\n",
    "# Graficar\n"
   ]
  },
  {
   "cell_type": "code",
   "execution_count": null,
   "metadata": {
    "id": "Js-LE8SdVxvH"
   },
   "outputs": [],
   "source": []
  }
 ],
 "metadata": {
  "colab": {
   "provenance": []
  },
  "kernelspec": {
   "display_name": "venv (3.12.3)",
   "language": "python",
   "name": "python3"
  },
  "language_info": {
   "codemirror_mode": {
    "name": "ipython",
    "version": 3
   },
   "file_extension": ".py",
   "mimetype": "text/x-python",
   "name": "python",
   "nbconvert_exporter": "python",
   "pygments_lexer": "ipython3",
   "version": "3.12.3"
  }
 },
 "nbformat": 4,
 "nbformat_minor": 0
}
