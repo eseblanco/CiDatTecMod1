{
 "cells": [
  {
   "cell_type": "markdown",
   "metadata": {
    "id": "GItxU96mTk16"
   },
   "source": [
    "# Matemática para Ciencia de los Datos\n",
    "# Trabajo Práctico 2\n",
    "\n",
    "Profesor: Juan Luis Crespo Mariño, basado en trabajo previo de Luis Alexánder Calvo Valverde\n",
    "\n",
    "Instituto Tecnológico de Costa Rica,\n",
    "\n",
    "Programa Ciencia de Datos\n",
    "\n",
    "---\n",
    "\n",
    "Fecha de entrega: Martes 5 de agosto, a más tardar a las 6:00 pm.\n",
    "\n",
    "Medio de entrega: Por medio del TEC-Digital.\n",
    "\n",
    "Entregables: Un archivo jupyter ( .IPYNB ).\n",
    "\n",
    "Estudiante(s):\n",
    "1. **Nombre_Estudiante_1**\n",
    "1. **Nombre_Estudiante_2**\n"
   ]
  },
  {
   "cell_type": "markdown",
   "metadata": {
    "id": "tgcoZAm82q8Y"
   },
   "source": [
    "\n",
    "---\n",
    "\n",
    "**Pregunta 1**\n",
    "\n",
    "Considerando que la transpuesta de una matriz es el resultado de cambiar las filas a columnas. Sea una matriz $A\\in\\mathbb{R}^{m\\times n}$, su transpuesta se escribe como $A^{T}\\in\\mathbb{R}^{n\\times m}$ y sus entradas están dadas por:\n",
    "\n",
    "\\begin{equation}\n",
    "\\left(A^{T}\\right)_{i,j}=A_{j,i}.\n",
    "\\end{equation}\n",
    "\n",
    "Proponga Usted dos matrices, $A\\in\\mathbb{R}^{4\\times 3}$ y $B\\in\\mathbb{R}^{3\\times 4}$ (no las busque en Internet, trate de proponer los valores por si mismo), y utilizando numpy muestre que las siguientes propiedades se cumplen con sus matrices propuestas.\n",
    "\n",
    "**Note** que ni A ni B son cuadradas, y no tienen las mismas dimensiones.\n"
   ]
  },
  {
   "cell_type": "code",
   "execution_count": 1,
   "metadata": {
    "ExecuteTime": {
     "end_time": "2025-07-31T03:32:55.707711Z",
     "start_time": "2025-07-31T03:32:47.989088Z"
    }
   },
   "outputs": [],
   "source": [
    "import math\n",
    "import numpy as np\n",
    "from matplotlib import pyplot as plt\n",
    "from mpl_toolkits.mplot3d import Axes3D\n",
    "from matplotlib import cm"
   ]
  },
  {
   "cell_type": "markdown",
   "metadata": {
    "id": "rbGrfyjVLbjc"
   },
   "source": [
    "**1.1 (15 puntos)**\n",
    "\n",
    "- $\\left(A^{T}\\right)^{T}=A$\n"
   ]
  },
  {
   "cell_type": "code",
   "execution_count": 2,
   "metadata": {
    "ExecuteTime": {
     "end_time": "2025-07-31T03:45:18.759785Z",
     "start_time": "2025-07-31T03:45:18.754318Z"
    },
    "id": "EXFrLVMBLbjd"
   },
   "outputs": [
    {
     "name": "stdout",
     "output_type": "stream",
     "text": [
      "La transpuesta de la transpuesta de la matriz A es igual a la matriz A?: True\n"
     ]
    }
   ],
   "source": [
    "# Se declaran 2 matrices, A(4x3) y B(3x4)\n",
    "A = [[1,2,3], [4,5,6], [7,8,9], [10,11,12]]\n",
    "B = [[13,14,15,16],[17,18,19,20],[21,22,23,24]]\n",
    "# Se realiza la transpuesta de la transpuesta de A\n",
    "matrizAComparar = np.transpose(np.transpose(A))\n",
    "print(f\"La transpuesta de la transpuesta de la matriz A es igual a la matriz A?: {np.array_equal(matrizAComparar, A)}\")"
   ]
  },
  {
   "cell_type": "markdown",
   "metadata": {
    "id": "0vqrQgnkLbjd"
   },
   "source": [
    "**1.2 (15 puntos)**\n",
    "\n",
    "- $\\left(AB\\right)^{T}=B^{T}A^{T}$\n"
   ]
  },
  {
   "cell_type": "code",
   "execution_count": 6,
   "metadata": {
    "ExecuteTime": {
     "end_time": "2025-07-31T03:46:18.520998Z",
     "start_time": "2025-07-31T03:46:18.464941Z"
    },
    "id": "SAUMHGcULbje"
   },
   "outputs": [
    {
     "name": "stdout",
     "output_type": "stream",
     "text": [
      "La transpuesta de la matriz A por B es igual a la transpuesta de B por la transpuesta de A?: True\n"
     ]
    }
   ],
   "source": [
    "transpuestaAporB = np.transpose(np.matmul(A,B))\n",
    "transpuestaDeB = np.transpose(B)\n",
    "transpuestaDeA = np.transpose(A)\n",
    "print(f\"La transpuesta de la matriz A por B es igual a la transpuesta de B por la transpuesta de A?: {np.array_equal(transpuestaAporB, np.matmul(transpuestaDeB,transpuestaDeA))}\")"
   ]
  },
  {
   "cell_type": "markdown",
   "metadata": {
    "id": "bzGlNFctLbje"
   },
   "source": [
    "**1.3 (15 puntos)**\n",
    "\n",
    "Para este ejercicio, **proponga dos matrices de igual dimensionalidad**\n",
    "\n",
    "\n",
    "- $\\left(A+B\\right)^{T}=A^{T}+B^{T}$.\n"
   ]
  },
  {
   "cell_type": "code",
   "execution_count": 8,
   "metadata": {
    "id": "BZNw2VJeLbje"
   },
   "outputs": [
    {
     "name": "stdout",
     "output_type": "stream",
     "text": [
      "La transpuesta de A mas B es igual a la transpuesta de A mas la transpuesta de B? True\n"
     ]
    }
   ],
   "source": [
    "A = np.array([[10, 32, 13], [34, 3, -1], [5, 87, 16]])\n",
    "B = np.array([[4, -5, 6], [3, 4, 1], [-1, -99, -87]])\n",
    "\n",
    "transpuestaAmasB = np.transpose(A + B)\n",
    "transpuestaDeA = np.transpose(A)\n",
    "transpuestaDeB = np.transpose(B)\n",
    "\n",
    "print(f\"La transpuesta de A mas B es igual a la transpuesta de A mas la transpuesta de B? {np.array_equal(transpuestaAmasB, transpuestaDeA + transpuestaDeB)}\")"
   ]
  },
  {
   "cell_type": "markdown",
   "metadata": {
    "id": "QJ6O85pM5Ns3"
   },
   "source": [
    "---\n",
    "\n",
    "**Pregunta 2**\n",
    "\n",
    "\n",
    "Un conjunto de vectores $\\left\\{ \\vec{x}_{1},\\vec{x}_{2},\\ldots,\\vec{x}_{n}\\right\\} \\in\\mathbb{R}^{m}$ se dice que es linealmente independiente, si ningún vector de tal conjunto puede ser representado como una combinación lineal del resto de vectores. De lo contrario, si uno de los vectores en tal conjunto puede ser representado como una combinación lineal del resto de vectores, entonces los vectores son linealmente dependientes, lo que se expresa como:\n",
    "\n",
    "\\begin{equation}\n",
    "\\vec{x}_{j}=\\sum_{i=1}^{n-1}\\alpha_{i}\\vec{x}_{i}\n",
    "\\end{equation}\n",
    "\n",
    "para cualquier conjunto de valores escalares $\\alpha_{1},\\ldots,\\alpha_{n-1}\\in\\mathbb{R}$ se dice que el vector $\\vec{x}_{j}\\in\\mathbb{R}^{m}$ es linealmente dependiente de los vectores $\\vec{x}_{i}$.\n"
   ]
  },
  {
   "cell_type": "markdown",
   "metadata": {
    "id": "xeBFxm2lLbjf"
   },
   "source": [
    "**2.1 (15 puntos)**\n",
    "\n",
    "Proponga una matriz $A\\in\\mathbb{R}^{4\\times 3}$, cuyos vectores columnas sean linealmente independientes, calcule su rango para mostrar que es de rango $3$ (puede utilizar matrix_rank).\n"
   ]
  },
  {
   "cell_type": "code",
   "execution_count": 7,
   "metadata": {
    "id": "P6ACllRBLbjf"
   },
   "outputs": [
    {
     "name": "stdout",
     "output_type": "stream",
     "text": [
      "La matriz A tiene rango=3\n"
     ]
    }
   ],
   "source": [
    "from numpy.linalg import matrix_rank\n",
    "\n",
    "A = [[2, 1, 8], [4, 2, 4], [6, 3, -2], [8, 5, 55]]\n",
    "rango = matrix_rank(A)\n",
    "print(f\"La matriz A tiene rango={rango}\")"
   ]
  },
  {
   "cell_type": "markdown",
   "metadata": {
    "id": "JQjHxRy3Lbjf"
   },
   "source": [
    "**2.2 (15 puntos)**\n",
    "\n",
    "Ahora haga los cambios necesarios a su matriz de manera que pase a rango $2$."
   ]
  },
  {
   "cell_type": "code",
   "execution_count": 8,
   "metadata": {
    "id": "hVFe_uTXLbjf"
   },
   "outputs": [
    {
     "name": "stdout",
     "output_type": "stream",
     "text": [
      "La matriz A tiene rango=2\n"
     ]
    }
   ],
   "source": [
    "A = [[2, 1, 8], [4, 2, 4], [6, 3, -2], [8, 4, 55]]\n",
    "rango = matrix_rank(A)\n",
    "print(f\"La matriz A tiene rango={rango}\")"
   ]
  },
  {
   "cell_type": "markdown",
   "metadata": {
    "id": "JI-n2jnoLbjf"
   },
   "source": [
    "---\n",
    "\n",
    "**Pregunta 3 (25 puntos)**\n",
    "\n",
    "Utilizando el archivo \"Dataset_usar.csv\", haga:\n",
    "- Cargue el archivo.\n",
    "- Utilizando el modelo $Ax=b$\n",
    "    - Conforme la matriz $A$ con las primeras 8 columnas.\n",
    "    - Conforme el vector $b$ con la última columna de la derecha.\n",
    "    - Calcule el vector de pesos ($x$), del tipo $A^{-1}b=x$\n",
    "    - Calcule un b_estimado con $A$ e $x$\n",
    "    - Calcule la norma 2 de la diferencia entre b y b_estimado.\n",
    "    - Grafique b y b_estimado.\n",
    "\n"
   ]
  },
  {
   "cell_type": "code",
   "execution_count": null,
   "metadata": {
    "id": "_XRVJ6vZLbjg"
   },
   "outputs": [],
   "source": []
  }
 ],
 "metadata": {
  "colab": {
   "provenance": []
  },
  "kernelspec": {
   "display_name": "TareaSemana3",
   "language": "python",
   "name": "python3"
  },
  "language_info": {
   "codemirror_mode": {
    "name": "ipython",
    "version": 3
   },
   "file_extension": ".py",
   "mimetype": "text/x-python",
   "name": "python",
   "nbconvert_exporter": "python",
   "pygments_lexer": "ipython3",
   "version": "3.11.7"
  }
 },
 "nbformat": 4,
 "nbformat_minor": 0
}
