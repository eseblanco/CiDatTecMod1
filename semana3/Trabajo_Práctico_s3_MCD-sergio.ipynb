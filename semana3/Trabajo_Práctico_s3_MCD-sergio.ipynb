{
 "cells": [
  {
   "cell_type": "markdown",
   "metadata": {
    "id": "GItxU96mTk16"
   },
   "source": [
    "# Matemática para Ciencia de los Datos\n",
    "# Trabajo Práctico 2\n",
    "\n",
    "Profesor: Juan Luis Crespo Mariño, basado en trabajo previo de Luis Alexánder Calvo Valverde\n",
    "\n",
    "Instituto Tecnológico de Costa Rica,\n",
    "\n",
    "Programa Ciencia de Datos\n",
    "\n",
    "---\n",
    "\n",
    "Fecha de entrega: Martes 5 de agosto, a más tardar a las 6:00 pm.\n",
    "\n",
    "Medio de entrega: Por medio del TEC-Digital.\n",
    "\n",
    "Entregables: Un archivo jupyter ( .IPYNB ).\n",
    "\n",
    "Estudiante(s):\n",
    "1. **Roberto Jose Baltodano**\n",
    "1. **Sergio D. Blanco**\n"
   ]
  },
  {
   "cell_type": "markdown",
   "metadata": {
    "id": "tgcoZAm82q8Y"
   },
   "source": [
    "\n",
    "---\n",
    "\n",
    "**Pregunta 1**\n",
    "\n",
    "Considerando que la transpuesta de una matriz es el resultado de cambiar las filas a columnas. Sea una matriz $A\\in\\mathbb{R}^{m\\times n}$, su transpuesta se escribe como $A^{T}\\in\\mathbb{R}^{n\\times m}$ y sus entradas están dadas por:\n",
    "\n",
    "\\begin{equation}\n",
    "\\left(A^{T}\\right)_{i,j}=A_{j,i}.\n",
    "\\end{equation}\n",
    "\n",
    "Proponga Usted dos matrices, $A\\in\\mathbb{R}^{4\\times 3}$ y $B\\in\\mathbb{R}^{3\\times 4}$ (no las busque en Internet, trate de proponer los valores por si mismo), y utilizando numpy muestre que las siguientes propiedades se cumplen con sus matrices propuestas.\n",
    "\n",
    "**Note** que ni A ni B son cuadradas, y no tienen las mismas dimensiones.\n"
   ]
  },
  {
   "cell_type": "markdown",
   "metadata": {
    "id": "rbGrfyjVLbjc"
   },
   "source": [
    "**1.1 (15 puntos)**\n",
    "\n",
    "- $\\left(A^{T}\\right)^{T}=A$\n"
   ]
  },
  {
   "cell_type": "code",
   "execution_count": 12,
   "metadata": {
    "id": "EXFrLVMBLbjd"
   },
   "outputs": [
    {
     "data": {
      "text/markdown": [
       "## Matriz actual   A "
      ],
      "text/plain": [
       "<IPython.core.display.Markdown object>"
      ]
     },
     "metadata": {},
     "output_type": "display_data"
    },
    {
     "name": "stdout",
     "output_type": "stream",
     "text": [
      "[[ 1.  2.  3.]\n",
      " [ 4.  5.  6.]\n",
      " [ 7.  8. 91.]]\n",
      "--------------------\n"
     ]
    },
    {
     "data": {
      "text/markdown": [
       "## Matriz transpuesta   T "
      ],
      "text/plain": [
       "<IPython.core.display.Markdown object>"
      ]
     },
     "metadata": {},
     "output_type": "display_data"
    },
    {
     "name": "stdout",
     "output_type": "stream",
     "text": [
      "[[ 1.  4.  7.]\n",
      " [ 2.  5.  8.]\n",
      " [ 3.  6. 91.]]\n",
      "--------------------\n"
     ]
    },
    {
     "data": {
      "text/markdown": [
       "## Matriz transpuesta nuevamente TT"
      ],
      "text/plain": [
       "<IPython.core.display.Markdown object>"
      ]
     },
     "metadata": {},
     "output_type": "display_data"
    },
    {
     "name": "stdout",
     "output_type": "stream",
     "text": [
      "[[ 1.  2.  3.]\n",
      " [ 4.  5.  6.]\n",
      " [ 7.  8. 91.]]\n",
      "--------------------\n",
      " [[ True  True  True]\n",
      " [ True  True  True]\n",
      " [ True  True  True]]\n"
     ]
    },
    {
     "data": {
      "text/markdown": [
       "## Queda evienciado que A == TT es ."
      ],
      "text/plain": [
       "<IPython.core.display.Markdown object>"
      ]
     },
     "metadata": {},
     "output_type": "display_data"
    }
   ],
   "source": [
    "###############################################################################\n",
    "import math\n",
    "import numpy as np\n",
    "from matplotlib import pyplot as plt\n",
    "from mpl_toolkits.mplot3d import Axes3D\n",
    "from matplotlib import cm\n",
    "from IPython.display import display, Markdown\n",
    "\n",
    "\n",
    "a = np.array([ [1. , 2. , 3. ], [4. , 5. , 6. ] , [7. , 8. , 91.]])\n",
    "display(Markdown(\"## Matriz actual   A \"))\n",
    "print( a )\n",
    "print(\"-\"*20 )\n",
    "t = np.transpose(a)\n",
    "display(Markdown(\"## Matriz transpuesta   T \"))\n",
    "\n",
    "print( t )\n",
    "print(\"-\"*20 )\n",
    "\n",
    "tt = np.transpose(t)\n",
    "display(Markdown(\"## Matriz transpuesta nuevamente TT\"))\n",
    "print( tt )\n",
    "print(\"-\"*20 )\n",
    "print(\"\", np.equal( a, tt))\n",
    "display(Markdown(f\"## Queda evienciado que A == TT es .\")) \n",
    "\n"
   ]
  },
  {
   "cell_type": "markdown",
   "metadata": {
    "id": "0vqrQgnkLbjd"
   },
   "source": [
    "**1.2 (15 puntos)**\n",
    "\n",
    "- $\\left(AB\\right)^{T}=B^{T}A^{T}$\n"
   ]
  },
  {
   "cell_type": "code",
   "execution_count": 13,
   "metadata": {
    "id": "SAUMHGcULbje"
   },
   "outputs": [],
   "source": [
    "a = np.array([ [1. , 2. , 3. ], [4. , 5. , 6. ] , [7. , 8. , 91.]])\n",
    "\n",
    "b = np.transpose(t)\n",
    "\n"
   ]
  },
  {
   "cell_type": "markdown",
   "metadata": {
    "id": "bzGlNFctLbje"
   },
   "source": [
    "**1.3 (15 puntos)**\n",
    "\n",
    "Para este ejercicio, **proponga dos matrices de igual dimensionalidad**\n",
    "\n",
    "\n",
    "- $\\left(A+B\\right)^{T}=A^{T}+B^{T}$.\n"
   ]
  },
  {
   "cell_type": "code",
   "execution_count": null,
   "metadata": {
    "id": "BZNw2VJeLbje"
   },
   "outputs": [],
   "source": []
  },
  {
   "cell_type": "markdown",
   "metadata": {
    "id": "QJ6O85pM5Ns3"
   },
   "source": [
    "---\n",
    "\n",
    "**Pregunta 2**\n",
    "\n",
    "\n",
    "Un conjunto de vectores $\\left\\{ \\vec{x}_{1},\\vec{x}_{2},\\ldots,\\vec{x}_{n}\\right\\} \\in\\mathbb{R}^{m}$ se dice que es linealmente independiente, si ningún vector de tal conjunto puede ser representado como una combinación lineal del resto de vectores. De lo contrario, si uno de los vectores en tal conjunto puede ser representado como una combinación lineal del resto de vectores, entonces los vectores son linealmente dependientes, lo que se expresa como:\n",
    "\n",
    "\\begin{equation}\n",
    "\\vec{x}_{j}=\\sum_{i=1}^{n-1}\\alpha_{i}\\vec{x}_{i}\n",
    "\\end{equation}\n",
    "\n",
    "para cualquier conjunto de valores escalares $\\alpha_{1},\\ldots,\\alpha_{n-1}\\in\\mathbb{R}$ se dice que el vector $\\vec{x}_{j}\\in\\mathbb{R}^{m}$ es linealmente dependiente de los vectores $\\vec{x}_{i}$.\n"
   ]
  },
  {
   "cell_type": "markdown",
   "metadata": {
    "id": "xeBFxm2lLbjf"
   },
   "source": [
    "**2.1 (15 puntos)**\n",
    "\n",
    "Proponga una matriz $A\\in\\mathbb{R}^{4\\times 3}$, cuyos vectores columnas sean linealmente independientes, calcule su rango para mostrar que es de rango $3$ (puede utilizar matrix_rank).\n"
   ]
  },
  {
   "cell_type": "code",
   "execution_count": null,
   "metadata": {
    "id": "P6ACllRBLbjf"
   },
   "outputs": [],
   "source": []
  },
  {
   "cell_type": "markdown",
   "metadata": {
    "id": "JQjHxRy3Lbjf"
   },
   "source": [
    "**2.2 (15 puntos)**\n",
    "\n",
    "Ahora haga los cambios necesarios a su matriz de manera que pase a rango $2$."
   ]
  },
  {
   "cell_type": "code",
   "execution_count": null,
   "metadata": {
    "id": "hVFe_uTXLbjf"
   },
   "outputs": [],
   "source": []
  },
  {
   "cell_type": "markdown",
   "metadata": {
    "id": "JI-n2jnoLbjf"
   },
   "source": [
    "---\n",
    "\n",
    "**Pregunta 3 (25 puntos)**\n",
    "\n",
    "Utilizando el archivo \"Dataset_usar.csv\", haga:\n",
    "- Cargue el archivo.\n",
    "- Utilizando el modelo $Ax=b$\n",
    "    - Conforme la matriz $A$ con las primeras 8 columnas. ------->  ok\n",
    "    - Conforme el vector $b$ con la última columna de la derecha.  ------->  ok\n",
    "    - Calcule el vector de pesos ($x$), del tipo $A^{-1}b=x$  ------->  ok usando pinv\n",
    "    - Calcule un b_estimado con $A$ e $x$ ------->  no logro identificar como sacar el b_estimado para continuar\n",
    "    - Calcule la norma 2 de la diferencia entre b y b_estimado.\n",
    "    - Grafique b y b_estimado.\n",
    "\n"
   ]
  },
  {
   "cell_type": "code",
   "execution_count": 14,
   "metadata": {},
   "outputs": [
    {
     "name": "stdout",
     "output_type": "stream",
     "text": [
      "----------------------------------------\n",
      "Datos en dataFrame:\n",
      "   bias    Length  Diameter    Height     Whole   Shucked  Sex_Female  \\\n",
      "0     1  0.186567  0.155963  0.195652  0.011688  0.333333           0   \n",
      "1     1  0.813433  0.761468  0.826087  0.433327  0.333333           1   \n",
      "2     1  0.410448  0.376147  0.369565  0.074022  0.333333           1   \n",
      "3     1  0.537313  0.504587  0.500000  0.143085  0.333333           1   \n",
      "4     1  0.507463  0.495413  0.565217  0.146981  0.333333           0   \n",
      "\n",
      "   Sex_Masculine  Shellweight  \n",
      "0              1        0.010  \n",
      "1              0        0.435  \n",
      "2              0        0.068  \n",
      "3              0        0.096  \n",
      "4              1        0.144  \n"
     ]
    }
   ],
   "source": [
    "import matplotlib.pyplot as plt\n",
    "import numpy as np\n",
    "import pandas as pd\n",
    "\n",
    "\n",
    "separador = \"-\"*40\n",
    "archivo = \"Dataset_usar.csv\"\n",
    "\n",
    "# carga el archivo en pandas\n",
    "dataFrame = pd.read_csv(archivo, header = 0, delimiter=';')\n",
    "\n",
    "# guarda el nombre de las columnas en una lista\n",
    "colNames = dataFrame.columns\n",
    "\n",
    "# muestra los primeros elementos del dataFrame\n",
    "print(separador)\n",
    "print(\"Datos en dataFrame:\")\n",
    "print(dataFrame.head() )"
   ]
  },
  {
   "cell_type": "code",
   "execution_count": 15,
   "metadata": {
    "id": "_XRVJ6vZLbjg"
   },
   "outputs": [
    {
     "name": "stdout",
     "output_type": "stream",
     "text": [
      "saca las columnas de la matriz A\n",
      "saca la columna de la matriz B o el vector b\n",
      "verificacion....\n",
      "[1.         0.81343284 0.76146789 0.82608696 0.43332743 0.33333333\n",
      " 1.         0.        ]\n",
      "0.435\n",
      "genera la pseudo inversa\n",
      "procede a la multiplicación para ver los pesos del vector x\n",
      " \n",
      "Los valores de x son:  \n",
      "[-4.86806821e+09 -7.10562178e-02  2.04691410e-03  8.44010112e-02\n",
      "  8.93133383e-01 -7.68537327e-02  4.86806821e+09  4.86806821e+09]\n",
      "Se aplica la transpuesta de los valores de x  para sacar b_estimado \n",
      " \n",
      "----------------------------------------\n",
      " Valor definido  [0.01  0.435]\n",
      "----------------------------------------\n",
      " Valor estimado  [0.00796986 0.39447975]\n",
      "----------------------------------------\n",
      "----------------------------------------\n"
     ]
    }
   ],
   "source": [
    "# Convertir de pandas a numpy\n",
    "datos = pd.DataFrame(dataFrame).to_numpy()\n",
    "\n",
    "print(\"saca las columnas de la matriz A\")\n",
    "matriz_a = datos[:,0:8]\n",
    "\n",
    "print(\"saca la columna de la matriz B o el vector b\")\n",
    "matriz_b = datos[:,8]\n",
    "\n",
    "print(\"verificacion....\")\n",
    "print(matriz_a[1,:])\n",
    "print(matriz_b[1])\n",
    "\n",
    "print(\"genera la pseudo inversa\")\n",
    "\n",
    "inv_matriz_a = np.linalg.pinv(matriz_a)\n",
    "\n",
    "print(\"procede a la multiplicación para ver los pesos del vector x\")\n",
    "print(\" \")\n",
    "\n",
    "pesos_x = np.matmul(inv_matriz_a, matriz_b)\n",
    "\n",
    "print(\"Los valores de x son:  \")\n",
    "print(pesos_x)\n",
    "\n",
    "print(\"Se aplica la transpuesta de los valores de x  para sacar b_estimado \" )\n",
    "\n",
    "pesos_x_t = np.transpose(pesos_x)\n",
    "b_estimado = np.matmul(matriz_a, pesos_x_t)\n",
    "\n",
    "punto_b = matriz_b[0:2]\n",
    "punto_b_estimado =b_estimado[0:2]\n",
    "\n",
    "\n",
    "print(\" \")\n",
    "print(\"-\"*40)\n",
    "print(\" Valor definido \",punto_b)\n",
    "print(\"-\"*40)\n",
    "print(\" Valor estimado \", punto_b_estimado)\n",
    "print(\"-\"*40)\n",
    "print(\"-\"*40)\n",
    "\n",
    "# Establece la base del origen de cada vector\n",
    "# x = np.array([0.,0.] )\n",
    "# y = np.array([0.,0.] )\n",
    "\n",
    "# fig, ax = plt.subplots()\n",
    "\n",
    "# ax.quiver(x, y, punto_b, punto_b_estimado ,color=[\"r\",\"b\"],angles='xy', scale_units='xy', scale=1)\n",
    "\n",
    "# ax.axis([-0.2,1.,-0.2,1.])\n",
    "# ax.set_aspect('equal')\n",
    "# plt.show()\n",
    "\n",
    "# print(\"-\"*40)\n",
    "# print(\"-\"*40)\n",
    "\n",
    "# print(\" En el gráfico podemos apreciar que solo se muestra un solo vector,\" )\n",
    "# print(\"eso indica que ambos vectores  son colineales y van de la misma dirección\")\n"
   ]
  },
  {
   "cell_type": "code",
   "execution_count": 25,
   "metadata": {},
   "outputs": [
    {
     "name": "stdout",
     "output_type": "stream",
     "text": [
      "[0.01796986 0.82947975 0.13088719]\n",
      "[[0.01       0.435      0.068     ]\n",
      " [0.00796986 0.39447975 0.06288719]]\n"
     ]
    }
   ],
   "source": [
    "import matplotlib.pyplot as plt\n",
    "import numpy as np\n",
    "\n",
    "b1= matriz_b[0:3]\n",
    "\n",
    "\n",
    "b2= b_estimado[0:3]\n",
    "\n",
    "print (b1 + b2)\n",
    "\n",
    "\n",
    "mat_1 = np.array([b1])\n",
    "mat_2 = np.array([b2])\n",
    "print(np.concatenate((mat_1, mat_2)))\n"
   ]
  }
 ],
 "metadata": {
  "colab": {
   "provenance": []
  },
  "kernelspec": {
   "display_name": "venv (3.12.3)",
   "language": "python",
   "name": "python3"
  },
  "language_info": {
   "codemirror_mode": {
    "name": "ipython",
    "version": 3
   },
   "file_extension": ".py",
   "mimetype": "text/x-python",
   "name": "python",
   "nbconvert_exporter": "python",
   "pygments_lexer": "ipython3",
   "version": "3.12.3"
  }
 },
 "nbformat": 4,
 "nbformat_minor": 0
}
