{
 "cells": [
  {
   "cell_type": "markdown",
   "metadata": {
    "id": "GItxU96mTk16"
   },
   "source": [
    "# Matemática para Ciencia de los Datos\n",
    "# Trabajo Práctico 2\n",
    "\n",
    "Profesor: Juan Luis Crespo Mariño, basado en trabajo previo de Luis Alexánder Calvo Valverde\n",
    "\n",
    "Instituto Tecnológico de Costa Rica,\n",
    "\n",
    "Programa Ciencia de Datos\n",
    "\n",
    "---\n",
    "\n",
    "Fecha de entrega: Martes 5 de agosto, a más tardar a las 6:00 pm.\n",
    "\n",
    "Medio de entrega: Por medio del TEC-Digital.\n",
    "\n",
    "Entregables: Un archivo jupyter ( .IPYNB ).\n",
    "\n",
    "Estudiante(s):\n",
    "1. **Roberto Jose Baltodano**\n",
    "1. **Sergio D. Blanco**\n"
   ]
  },
  {
   "cell_type": "markdown",
   "metadata": {
    "id": "tgcoZAm82q8Y"
   },
   "source": [
    "\n",
    "---\n",
    "\n",
    "**Pregunta 1**\n",
    "\n",
    "Considerando que la transpuesta de una matriz es el resultado de cambiar las filas a columnas. Sea una matriz $A\\in\\mathbb{R}^{m\\times n}$, su transpuesta se escribe como $A^{T}\\in\\mathbb{R}^{n\\times m}$ y sus entradas están dadas por:\n",
    "\n",
    "\\begin{equation}\n",
    "\\left(A^{T}\\right)_{i,j}=A_{j,i}.\n",
    "\\end{equation}\n",
    "\n",
    "Proponga Usted dos matrices, $A\\in\\mathbb{R}^{4\\times 3}$ y $B\\in\\mathbb{R}^{3\\times 4}$ (no las busque en Internet, trate de proponer los valores por si mismo), y utilizando numpy muestre que las siguientes propiedades se cumplen con sus matrices propuestas.\n",
    "\n",
    "**Note** que ni A ni B son cuadradas, y no tienen las mismas dimensiones.\n"
   ]
  },
  {
   "cell_type": "markdown",
   "metadata": {
    "id": "rbGrfyjVLbjc"
   },
   "source": [
    "**1.1 (15 puntos)**\n",
    "\n",
    "- $\\left(A^{T}\\right)^{T}=A$\n"
   ]
  },
  {
   "cell_type": "code",
   "execution_count": 1,
   "metadata": {
    "id": "EXFrLVMBLbjd"
   },
   "outputs": [
    {
     "data": {
      "text/markdown": [
       "## Matriz actual   A "
      ],
      "text/plain": [
       "<IPython.core.display.Markdown object>"
      ]
     },
     "metadata": {},
     "output_type": "display_data"
    },
    {
     "name": "stdout",
     "output_type": "stream",
     "text": [
      "[[ 1.  2.  3.]\n",
      " [ 4.  5.  6.]\n",
      " [ 7.  8. 91.]]\n",
      "--------------------\n"
     ]
    },
    {
     "ename": "NameError",
     "evalue": "name 'A' is not defined",
     "output_type": "error",
     "traceback": [
      "\u001b[31m---------------------------------------------------------------------------\u001b[39m",
      "\u001b[31mNameError\u001b[39m                                 Traceback (most recent call last)",
      "\u001b[36mCell\u001b[39m\u001b[36m \u001b[39m\u001b[32mIn[1]\u001b[39m\u001b[32m, line 14\u001b[39m\n\u001b[32m     12\u001b[39m \u001b[38;5;28mprint\u001b[39m( a )\n\u001b[32m     13\u001b[39m \u001b[38;5;28mprint\u001b[39m(\u001b[33m\"\u001b[39m\u001b[33m-\u001b[39m\u001b[33m\"\u001b[39m*\u001b[32m20\u001b[39m )\n\u001b[32m---> \u001b[39m\u001b[32m14\u001b[39m t = np.transpose(\u001b[43mA\u001b[49m)\n\u001b[32m     15\u001b[39m display(Markdown(\u001b[33m\"\u001b[39m\u001b[33m## Matriz transpuesta   T \u001b[39m\u001b[33m\"\u001b[39m))\n\u001b[32m     17\u001b[39m \u001b[38;5;28mprint\u001b[39m( t )\n",
      "\u001b[31mNameError\u001b[39m: name 'A' is not defined"
     ]
    }
   ],
   "source": [
    "###############################################################################\n",
    "import math\n",
    "import numpy as np\n",
    "from matplotlib import pyplot as plt\n",
    "from mpl_toolkits.mplot3d import Axes3D\n",
    "from matplotlib import cm\n",
    "from IPython.display import display, Markdown\n",
    "\n",
    "\n",
    "a = np.array([ [1. , 2. , 3. ], [4. , 5. , 6. ] , [7. , 8. , 91.]])\n",
    "display(Markdown(\"## Matriz actual   A \"))\n",
    "print( a )\n",
    "print(\"-\"*20 )\n",
    "t = np.transpose(A)\n",
    "display(Markdown(\"## Matriz transpuesta   T \"))\n",
    "\n",
    "print( t )\n",
    "print(\"-\"*20 )\n",
    "\n",
    "tt = np.transpose(t)\n",
    "display(Markdown(\"## Matriz transpuesta nuevamente TT\"))\n",
    "print( tt )\n",
    "print(\"-\"*20 )\n",
    "print(\"\", np.equal( a, tt))\n",
    "display(Markdown(f\"## Queda evienciado que A == TT es .\")) \n",
    "\n"
   ]
  },
  {
   "cell_type": "markdown",
   "metadata": {
    "id": "0vqrQgnkLbjd"
   },
   "source": [
    "**1.2 (15 puntos)**\n",
    "\n",
    "- $\\left(AB\\right)^{T}=B^{T}A^{T}$\n"
   ]
  },
  {
   "cell_type": "code",
   "execution_count": null,
   "metadata": {
    "id": "SAUMHGcULbje"
   },
   "outputs": [],
   "source": [
    "a = np.array([ [1. , 2. , 3. ], [4. , 5. , 6. ] , [7. , 8. , 91.]])\n",
    "\n",
    "b = np.transpose(t)\n",
    "\n"
   ]
  },
  {
   "cell_type": "markdown",
   "metadata": {
    "id": "bzGlNFctLbje"
   },
   "source": [
    "**1.3 (15 puntos)**\n",
    "\n",
    "Para este ejercicio, **proponga dos matrices de igual dimensionalidad**\n",
    "\n",
    "\n",
    "- $\\left(A+B\\right)^{T}=A^{T}+B^{T}$.\n"
   ]
  },
  {
   "cell_type": "code",
   "execution_count": null,
   "metadata": {
    "id": "BZNw2VJeLbje"
   },
   "outputs": [],
   "source": []
  },
  {
   "cell_type": "markdown",
   "metadata": {
    "id": "QJ6O85pM5Ns3"
   },
   "source": [
    "---\n",
    "\n",
    "**Pregunta 2**\n",
    "\n",
    "\n",
    "Un conjunto de vectores $\\left\\{ \\vec{x}_{1},\\vec{x}_{2},\\ldots,\\vec{x}_{n}\\right\\} \\in\\mathbb{R}^{m}$ se dice que es linealmente independiente, si ningún vector de tal conjunto puede ser representado como una combinación lineal del resto de vectores. De lo contrario, si uno de los vectores en tal conjunto puede ser representado como una combinación lineal del resto de vectores, entonces los vectores son linealmente dependientes, lo que se expresa como:\n",
    "\n",
    "\\begin{equation}\n",
    "\\vec{x}_{j}=\\sum_{i=1}^{n-1}\\alpha_{i}\\vec{x}_{i}\n",
    "\\end{equation}\n",
    "\n",
    "para cualquier conjunto de valores escalares $\\alpha_{1},\\ldots,\\alpha_{n-1}\\in\\mathbb{R}$ se dice que el vector $\\vec{x}_{j}\\in\\mathbb{R}^{m}$ es linealmente dependiente de los vectores $\\vec{x}_{i}$.\n"
   ]
  },
  {
   "cell_type": "markdown",
   "metadata": {
    "id": "xeBFxm2lLbjf"
   },
   "source": [
    "**2.1 (15 puntos)**\n",
    "\n",
    "Proponga una matriz $A\\in\\mathbb{R}^{4\\times 3}$, cuyos vectores columnas sean linealmente independientes, calcule su rango para mostrar que es de rango $3$ (puede utilizar matrix_rank).\n"
   ]
  },
  {
   "cell_type": "code",
   "execution_count": null,
   "metadata": {
    "id": "P6ACllRBLbjf"
   },
   "outputs": [],
   "source": []
  },
  {
   "cell_type": "markdown",
   "metadata": {
    "id": "JQjHxRy3Lbjf"
   },
   "source": [
    "**2.2 (15 puntos)**\n",
    "\n",
    "Ahora haga los cambios necesarios a su matriz de manera que pase a rango $2$."
   ]
  },
  {
   "cell_type": "code",
   "execution_count": null,
   "metadata": {
    "id": "hVFe_uTXLbjf"
   },
   "outputs": [],
   "source": []
  },
  {
   "cell_type": "markdown",
   "metadata": {
    "id": "JI-n2jnoLbjf"
   },
   "source": [
    "---\n",
    "\n",
    "**Pregunta 3 (25 puntos)**\n",
    "\n",
    "Utilizando el archivo \"Dataset_usar.csv\", haga:\n",
    "- Cargue el archivo.\n",
    "- Utilizando el modelo $Ax=b$\n",
    "    - Conforme la matriz $A$ con las primeras 8 columnas. ------->  ok\n",
    "    - Conforme el vector $b$ con la última columna de la derecha.  ------->  ok\n",
    "    - Calcule el vector de pesos ($x$), del tipo $A^{-1}b=x$  ------->  ok usando pinv\n",
    "    - Calcule un b_estimado con $A$ e $x$ ------->  no logro identificar como sacar el b_estimado para continuar\n",
    "    - Calcule la norma 2 de la diferencia entre b y b_estimado.\n",
    "    - Grafique b y b_estimado.\n",
    "\n"
   ]
  },
  {
   "cell_type": "code",
   "execution_count": null,
   "metadata": {
    "id": "_XRVJ6vZLbjg"
   },
   "outputs": [],
   "source": [
    "import numpy as np\n",
    "import pandas as pd\n",
    "\n",
    "separador = \"-\"*40\n",
    "archivo = \"Datos_01.csv\"\n",
    "\n",
    "# carga el archivo en pandas\n",
    "dataFrame = pd.read_csv(archivo, header = 0, delimiter=';')\n",
    "\n",
    "# guarda el nombre de las columnas en una lista\n",
    "colNames = dataFrame.columns\n",
    "\n",
    "# muestra los primeros elementos del dataFrame\n",
    "print(separador)\n",
    "print(\"Datos en dataFrame:\")\n",
    "print(dataFrame.head() )\n",
    "\n",
    "# En cada vector columna hay un atributo\n",
    "# El atributo1 está en datos[:,0]\n",
    "# El atributo2 está en datos[:,1]\n",
    "# y así sucesivamente\n",
    "\n",
    "\n",
    "# Convertir de pandas a numpy\n",
    "datos = pd.DataFrame(dataFrame).to_numpy()\n",
    "\n",
    "matriz_a = datos[:,0:6]\n",
    "\n",
    "matriz_b = datos[:,8]\n",
    "\n",
    "columns = matriz_a.shape[]\n",
    "columns = matriz_b.shape[]"
   ]
  }
 ],
 "metadata": {
  "colab": {
   "provenance": []
  },
  "kernelspec": {
   "display_name": "venv (3.12.3)",
   "language": "python",
   "name": "python3"
  },
  "language_info": {
   "codemirror_mode": {
    "name": "ipython",
    "version": 3
   },
   "file_extension": ".py",
   "mimetype": "text/x-python",
   "name": "python",
   "nbconvert_exporter": "python",
   "pygments_lexer": "ipython3",
   "version": "3.12.3"
  }
 },
 "nbformat": 4,
 "nbformat_minor": 0
}
